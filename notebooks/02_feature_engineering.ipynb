{
 "cells": [
  {
   "cell_type": "code",
   "execution_count": 12,
   "id": "30f5e2f1",
   "metadata": {},
   "outputs": [
    {
     "name": "stderr",
     "output_type": "stream",
     "text": [
      "[nltk_data] Downloading package vader_lexicon to\n",
      "[nltk_data]     /Users/anushkachougule/nltk_data...\n",
      "[nltk_data]   Package vader_lexicon is already up-to-date!\n"
     ]
    },
    {
     "data": {
      "text/plain": [
       "True"
      ]
     },
     "execution_count": 12,
     "metadata": {},
     "output_type": "execute_result"
    }
   ],
   "source": [
    "import nltk\n",
    "nltk.download('vader_lexicon')"
   ]
  },
  {
   "cell_type": "code",
   "execution_count": 13,
   "id": "fe8634ef",
   "metadata": {},
   "outputs": [],
   "source": [
    "import pandas as pd\n",
    "from nltk.sentiment.vader import SentimentIntensityAnalyzer\n",
    "import textstat"
   ]
  },
  {
   "cell_type": "code",
   "execution_count": null,
   "id": "340b39d0",
   "metadata": {},
   "outputs": [
    {
     "name": "stdout",
     "output_type": "stream",
     "text": [
      "Loaded dataset: (15000, 146)\n"
     ]
    },
    {
     "name": "stderr",
     "output_type": "stream",
     "text": [
      "/var/folders/1n/k2rpq0810dl2zgrrw3bk2tlw0000gn/T/ipykernel_11125/3460963270.py:2: DtypeWarning: Columns (123,124,125,128,129,130,133) have mixed types. Specify dtype option on import or set low_memory=False.\n",
      "  df = pd.read_csv('data/cleaned_sample.csv')\n"
     ]
    }
   ],
   "source": [
    "# Load cleaned data\n",
    "df = pd.read_csv('../data/cleaned_sample.csv')\n",
    "print(f\"Loaded dataset: {df.shape}\")"
   ]
  },
  {
   "cell_type": "code",
   "execution_count": null,
   "id": "53671ca3",
   "metadata": {},
   "outputs": [],
   "source": [
    "# Initialize sentiment analyzer\n",
    "sid = SentimentIntensityAnalyzer()"
   ]
  },
  {
   "cell_type": "code",
   "execution_count": null,
   "id": "53c6b4a5",
   "metadata": {},
   "outputs": [
    {
     "name": "stdout",
     "output_type": "stream",
     "text": [
      "Calculating sentiment scores...\n"
     ]
    }
   ],
   "source": [
    "# Compute sentiment scores\n",
    "print(\"Calculating sentiment scores...\")\n",
    "df['sentiment_score'] = df['desc'].apply(lambda x: sid.polarity_scores(str(x))['compound'])\n"
   ]
  },
  {
   "cell_type": "code",
   "execution_count": null,
   "id": "55e68238",
   "metadata": {},
   "outputs": [
    {
     "name": "stdout",
     "output_type": "stream",
     "text": [
      "Calculating readability scores...\n"
     ]
    }
   ],
   "source": [
    "# Compute readability scores (Flesch Reading Ease)\n",
    "print(\"Calculating readability scores...\")\n",
    "df['readability_score'] = df['desc'].apply(lambda x: textstat.flesch_reading_ease(str(x)))\n"
   ]
  },
  {
   "cell_type": "code",
   "execution_count": null,
   "id": "7ba9e1e3",
   "metadata": {},
   "outputs": [
    {
     "name": "stdout",
     "output_type": "stream",
     "text": [
      "Calculating income-to-loan ratio...\n"
     ]
    }
   ],
   "source": [
    "# Compute income-to-loan ratio\n",
    "print(\"Calculating income-to-loan ratio...\")\n",
    "df['annual_inc'] = pd.to_numeric(df['annual_inc'], errors='coerce')\n",
    "df['loan_amnt'] = pd.to_numeric(df['loan_amnt'], errors='coerce')\n",
    "df['income_to_loan'] = df['annual_inc'] / df['loan_amnt']"
   ]
  },
  {
   "cell_type": "code",
   "execution_count": null,
   "id": "44e13d51",
   "metadata": {},
   "outputs": [
    {
     "name": "stdout",
     "output_type": "stream",
     "text": [
      "After dropping NaNs: (15000, 149)\n"
     ]
    }
   ],
   "source": [
    "# Drop rows with any resulting NaNs\n",
    "df = df.dropna(subset=['sentiment_score', 'readability_score', 'income_to_loan'])\n",
    "print(f\"After dropping NaNs: {df.shape}\")"
   ]
  },
  {
   "cell_type": "code",
   "execution_count": null,
   "id": "bb49a7cc",
   "metadata": {},
   "outputs": [
    {
     "name": "stdout",
     "output_type": "stream",
     "text": [
      "Saved dataset with features to: processed_with_features.csv\n"
     ]
    }
   ],
   "source": [
    "# Save processed data\n",
    "output_path = 'processed_with_features.csv'\n",
    "df.to_csv(output_path, index=False)\n",
    "print(f\"Saved dataset with features to: {output_path}\")"
   ]
  }
 ],
 "metadata": {
  "kernelspec": {
   "display_name": "venv",
   "language": "python",
   "name": "python3"
  },
  "language_info": {
   "codemirror_mode": {
    "name": "ipython",
    "version": 3
   },
   "file_extension": ".py",
   "mimetype": "text/x-python",
   "name": "python",
   "nbconvert_exporter": "python",
   "pygments_lexer": "ipython3",
   "version": "3.12.3"
  }
 },
 "nbformat": 4,
 "nbformat_minor": 5
}

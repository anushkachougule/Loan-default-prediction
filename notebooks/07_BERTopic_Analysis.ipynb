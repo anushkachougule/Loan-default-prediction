{
 "cells": [
  {
   "cell_type": "code",
   "execution_count": 2,
   "id": "dad2883a",
   "metadata": {},
   "outputs": [
    {
     "name": "stderr",
     "output_type": "stream",
     "text": [
      "/Users/anushkachougule/Desktop/inst750-final-project/venv/lib/python3.12/site-packages/tqdm/auto.py:21: TqdmWarning: IProgress not found. Please update jupyter and ipywidgets. See https://ipywidgets.readthedocs.io/en/stable/user_install.html\n",
      "  from .autonotebook import tqdm as notebook_tqdm\n"
     ]
    }
   ],
   "source": [
    "import pandas as pd\n",
    "from bertopic import BERTopic\n",
    "import matplotlib.pyplot as plt"
   ]
  },
  {
   "cell_type": "code",
   "execution_count": 4,
   "id": "0b8d3bcb",
   "metadata": {},
   "outputs": [
    {
     "name": "stdout",
     "output_type": "stream",
     "text": [
      "0    this loan is to refinance and consolidate cred...\n",
      "1    debt relief<br><br>   im looking for the end o...\n",
      "2    i am applying for a loan because i want to pay...\n",
      "3     consolidate credit cards and loans into one.<br>\n",
      "4    i am consolidating my high interest loans and ...\n",
      "Name: desc_clean, dtype: object\n"
     ]
    },
    {
     "name": "stderr",
     "output_type": "stream",
     "text": [
      "/var/folders/1n/k2rpq0810dl2zgrrw3bk2tlw0000gn/T/ipykernel_94116/1984744805.py:2: DtypeWarning: Columns (123,124,125,128,129,130,133) have mixed types. Specify dtype option on import or set low_memory=False.\n",
      "  df = pd.read_csv(\"../data/processed_with_bert_score.csv\")\n"
     ]
    }
   ],
   "source": [
    "# Load clean and processed dataset\n",
    "df = pd.read_csv(\"../data/processed_with_bert_score.csv\")\n",
    "\n",
    "# Basic cleaning (to make sure)\n",
    "df = df[df['desc'].notna()]\n",
    "df['desc_clean'] = df['desc'].str.replace(r\"Borrower added on \\d{2}/\\d{2}/\\d{2} >\", \"\", regex=True)\n",
    "df['desc_clean'] = df['desc_clean'].str.lower().str.strip()\n",
    "\n",
    "print(df['desc_clean'].head())"
   ]
  },
  {
   "cell_type": "code",
   "execution_count": 5,
   "id": "8ef7982c",
   "metadata": {},
   "outputs": [
    {
     "name": "stderr",
     "output_type": "stream",
     "text": [
      "2025-05-13 15:03:08,268 - BERTopic - Embedding - Transforming documents to embeddings.\n",
      "Batches: 100%|██████████| 468/468 [00:26<00:00, 17.81it/s]\n",
      "2025-05-13 15:03:35,648 - BERTopic - Embedding - Completed ✓\n",
      "2025-05-13 15:03:35,649 - BERTopic - Dimensionality - Fitting the dimensionality reduction algorithm\n",
      "2025-05-13 15:03:45,241 - BERTopic - Dimensionality - Completed ✓\n",
      "2025-05-13 15:03:45,242 - BERTopic - Cluster - Start clustering the reduced embeddings\n",
      "2025-05-13 15:03:45,577 - BERTopic - Cluster - Completed ✓\n",
      "2025-05-13 15:03:45,583 - BERTopic - Representation - Fine-tuning topics using representation models.\n",
      "2025-05-13 15:03:45,819 - BERTopic - Representation - Completed ✓\n"
     ]
    }
   ],
   "source": [
    "# Create BERTopic model\n",
    "topic_model = BERTopic(verbose=True)\n",
    "\n",
    "# Fit the model\n",
    "topics, probs = topic_model.fit_transform(df['desc_clean'])\n",
    "df['topic_id'] = topics\n"
   ]
  },
  {
   "cell_type": "code",
   "execution_count": 6,
   "id": "69b4c9ba",
   "metadata": {},
   "outputs": [
    {
     "data": {
      "text/html": [
       "<div>\n",
       "<style scoped>\n",
       "    .dataframe tbody tr th:only-of-type {\n",
       "        vertical-align: middle;\n",
       "    }\n",
       "\n",
       "    .dataframe tbody tr th {\n",
       "        vertical-align: top;\n",
       "    }\n",
       "\n",
       "    .dataframe thead th {\n",
       "        text-align: right;\n",
       "    }\n",
       "</style>\n",
       "<table border=\"1\" class=\"dataframe\">\n",
       "  <thead>\n",
       "    <tr style=\"text-align: right;\">\n",
       "      <th></th>\n",
       "      <th>Topic</th>\n",
       "      <th>Count</th>\n",
       "      <th>Name</th>\n",
       "      <th>Representation</th>\n",
       "      <th>Representative_Docs</th>\n",
       "    </tr>\n",
       "  </thead>\n",
       "  <tbody>\n",
       "    <tr>\n",
       "      <th>0</th>\n",
       "      <td>-1</td>\n",
       "      <td>6777</td>\n",
       "      <td>-1_my_to_and_the</td>\n",
       "      <td>[my, to, and, the, have, loan, this, credit, p...</td>\n",
       "      <td>[this loan is used to pay for two home improve...</td>\n",
       "    </tr>\n",
       "    <tr>\n",
       "      <th>1</th>\n",
       "      <td>0</td>\n",
       "      <td>315</td>\n",
       "      <td>0_business_equipment_expand_marketing</td>\n",
       "      <td>[business, equipment, expand, marketing, capit...</td>\n",
       "      <td>[this loan is for the expansion of my business...</td>\n",
       "    </tr>\n",
       "    <tr>\n",
       "      <th>2</th>\n",
       "      <td>1</td>\n",
       "      <td>297</td>\n",
       "      <td>1_consolidationbr_debt_consolidation_taxesbr</td>\n",
       "      <td>[consolidationbr, debt, consolidation, taxesbr...</td>\n",
       "      <td>[debt consolidation&lt;br&gt;, debt consolidation&lt;br...</td>\n",
       "    </tr>\n",
       "    <tr>\n",
       "      <th>3</th>\n",
       "      <td>2</td>\n",
       "      <td>188</td>\n",
       "      <td>2_club_lending_loan_rate</td>\n",
       "      <td>[club, lending, loan, rate, with, great, clubb...</td>\n",
       "      <td>[the lending club loan is to pay off all credi...</td>\n",
       "    </tr>\n",
       "    <tr>\n",
       "      <th>4</th>\n",
       "      <td>3</td>\n",
       "      <td>170</td>\n",
       "      <td>3_interest_high_want_cards</td>\n",
       "      <td>[interest, high, want, cards, rate, like, rate...</td>\n",
       "      <td>[would like to pay off high interest rate cred...</td>\n",
       "    </tr>\n",
       "    <tr>\n",
       "      <th>5</th>\n",
       "      <td>4</td>\n",
       "      <td>158</td>\n",
       "      <td>4_home_improvements_improvement_garage</td>\n",
       "      <td>[home, improvements, improvement, garage, kitc...</td>\n",
       "      <td>[the loan is going to be used for home improve...</td>\n",
       "    </tr>\n",
       "    <tr>\n",
       "      <th>6</th>\n",
       "      <td>5</td>\n",
       "      <td>155</td>\n",
       "      <td>5_funds_these_use_plan</td>\n",
       "      <td>[funds, these, use, plan, stable, job, borrowe...</td>\n",
       "      <td>[the funds will be use to consolidate credit c...</td>\n",
       "    </tr>\n",
       "    <tr>\n",
       "      <th>7</th>\n",
       "      <td>6</td>\n",
       "      <td>125</td>\n",
       "      <td>6_consolidate_card_loan_is</td>\n",
       "      <td>[consolidate, card, loan, is, used, debtbr, co...</td>\n",
       "      <td>[this loan will be used to consolidate credit ...</td>\n",
       "    </tr>\n",
       "    <tr>\n",
       "      <th>8</th>\n",
       "      <td>7</td>\n",
       "      <td>118</td>\n",
       "      <td>7_vehicle_car_purchase_jeep</td>\n",
       "      <td>[vehicle, car, purchase, jeep, reliable, carbr...</td>\n",
       "      <td>[i would like to get a small loan to purchase ...</td>\n",
       "    </tr>\n",
       "    <tr>\n",
       "      <th>9</th>\n",
       "      <td>8</td>\n",
       "      <td>115</td>\n",
       "      <td>8_consolidate_credit_card_cardsbr</td>\n",
       "      <td>[consolidate, credit, card, cardsbr, high, med...</td>\n",
       "      <td>[to consolidate some high interest credit card...</td>\n",
       "    </tr>\n",
       "  </tbody>\n",
       "</table>\n",
       "</div>"
      ],
      "text/plain": [
       "   Topic  Count                                          Name  \\\n",
       "0     -1   6777                              -1_my_to_and_the   \n",
       "1      0    315         0_business_equipment_expand_marketing   \n",
       "2      1    297  1_consolidationbr_debt_consolidation_taxesbr   \n",
       "3      2    188                      2_club_lending_loan_rate   \n",
       "4      3    170                    3_interest_high_want_cards   \n",
       "5      4    158        4_home_improvements_improvement_garage   \n",
       "6      5    155                        5_funds_these_use_plan   \n",
       "7      6    125                    6_consolidate_card_loan_is   \n",
       "8      7    118                   7_vehicle_car_purchase_jeep   \n",
       "9      8    115             8_consolidate_credit_card_cardsbr   \n",
       "\n",
       "                                      Representation  \\\n",
       "0  [my, to, and, the, have, loan, this, credit, p...   \n",
       "1  [business, equipment, expand, marketing, capit...   \n",
       "2  [consolidationbr, debt, consolidation, taxesbr...   \n",
       "3  [club, lending, loan, rate, with, great, clubb...   \n",
       "4  [interest, high, want, cards, rate, like, rate...   \n",
       "5  [home, improvements, improvement, garage, kitc...   \n",
       "6  [funds, these, use, plan, stable, job, borrowe...   \n",
       "7  [consolidate, card, loan, is, used, debtbr, co...   \n",
       "8  [vehicle, car, purchase, jeep, reliable, carbr...   \n",
       "9  [consolidate, credit, card, cardsbr, high, med...   \n",
       "\n",
       "                                 Representative_Docs  \n",
       "0  [this loan is used to pay for two home improve...  \n",
       "1  [this loan is for the expansion of my business...  \n",
       "2  [debt consolidation<br>, debt consolidation<br...  \n",
       "3  [the lending club loan is to pay off all credi...  \n",
       "4  [would like to pay off high interest rate cred...  \n",
       "5  [the loan is going to be used for home improve...  \n",
       "6  [the funds will be use to consolidate credit c...  \n",
       "7  [this loan will be used to consolidate credit ...  \n",
       "8  [i would like to get a small loan to purchase ...  \n",
       "9  [to consolidate some high interest credit card...  "
      ]
     },
     "execution_count": 6,
     "metadata": {},
     "output_type": "execute_result"
    }
   ],
   "source": [
    "# View top 10 topics and their keywords\n",
    "topic_model.get_topic_info().head(10)"
   ]
  },
  {
   "cell_type": "code",
   "execution_count": 7,
   "id": "538ec297",
   "metadata": {},
   "outputs": [
    {
     "name": "stdout",
     "output_type": "stream",
     "text": [
      "Total topics generated: 199\n"
     ]
    }
   ],
   "source": [
    "# Number of topics generated by BERTopic\n",
    "num_topics = df['topic_id'].nunique()\n",
    "print(f\"Total topics generated: {num_topics}\")"
   ]
  },
  {
   "cell_type": "code",
   "execution_count": 8,
   "id": "ec955e32",
   "metadata": {},
   "outputs": [
    {
     "name": "stderr",
     "output_type": "stream",
     "text": [
      "2025-05-13 15:03:53,911 - BERTopic - Topic reduction - Reducing number of topics\n",
      "2025-05-13 15:03:53,933 - BERTopic - Representation - Fine-tuning topics using representation models.\n",
      "2025-05-13 15:03:54,137 - BERTopic - Representation - Completed ✓\n",
      "2025-05-13 15:03:54,139 - BERTopic - Topic reduction - Reduced number of topics from 199 to 40\n"
     ]
    }
   ],
   "source": [
    "# Reduce to 40 broader topics\n",
    "topic_model = topic_model.reduce_topics(df['desc_clean'], nr_topics=40)"
   ]
  },
  {
   "cell_type": "code",
   "execution_count": 9,
   "id": "321c8938",
   "metadata": {},
   "outputs": [
    {
     "name": "stderr",
     "output_type": "stream",
     "text": [
      "Batches: 100%|██████████| 468/468 [00:21<00:00, 22.23it/s]\n",
      "2025-05-13 15:04:17,429 - BERTopic - Dimensionality - Reducing dimensionality of input embeddings.\n",
      "2025-05-13 15:04:17,566 - BERTopic - Dimensionality - Completed ✓\n",
      "2025-05-13 15:04:17,567 - BERTopic - Clustering - Approximating new points with `hdbscan_model`\n",
      "2025-05-13 15:04:17,850 - BERTopic - Cluster - Completed ✓\n"
     ]
    }
   ],
   "source": [
    "# Re-assign reduced topic IDs\n",
    "df['reduced_topic_id'] = topic_model.transform(df['desc_clean'])[0]\n"
   ]
  },
  {
   "cell_type": "code",
   "execution_count": 10,
   "id": "5d0c0ef2",
   "metadata": {},
   "outputs": [
    {
     "name": "stdout",
     "output_type": "stream",
     "text": [
      "Reduced topic count: 40\n"
     ]
    }
   ],
   "source": [
    "# Number of topics after reduction\n",
    "num_reduced = df['reduced_topic_id'].nunique()\n",
    "print(f\"Reduced topic count: {num_reduced}\")"
   ]
  },
  {
   "cell_type": "code",
   "execution_count": 11,
   "id": "964da77b",
   "metadata": {},
   "outputs": [
    {
     "data": {
      "text/html": [
       "<div>\n",
       "<style scoped>\n",
       "    .dataframe tbody tr th:only-of-type {\n",
       "        vertical-align: middle;\n",
       "    }\n",
       "\n",
       "    .dataframe tbody tr th {\n",
       "        vertical-align: top;\n",
       "    }\n",
       "\n",
       "    .dataframe thead th {\n",
       "        text-align: right;\n",
       "    }\n",
       "</style>\n",
       "<table border=\"1\" class=\"dataframe\">\n",
       "  <thead>\n",
       "    <tr style=\"text-align: right;\">\n",
       "      <th></th>\n",
       "      <th>Topic</th>\n",
       "      <th>Count</th>\n",
       "      <th>Name</th>\n",
       "      <th>Representation</th>\n",
       "      <th>Representative_Docs</th>\n",
       "    </tr>\n",
       "  </thead>\n",
       "  <tbody>\n",
       "    <tr>\n",
       "      <th>0</th>\n",
       "      <td>-1</td>\n",
       "      <td>6777</td>\n",
       "      <td>-1_to_my_and_the</td>\n",
       "      <td>[to, my, and, the, credit, loan, have, pay, th...</td>\n",
       "      <td>[i will use the loan to consolidate my high in...</td>\n",
       "    </tr>\n",
       "    <tr>\n",
       "      <th>1</th>\n",
       "      <td>0</td>\n",
       "      <td>2133</td>\n",
       "      <td>0_consolidationbr_debt_consolidate_consolidation</td>\n",
       "      <td>[consolidationbr, debt, consolidate, consolida...</td>\n",
       "      <td>[i would like to consolidate all my debt into ...</td>\n",
       "    </tr>\n",
       "    <tr>\n",
       "      <th>2</th>\n",
       "      <td>1</td>\n",
       "      <td>1521</td>\n",
       "      <td>1_loan_my_to_this</td>\n",
       "      <td>[loan, my, to, this, the, is, and, for, of, have]</td>\n",
       "      <td>[the purpose of the loan is to cosolidate my d...</td>\n",
       "    </tr>\n",
       "    <tr>\n",
       "      <th>3</th>\n",
       "      <td>2</td>\n",
       "      <td>876</td>\n",
       "      <td>2_cardsbr_off_pay_credit</td>\n",
       "      <td>[cardsbr, off, pay, credit, high, card, intere...</td>\n",
       "      <td>[pay off high interest credit card&lt;br&gt;, pay of...</td>\n",
       "    </tr>\n",
       "    <tr>\n",
       "      <th>4</th>\n",
       "      <td>3</td>\n",
       "      <td>624</td>\n",
       "      <td>3_pay_credit_off_cards</td>\n",
       "      <td>[pay, credit, off, cards, want, to, like, woul...</td>\n",
       "      <td>[i have three credit cards i want to pay off a...</td>\n",
       "    </tr>\n",
       "    <tr>\n",
       "      <th>5</th>\n",
       "      <td>4</td>\n",
       "      <td>376</td>\n",
       "      <td>4_loan_for_home_the</td>\n",
       "      <td>[loan, for, home, the, car, is, to, vehicle, t...</td>\n",
       "      <td>[we are in the process of buying a home for th...</td>\n",
       "    </tr>\n",
       "    <tr>\n",
       "      <th>6</th>\n",
       "      <td>5</td>\n",
       "      <td>338</td>\n",
       "      <td>5_funds_use_my_plan</td>\n",
       "      <td>[funds, use, my, plan, to, job, debt, and, hav...</td>\n",
       "      <td>[i have a stable, good paying job at a very go...</td>\n",
       "    </tr>\n",
       "    <tr>\n",
       "      <th>7</th>\n",
       "      <td>6</td>\n",
       "      <td>334</td>\n",
       "      <td>6_consolidate_to_pay_credit</td>\n",
       "      <td>[consolidate, to, pay, credit, off, high, inte...</td>\n",
       "      <td>[to consolidate my credit card debt and pay it...</td>\n",
       "    </tr>\n",
       "    <tr>\n",
       "      <th>8</th>\n",
       "      <td>7</td>\n",
       "      <td>315</td>\n",
       "      <td>7_business_the_in_for</td>\n",
       "      <td>[business, the, in, for, and, of, will, to, eq...</td>\n",
       "      <td>[this is for business purposes - it would not ...</td>\n",
       "    </tr>\n",
       "    <tr>\n",
       "      <th>9</th>\n",
       "      <td>8</td>\n",
       "      <td>153</td>\n",
       "      <td>8_refinance_refinancingbr_card_credit</td>\n",
       "      <td>[refinance, refinancingbr, card, credit, refin...</td>\n",
       "      <td>[refinance credit cards at a lower interest ra...</td>\n",
       "    </tr>\n",
       "  </tbody>\n",
       "</table>\n",
       "</div>"
      ],
      "text/plain": [
       "   Topic  Count                                              Name  \\\n",
       "0     -1   6777                                  -1_to_my_and_the   \n",
       "1      0   2133  0_consolidationbr_debt_consolidate_consolidation   \n",
       "2      1   1521                                 1_loan_my_to_this   \n",
       "3      2    876                          2_cardsbr_off_pay_credit   \n",
       "4      3    624                            3_pay_credit_off_cards   \n",
       "5      4    376                               4_loan_for_home_the   \n",
       "6      5    338                               5_funds_use_my_plan   \n",
       "7      6    334                       6_consolidate_to_pay_credit   \n",
       "8      7    315                             7_business_the_in_for   \n",
       "9      8    153             8_refinance_refinancingbr_card_credit   \n",
       "\n",
       "                                      Representation  \\\n",
       "0  [to, my, and, the, credit, loan, have, pay, th...   \n",
       "1  [consolidationbr, debt, consolidate, consolida...   \n",
       "2  [loan, my, to, this, the, is, and, for, of, have]   \n",
       "3  [cardsbr, off, pay, credit, high, card, intere...   \n",
       "4  [pay, credit, off, cards, want, to, like, woul...   \n",
       "5  [loan, for, home, the, car, is, to, vehicle, t...   \n",
       "6  [funds, use, my, plan, to, job, debt, and, hav...   \n",
       "7  [consolidate, to, pay, credit, off, high, inte...   \n",
       "8  [business, the, in, for, and, of, will, to, eq...   \n",
       "9  [refinance, refinancingbr, card, credit, refin...   \n",
       "\n",
       "                                 Representative_Docs  \n",
       "0  [i will use the loan to consolidate my high in...  \n",
       "1  [i would like to consolidate all my debt into ...  \n",
       "2  [the purpose of the loan is to cosolidate my d...  \n",
       "3  [pay off high interest credit card<br>, pay of...  \n",
       "4  [i have three credit cards i want to pay off a...  \n",
       "5  [we are in the process of buying a home for th...  \n",
       "6  [i have a stable, good paying job at a very go...  \n",
       "7  [to consolidate my credit card debt and pay it...  \n",
       "8  [this is for business purposes - it would not ...  \n",
       "9  [refinance credit cards at a lower interest ra...  "
      ]
     },
     "execution_count": 11,
     "metadata": {},
     "output_type": "execute_result"
    }
   ],
   "source": [
    "# View dataset\n",
    "topic_model.get_topic_info().head(10)"
   ]
  },
  {
   "cell_type": "code",
   "execution_count": 12,
   "id": "4d20352e",
   "metadata": {},
   "outputs": [
    {
     "data": {
      "text/html": [
       "<div>\n",
       "<style scoped>\n",
       "    .dataframe tbody tr th:only-of-type {\n",
       "        vertical-align: middle;\n",
       "    }\n",
       "\n",
       "    .dataframe tbody tr th {\n",
       "        vertical-align: top;\n",
       "    }\n",
       "\n",
       "    .dataframe thead th {\n",
       "        text-align: right;\n",
       "    }\n",
       "</style>\n",
       "<table border=\"1\" class=\"dataframe\">\n",
       "  <thead>\n",
       "    <tr style=\"text-align: right;\">\n",
       "      <th></th>\n",
       "      <th>reduced_topic_id</th>\n",
       "      <th>count</th>\n",
       "      <th>default_rate</th>\n",
       "      <th>avg_bert_risk</th>\n",
       "    </tr>\n",
       "  </thead>\n",
       "  <tbody>\n",
       "    <tr>\n",
       "      <th>8</th>\n",
       "      <td>7</td>\n",
       "      <td>315</td>\n",
       "      <td>0.517460</td>\n",
       "      <td>0.501566</td>\n",
       "    </tr>\n",
       "    <tr>\n",
       "      <th>14</th>\n",
       "      <td>13</td>\n",
       "      <td>90</td>\n",
       "      <td>0.400000</td>\n",
       "      <td>0.351200</td>\n",
       "    </tr>\n",
       "    <tr>\n",
       "      <th>18</th>\n",
       "      <td>17</td>\n",
       "      <td>70</td>\n",
       "      <td>0.400000</td>\n",
       "      <td>0.404057</td>\n",
       "    </tr>\n",
       "    <tr>\n",
       "      <th>17</th>\n",
       "      <td>16</td>\n",
       "      <td>70</td>\n",
       "      <td>0.385714</td>\n",
       "      <td>0.343284</td>\n",
       "    </tr>\n",
       "    <tr>\n",
       "      <th>10</th>\n",
       "      <td>9</td>\n",
       "      <td>134</td>\n",
       "      <td>0.373134</td>\n",
       "      <td>0.361033</td>\n",
       "    </tr>\n",
       "    <tr>\n",
       "      <th>13</th>\n",
       "      <td>12</td>\n",
       "      <td>101</td>\n",
       "      <td>0.366337</td>\n",
       "      <td>0.351784</td>\n",
       "    </tr>\n",
       "    <tr>\n",
       "      <th>39</th>\n",
       "      <td>38</td>\n",
       "      <td>11</td>\n",
       "      <td>0.363636</td>\n",
       "      <td>0.227996</td>\n",
       "    </tr>\n",
       "    <tr>\n",
       "      <th>27</th>\n",
       "      <td>26</td>\n",
       "      <td>33</td>\n",
       "      <td>0.363636</td>\n",
       "      <td>0.263312</td>\n",
       "    </tr>\n",
       "    <tr>\n",
       "      <th>36</th>\n",
       "      <td>35</td>\n",
       "      <td>14</td>\n",
       "      <td>0.357143</td>\n",
       "      <td>0.144837</td>\n",
       "    </tr>\n",
       "    <tr>\n",
       "      <th>1</th>\n",
       "      <td>0</td>\n",
       "      <td>2133</td>\n",
       "      <td>0.352555</td>\n",
       "      <td>0.341459</td>\n",
       "    </tr>\n",
       "  </tbody>\n",
       "</table>\n",
       "</div>"
      ],
      "text/plain": [
       "    reduced_topic_id  count  default_rate  avg_bert_risk\n",
       "8                  7    315      0.517460       0.501566\n",
       "14                13     90      0.400000       0.351200\n",
       "18                17     70      0.400000       0.404057\n",
       "17                16     70      0.385714       0.343284\n",
       "10                 9    134      0.373134       0.361033\n",
       "13                12    101      0.366337       0.351784\n",
       "39                38     11      0.363636       0.227996\n",
       "27                26     33      0.363636       0.263312\n",
       "36                35     14      0.357143       0.144837\n",
       "1                  0   2133      0.352555       0.341459"
      ]
     },
     "execution_count": 12,
     "metadata": {},
     "output_type": "execute_result"
    }
   ],
   "source": [
    "# Group topic-level statistics\n",
    "topic_risk_summary = df.groupby('reduced_topic_id').agg(\n",
    "    count=('reduced_topic_id', 'size'),\n",
    "    default_rate=('loan_status_binary', 'mean'),\n",
    "    avg_bert_risk=('bert_risk_score', 'mean')\n",
    ").reset_index()\n",
    "\n",
    "# Sort by default rate\n",
    "topic_risk_summary = topic_risk_summary.sort_values('default_rate', ascending=False)\n",
    "\n",
    "topic_risk_summary.head(10)\n"
   ]
  },
  {
   "cell_type": "code",
   "execution_count": 13,
   "id": "abeb5930",
   "metadata": {},
   "outputs": [
    {
     "data": {
      "image/png": "[encoded data removed]",
      "text/plain": [
       "<Figure size 1200x700 with 1 Axes>"
      ]
     },
     "metadata": {},
     "output_type": "display_data"
    }
   ],
   "source": [
    "# Get keywords for each topic\n",
    "def get_keywords(topic_id):\n",
    "    keywords = topic_model.get_topic(topic_id)\n",
    "    return \", \".join([kw for kw, _ in keywords[:3]])\n",
    "\n",
    "# Add to summary DataFrame\n",
    "topic_risk_summary['keywords'] = topic_risk_summary['reduced_topic_id'].apply(get_keywords)\n",
    "\n",
    "# Sort by default rate\n",
    "top_risky_topics = topic_risk_summary.sort_values('default_rate', ascending=False).head(10)\n",
    "\n",
    "# Plot\n",
    "plt.figure(figsize=(12, 7))\n",
    "plt.barh(top_risky_topics['keywords'], top_risky_topics['default_rate'], color='crimson')\n",
    "plt.xlabel(\"Default Rate\")\n",
    "plt.ylabel(\"Topic Keywords\")\n",
    "plt.title(\"Top 10 Risky Topics by Default Rate\")\n",
    "plt.gca().invert_yaxis()\n",
    "plt.tight_layout()\n",
    "plt.show()\n",
    "\n"
   ]
  },
  {
   "cell_type": "markdown",
   "id": "fb480311",
   "metadata": {},
   "source": [
    "The above bar chart shows the 10 topic clusters (from BERTopic) with the highest average default rates.\n",
    "\n",
    "- **\"Business financing\"**, **\"paying bills\"**, and **\"home improvement\"** themes appear consistently across the riskiest clusters.\n",
    "- Narratives mentioning **medical bills**, **moving expenses**, or **school-related reasons** also show high risk — suggesting potential financial instability.\n",
    "- Each topic is labeled by its top 3 keywords, making it easier to interpret borrower intent.\n",
    "\n",
    "This plot highlights the value of unsupervised topic modeling for uncovering hidden patterns in borrower motivations and linking them to financial risk."
   ]
  },
  {
   "cell_type": "code",
   "execution_count": 14,
   "id": "92d3dc18",
   "metadata": {},
   "outputs": [
    {
     "ename": "ValueError",
     "evalue": "Mime type rendering requires nbformat>=4.2.0 but it is not installed",
     "output_type": "error",
     "traceback": [
      "\u001b[31m---------------------------------------------------------------------------\u001b[39m",
      "\u001b[31mValueError\u001b[39m                                Traceback (most recent call last)",
      "\u001b[36mFile \u001b[39m\u001b[32m~/Desktop/inst750-final-project/venv/lib/python3.12/site-packages/IPython/core/formatters.py:984\u001b[39m, in \u001b[36mIPythonDisplayFormatter.__call__\u001b[39m\u001b[34m(self, obj)\u001b[39m\n\u001b[32m    982\u001b[39m method = get_real_method(obj, \u001b[38;5;28mself\u001b[39m.print_method)\n\u001b[32m    983\u001b[39m \u001b[38;5;28;01mif\u001b[39;00m method \u001b[38;5;129;01mis\u001b[39;00m \u001b[38;5;129;01mnot\u001b[39;00m \u001b[38;5;28;01mNone\u001b[39;00m:\n\u001b[32m--> \u001b[39m\u001b[32m984\u001b[39m     \u001b[43mmethod\u001b[49m\u001b[43m(\u001b[49m\u001b[43m)\u001b[49m\n\u001b[32m    985\u001b[39m     \u001b[38;5;28;01mreturn\u001b[39;00m \u001b[38;5;28;01mTrue\u001b[39;00m\n",
      "\u001b[36mFile \u001b[39m\u001b[32m~/Desktop/inst750-final-project/venv/lib/python3.12/site-packages/plotly/basedatatypes.py:833\u001b[39m, in \u001b[36mBaseFigure._ipython_display_\u001b[39m\u001b[34m(self)\u001b[39m\n\u001b[32m    830\u001b[39m \u001b[38;5;28;01mimport\u001b[39;00m\u001b[38;5;250m \u001b[39m\u001b[34;01mplotly\u001b[39;00m\u001b[34;01m.\u001b[39;00m\u001b[34;01mio\u001b[39;00m\u001b[38;5;250m \u001b[39m\u001b[38;5;28;01mas\u001b[39;00m\u001b[38;5;250m \u001b[39m\u001b[34;01mpio\u001b[39;00m\n\u001b[32m    832\u001b[39m \u001b[38;5;28;01mif\u001b[39;00m pio.renderers.render_on_display \u001b[38;5;129;01mand\u001b[39;00m pio.renderers.default:\n\u001b[32m--> \u001b[39m\u001b[32m833\u001b[39m     \u001b[43mpio\u001b[49m\u001b[43m.\u001b[49m\u001b[43mshow\u001b[49m\u001b[43m(\u001b[49m\u001b[38;5;28;43mself\u001b[39;49m\u001b[43m)\u001b[49m\n\u001b[32m    834\u001b[39m \u001b[38;5;28;01melse\u001b[39;00m:\n\u001b[32m    835\u001b[39m     \u001b[38;5;28mprint\u001b[39m(\u001b[38;5;28mrepr\u001b[39m(\u001b[38;5;28mself\u001b[39m))\n",
      "\u001b[36mFile \u001b[39m\u001b[32m~/Desktop/inst750-final-project/venv/lib/python3.12/site-packages/plotly/io/_renderers.py:425\u001b[39m, in \u001b[36mshow\u001b[39m\u001b[34m(fig, renderer, validate, **kwargs)\u001b[39m\n\u001b[32m    420\u001b[39m     \u001b[38;5;28;01mraise\u001b[39;00m \u001b[38;5;167;01mValueError\u001b[39;00m(\n\u001b[32m    421\u001b[39m         \u001b[33m\"\u001b[39m\u001b[33mMime type rendering requires ipython but it is not installed\u001b[39m\u001b[33m\"\u001b[39m\n\u001b[32m    422\u001b[39m     )\n\u001b[32m    424\u001b[39m \u001b[38;5;28;01mif\u001b[39;00m \u001b[38;5;129;01mnot\u001b[39;00m nbformat \u001b[38;5;129;01mor\u001b[39;00m Version(nbformat.__version__) < Version(\u001b[33m\"\u001b[39m\u001b[33m4.2.0\u001b[39m\u001b[33m\"\u001b[39m):\n\u001b[32m--> \u001b[39m\u001b[32m425\u001b[39m     \u001b[38;5;28;01mraise\u001b[39;00m \u001b[38;5;167;01mValueError\u001b[39;00m(\n\u001b[32m    426\u001b[39m         \u001b[33m\"\u001b[39m\u001b[33mMime type rendering requires nbformat>=4.2.0 but it is not installed\u001b[39m\u001b[33m\"\u001b[39m\n\u001b[32m    427\u001b[39m     )\n\u001b[32m    429\u001b[39m display_jupyter_version_warnings()\n\u001b[32m    431\u001b[39m ipython_display.display(bundle, raw=\u001b[38;5;28;01mTrue\u001b[39;00m)\n",
      "\u001b[31mValueError\u001b[39m: Mime type rendering requires nbformat>=4.2.0 but it is not installed"
     ]
    },
    {
     "data": {
      "application/vnd.plotly.v1+json": {
       "config": {
        "plotlyServerURL": "https://plot.ly"
       },
       "data": [
        {
         "customdata": [
          [
           0,
           "consolidationbr | debt | consolidate | consolidation | credit",
           2133
          ],
          [
           1,
           "loan | my | to | this | the",
           1521
          ],
          [
           2,
           "cardsbr | off | pay | credit | high",
           876
          ],
          [
           3,
           "pay | credit | off | cards | want",
           624
          ],
          [
           4,
           "loan | for | home | the | car",
           376
          ],
          [
           5,
           "funds | use | my | plan | to",
           338
          ],
          [
           6,
           "consolidate | to | pay | credit | off",
           334
          ],
          [
           7,
           "business | the | in | for | and",
           315
          ],
          [
           8,
           "refinance | refinancingbr | card | credit | refinancing",
           153
          ],
          [
           9,
           "medical | surgery | insurance | not | for",
           134
          ],
          [
           10,
           "wedding | our | for | the | we",
           133
          ],
          [
           11,
           "pool | poolbr | swimming | inground | we",
           104
          ],
          [
           12,
           "home | improvementbr | improvementsbr | improvement | house",
           101
          ],
          [
           13,
           "moving | apartment | move | need | deposit",
           90
          ],
          [
           14,
           "added | on | have | my | for",
           81
          ],
          [
           15,
           "never | late | payment | have | missed",
           75
          ],
          [
           16,
           "thank | thanksbr | youbr | you | email",
           70
          ],
          [
           17,
           "billsbr | bill | consolidate | consolidationbr | bills",
           70
          ],
          [
           18,
           "medical | billsbr | consolidation | hospital | bills",
           57
          ],
          [
           19,
           "kitchen | bathroom | remodel | remodeling | bathroombr",
           57
          ],
          [
           20,
           "consolidationbr | debit | dept | consolidation | consolidatebr",
           57
          ],
          [
           21,
           "land | property | funds | in | for",
           55
          ],
          [
           22,
           "car | purchase | truck | vehiclebr | buy",
           50
          ],
          [
           23,
           "irs | 401k | tax | taxes | the",
           48
          ],
          [
           24,
           "vacation | vacationbr | family | take | see",
           42
          ],
          [
           25,
           "roof | new | roofbr | replace | need",
           35
          ],
          [
           26,
           "her | she | school | tuition | attend",
           33
          ],
          [
           27,
           "boat | boatbr | purchase | motor | we",
           29
          ],
          [
           28,
           "taxesbr | taxes | taxesbrbr | tax | irs",
           26
          ],
          [
           29,
           "ring | engagement | girlfriend | an | wedding",
           25
          ],
          [
           30,
           "same | job | for | company | worked",
           24
          ],
          [
           31,
           "repairsbr | car | auto | repair | carbr",
           22
          ],
          [
           32,
           "motorcycle | davidson | harley | miles | bike",
           20
          ],
          [
           33,
           "fence | patio | wooden | yard | water",
           18
          ],
          [
           34,
           "unit | air | panel | there | conditioning",
           17
          ],
          [
           35,
           "together | wedding | our | weddingbr | fianceacute",
           14
          ],
          [
           36,
           "trailerbr | carbr | motorbr | atvbr | chev",
           13
          ],
          [
           37,
           "citi | capital | discover | bank | citibank",
           13
          ],
          [
           38,
           "lc | original | with | loan | 2nd",
           11
          ]
         ],
         "hovertemplate": "<b>Topic %{customdata[0]}</b><br>%{customdata[1]}<br>Size: %{customdata[2]}",
         "legendgroup": "",
         "marker": {
          "color": "#B0BEC5",
          "line": {
           "color": "DarkSlateGrey",
           "width": 2
          },
          "size": {
           "bdata": "VQjxBWwDcAJ4AVIBTgE7AZkAhgCFAGgAZQBaAFEASwBGAEYAOQA5ADkANwAyADAAKgAjACEAHQAaABkAGAAWABQAEgARAA4ADQANAAsA",
           "dtype": "i2"
          },
          "sizemode": "area",
          "sizeref": 1.333125,
          "symbol": "circle"
         },
         "mode": "markers",
         "name": "",
         "orientation": "v",
         "showlegend": false,
         "type": "scatter",
         "x": {
          "bdata": "/MyQwC7fgMC314nBHYKIwfJzpsCI/obAb2+LwXarrMB8y2bA3xgfwUckWUFhtqNBtj0XQZlBkMDvEoHAZ3VrwNIADEDAHZPAgxgfwS0NFUFuSJ3Ai2mWwFzOJUDwwn/AwalSQXGxGUGuIKfAwIauwGeeisHK0lhBFluLwH/sCEC5KCpAQ7ajQVE/GEEimVVBNQgTQFSMicEnVmzA",
          "dtype": "f4"
         },
         "xaxis": "x",
         "y": {
          "bdata": "aGCqQBW9sUCn+xVBiaUYQSD4fUC2qMlAuMsSQYUHgUD2UrtAJEwSwZp0HUFMtBRBP5XOwJs7YEBLZ7dAqSalQEZmiUH+oaZAmEsSwb4zysDLV6pACVRuQOoshkFC1aJA6A0kQbR808Dy5GtAqmpgQPRtFEHcwB1BAibKQNXIiUF7oYVBUrQUQUWY0MCbASFBxoWIQaeRFkFwf7BA",
          "dtype": "f4"
         },
         "yaxis": "y"
        }
       ],
       "layout": {
        "annotations": [
         {
          "showarrow": false,
          "text": "D1",
          "x": -20.0438232421875,
          "y": 4.645697593688965,
          "yshift": 10
         },
         {
          "showarrow": false,
          "text": "D2",
          "x": 1.7449188232421875,
          "xshift": 10,
          "y": 19.806522369384766
         }
        ],
        "height": 650,
        "hoverlabel": {
         "bgcolor": "white",
         "font": {
          "family": "Rockwell",
          "size": 16
         }
        },
        "legend": {
         "itemsizing": "constant",
         "tracegroupgap": 0
        },
        "margin": {
         "t": 60
        },
        "shapes": [
         {
          "line": {
           "color": "#CFD8DC",
           "width": 2
          },
          "type": "line",
          "x0": 1.7449188232421875,
          "x1": 1.7449188232421875,
          "y0": -10.515127182006836,
          "y1": 19.806522369384766
         },
         {
          "line": {
           "color": "#9E9E9E",
           "width": 2
          },
          "type": "line",
          "x0": -20.0438232421875,
          "x1": 23.533660888671875,
          "y0": 4.645697593688965,
          "y1": 4.645697593688965
         }
        ],
        "sliders": [
         {
          "active": 0,
          "pad": {
           "t": 50
          },
          "steps": [
           {
            "args": [
             {
              "marker.color": [
               [
                "red",
                "#B0BEC5",
                "#B0BEC5",
                "#B0BEC5",
                "#B0BEC5",
                "#B0BEC5",
                "#B0BEC5",
                "#B0BEC5",
                "#B0BEC5",
                "#B0BEC5",
                "#B0BEC5",
                "#B0BEC5",
                "#B0BEC5",
                "#B0BEC5",
                "#B0BEC5",
                "#B0BEC5",
                "#B0BEC5",
                "#B0BEC5",
                "#B0BEC5",
                "#B0BEC5",
                "#B0BEC5",
                "#B0BEC5",
                "#B0BEC5",
                "#B0BEC5",
                "#B0BEC5",
                "#B0BEC5",
                "#B0BEC5",
                "#B0BEC5",
                "#B0BEC5",
                "#B0BEC5",
                "#B0BEC5",
                "#B0BEC5",
                "#B0BEC5",
                "#B0BEC5",
                "#B0BEC5",
                "#B0BEC5",
                "#B0BEC5",
                "#B0BEC5",
                "#B0BEC5"
               ]
              ]
             }
            ],
            "label": "Topic 0",
            "method": "update"
           },
           {
            "args": [
             {
              "marker.color": [
               [
                "#B0BEC5",
                "red",
                "#B0BEC5",
                "#B0BEC5",
                "#B0BEC5",
                "#B0BEC5",
                "#B0BEC5",
                "#B0BEC5",
                "#B0BEC5",
                "#B0BEC5",
                "#B0BEC5",
                "#B0BEC5",
                "#B0BEC5",
                "#B0BEC5",
                "#B0BEC5",
                "#B0BEC5",
                "#B0BEC5",
                "#B0BEC5",
                "#B0BEC5",
                "#B0BEC5",
                "#B0BEC5",
                "#B0BEC5",
                "#B0BEC5",
                "#B0BEC5",
                "#B0BEC5",
                "#B0BEC5",
                "#B0BEC5",
                "#B0BEC5",
                "#B0BEC5",
                "#B0BEC5",
                "#B0BEC5",
                "#B0BEC5",
                "#B0BEC5",
                "#B0BEC5",
                "#B0BEC5",
                "#B0BEC5",
                "#B0BEC5",
                "#B0BEC5",
                "#B0BEC5"
               ]
              ]
             }
            ],
            "label": "Topic 1",
            "method": "update"
           },
           {
            "args": [
             {
              "marker.color": [
               [
                "#B0BEC5",
                "#B0BEC5",
                "red",
                "#B0BEC5",
                "#B0BEC5",
                "#B0BEC5",
                "#B0BEC5",
                "#B0BEC5",
                "#B0BEC5",
                "#B0BEC5",
                "#B0BEC5",
                "#B0BEC5",
                "#B0BEC5",
                "#B0BEC5",
                "#B0BEC5",
                "#B0BEC5",
                "#B0BEC5",
                "#B0BEC5",
                "#B0BEC5",
                "#B0BEC5",
                "#B0BEC5",
                "#B0BEC5",
                "#B0BEC5",
                "#B0BEC5",
                "#B0BEC5",
                "#B0BEC5",
                "#B0BEC5",
                "#B0BEC5",
                "#B0BEC5",
                "#B0BEC5",
                "#B0BEC5",
                "#B0BEC5",
                "#B0BEC5",
                "#B0BEC5",
                "#B0BEC5",
                "#B0BEC5",
                "#B0BEC5",
                "#B0BEC5",
                "#B0BEC5"
               ]
              ]
             }
            ],
            "label": "Topic 2",
            "method": "update"
           },
           {
            "args": [
             {
              "marker.color": [
               [
                "#B0BEC5",
                "#B0BEC5",
                "#B0BEC5",
                "red",
                "#B0BEC5",
                "#B0BEC5",
                "#B0BEC5",
                "#B0BEC5",
                "#B0BEC5",
                "#B0BEC5",
                "#B0BEC5",
                "#B0BEC5",
                "#B0BEC5",
                "#B0BEC5",
                "#B0BEC5",
                "#B0BEC5",
                "#B0BEC5",
                "#B0BEC5",
                "#B0BEC5",
                "#B0BEC5",
                "#B0BEC5",
                "#B0BEC5",
                "#B0BEC5",
                "#B0BEC5",
                "#B0BEC5",
                "#B0BEC5",
                "#B0BEC5",
                "#B0BEC5",
                "#B0BEC5",
                "#B0BEC5",
                "#B0BEC5",
                "#B0BEC5",
                "#B0BEC5",
                "#B0BEC5",
                "#B0BEC5",
                "#B0BEC5",
                "#B0BEC5",
                "#B0BEC5",
                "#B0BEC5"
               ]
              ]
             }
            ],
            "label": "Topic 3",
            "method": "update"
           },
           {
            "args": [
             {
              "marker.color": [
               [
                "#B0BEC5",
                "#B0BEC5",
                "#B0BEC5",
                "#B0BEC5",
                "red",
                "#B0BEC5",
                "#B0BEC5",
                "#B0BEC5",
                "#B0BEC5",
                "#B0BEC5",
                "#B0BEC5",
                "#B0BEC5",
                "#B0BEC5",
                "#B0BEC5",
                "#B0BEC5",
                "#B0BEC5",
                "#B0BEC5",
                "#B0BEC5",
                "#B0BEC5",
                "#B0BEC5",
                "#B0BEC5",
                "#B0BEC5",
                "#B0BEC5",
                "#B0BEC5",
                "#B0BEC5",
                "#B0BEC5",
                "#B0BEC5",
                "#B0BEC5",
                "#B0BEC5",
                "#B0BEC5",
                "#B0BEC5",
                "#B0BEC5",
                "#B0BEC5",
                "#B0BEC5",
                "#B0BEC5",
                "#B0BEC5",
                "#B0BEC5",
                "#B0BEC5",
                "#B0BEC5"
               ]
              ]
             }
            ],
            "label": "Topic 4",
            "method": "update"
           },
           {
            "args": [
             {
              "marker.color": [
               [
                "#B0BEC5",
                "#B0BEC5",
                "#B0BEC5",
                "#B0BEC5",
                "#B0BEC5",
                "red",
                "#B0BEC5",
                "#B0BEC5",
                "#B0BEC5",
                "#B0BEC5",
                "#B0BEC5",
                "#B0BEC5",
                "#B0BEC5",
                "#B0BEC5",
                "#B0BEC5",
                "#B0BEC5",
                "#B0BEC5",
                "#B0BEC5",
                "#B0BEC5",
                "#B0BEC5",
                "#B0BEC5",
                "#B0BEC5",
                "#B0BEC5",
                "#B0BEC5",
                "#B0BEC5",
                "#B0BEC5",
                "#B0BEC5",
                "#B0BEC5",
                "#B0BEC5",
                "#B0BEC5",
                "#B0BEC5",
                "#B0BEC5",
                "#B0BEC5",
                "#B0BEC5",
                "#B0BEC5",
                "#B0BEC5",
                "#B0BEC5",
                "#B0BEC5",
                "#B0BEC5"
               ]
              ]
             }
            ],
            "label": "Topic 5",
            "method": "update"
           },
           {
            "args": [
             {
              "marker.color": [
               [
                "#B0BEC5",
                "#B0BEC5",
                "#B0BEC5",
                "#B0BEC5",
                "#B0BEC5",
                "#B0BEC5",
                "red",
                "#B0BEC5",
                "#B0BEC5",
                "#B0BEC5",
                "#B0BEC5",
                "#B0BEC5",
                "#B0BEC5",
                "#B0BEC5",
                "#B0BEC5",
                "#B0BEC5",
                "#B0BEC5",
                "#B0BEC5",
                "#B0BEC5",
                "#B0BEC5",
                "#B0BEC5",
                "#B0BEC5",
                "#B0BEC5",
                "#B0BEC5",
                "#B0BEC5",
                "#B0BEC5",
                "#B0BEC5",
                "#B0BEC5",
                "#B0BEC5",
                "#B0BEC5",
                "#B0BEC5",
                "#B0BEC5",
                "#B0BEC5",
                "#B0BEC5",
                "#B0BEC5",
                "#B0BEC5",
                "#B0BEC5",
                "#B0BEC5",
                "#B0BEC5"
               ]
              ]
             }
            ],
            "label": "Topic 6",
            "method": "update"
           },
           {
            "args": [
             {
              "marker.color": [
               [
                "#B0BEC5",
                "#B0BEC5",
                "#B0BEC5",
                "#B0BEC5",
                "#B0BEC5",
                "#B0BEC5",
                "#B0BEC5",
                "red",
                "#B0BEC5",
                "#B0BEC5",
                "#B0BEC5",
                "#B0BEC5",
                "#B0BEC5",
                "#B0BEC5",
                "#B0BEC5",
                "#B0BEC5",
                "#B0BEC5",
                "#B0BEC5",
                "#B0BEC5",
                "#B0BEC5",
                "#B0BEC5",
                "#B0BEC5",
                "#B0BEC5",
                "#B0BEC5",
                "#B0BEC5",
                "#B0BEC5",
                "#B0BEC5",
                "#B0BEC5",
                "#B0BEC5",
                "#B0BEC5",
                "#B0BEC5",
                "#B0BEC5",
                "#B0BEC5",
                "#B0BEC5",
                "#B0BEC5",
                "#B0BEC5",
                "#B0BEC5",
                "#B0BEC5",
                "#B0BEC5"
               ]
              ]
             }
            ],
            "label": "Topic 7",
            "method": "update"
           },
           {
            "args": [
             {
              "marker.color": [
               [
                "#B0BEC5",
                "#B0BEC5",
                "#B0BEC5",
                "#B0BEC5",
                "#B0BEC5",
                "#B0BEC5",
                "#B0BEC5",
                "#B0BEC5",
                "red",
                "#B0BEC5",
                "#B0BEC5",
                "#B0BEC5",
                "#B0BEC5",
                "#B0BEC5",
                "#B0BEC5",
                "#B0BEC5",
                "#B0BEC5",
                "#B0BEC5",
                "#B0BEC5",
                "#B0BEC5",
                "#B0BEC5",
                "#B0BEC5",
                "#B0BEC5",
                "#B0BEC5",
                "#B0BEC5",
                "#B0BEC5",
                "#B0BEC5",
                "#B0BEC5",
                "#B0BEC5",
                "#B0BEC5",
                "#B0BEC5",
                "#B0BEC5",
                "#B0BEC5",
                "#B0BEC5",
                "#B0BEC5",
                "#B0BEC5",
                "#B0BEC5",
                "#B0BEC5",
                "#B0BEC5"
               ]
              ]
             }
            ],
            "label": "Topic 8",
            "method": "update"
           },
           {
            "args": [
             {
              "marker.color": [
               [
                "#B0BEC5",
                "#B0BEC5",
                "#B0BEC5",
                "#B0BEC5",
                "#B0BEC5",
                "#B0BEC5",
                "#B0BEC5",
                "#B0BEC5",
                "#B0BEC5",
                "red",
                "#B0BEC5",
                "#B0BEC5",
                "#B0BEC5",
                "#B0BEC5",
                "#B0BEC5",
                "#B0BEC5",
                "#B0BEC5",
                "#B0BEC5",
                "#B0BEC5",
                "#B0BEC5",
                "#B0BEC5",
                "#B0BEC5",
                "#B0BEC5",
                "#B0BEC5",
                "#B0BEC5",
                "#B0BEC5",
                "#B0BEC5",
                "#B0BEC5",
                "#B0BEC5",
                "#B0BEC5",
                "#B0BEC5",
                "#B0BEC5",
                "#B0BEC5",
                "#B0BEC5",
                "#B0BEC5",
                "#B0BEC5",
                "#B0BEC5",
                "#B0BEC5",
                "#B0BEC5"
               ]
              ]
             }
            ],
            "label": "Topic 9",
            "method": "update"
           },
           {
            "args": [
             {
              "marker.color": [
               [
                "#B0BEC5",
                "#B0BEC5",
                "#B0BEC5",
                "#B0BEC5",
                "#B0BEC5",
                "#B0BEC5",
                "#B0BEC5",
                "#B0BEC5",
                "#B0BEC5",
                "#B0BEC5",
                "red",
                "#B0BEC5",
                "#B0BEC5",
                "#B0BEC5",
                "#B0BEC5",
                "#B0BEC5",
                "#B0BEC5",
                "#B0BEC5",
                "#B0BEC5",
                "#B0BEC5",
                "#B0BEC5",
                "#B0BEC5",
                "#B0BEC5",
                "#B0BEC5",
                "#B0BEC5",
                "#B0BEC5",
                "#B0BEC5",
                "#B0BEC5",
                "#B0BEC5",
                "#B0BEC5",
                "#B0BEC5",
                "#B0BEC5",
                "#B0BEC5",
                "#B0BEC5",
                "#B0BEC5",
                "#B0BEC5",
                "#B0BEC5",
                "#B0BEC5",
                "#B0BEC5"
               ]
              ]
             }
            ],
            "label": "Topic 10",
            "method": "update"
           },
           {
            "args": [
             {
              "marker.color": [
               [
                "#B0BEC5",
                "#B0BEC5",
                "#B0BEC5",
                "#B0BEC5",
                "#B0BEC5",
                "#B0BEC5",
                "#B0BEC5",
                "#B0BEC5",
                "#B0BEC5",
                "#B0BEC5",
                "#B0BEC5",
                "red",
                "#B0BEC5",
                "#B0BEC5",
                "#B0BEC5",
                "#B0BEC5",
                "#B0BEC5",
                "#B0BEC5",
                "#B0BEC5",
                "#B0BEC5",
                "#B0BEC5",
                "#B0BEC5",
                "#B0BEC5",
                "#B0BEC5",
                "#B0BEC5",
                "#B0BEC5",
                "#B0BEC5",
                "#B0BEC5",
                "#B0BEC5",
                "#B0BEC5",
                "#B0BEC5",
                "#B0BEC5",
                "#B0BEC5",
                "#B0BEC5",
                "#B0BEC5",
                "#B0BEC5",
                "#B0BEC5",
                "#B0BEC5",
                "#B0BEC5"
               ]
              ]
             }
            ],
            "label": "Topic 11",
            "method": "update"
           },
           {
            "args": [
             {
              "marker.color": [
               [
                "#B0BEC5",
                "#B0BEC5",
                "#B0BEC5",
                "#B0BEC5",
                "#B0BEC5",
                "#B0BEC5",
                "#B0BEC5",
                "#B0BEC5",
                "#B0BEC5",
                "#B0BEC5",
                "#B0BEC5",
                "#B0BEC5",
                "red",
                "#B0BEC5",
                "#B0BEC5",
                "#B0BEC5",
                "#B0BEC5",
                "#B0BEC5",
                "#B0BEC5",
                "#B0BEC5",
                "#B0BEC5",
                "#B0BEC5",
                "#B0BEC5",
                "#B0BEC5",
                "#B0BEC5",
                "#B0BEC5",
                "#B0BEC5",
                "#B0BEC5",
                "#B0BEC5",
                "#B0BEC5",
                "#B0BEC5",
                "#B0BEC5",
                "#B0BEC5",
                "#B0BEC5",
                "#B0BEC5",
                "#B0BEC5",
                "#B0BEC5",
                "#B0BEC5",
                "#B0BEC5"
               ]
              ]
             }
            ],
            "label": "Topic 12",
            "method": "update"
           },
           {
            "args": [
             {
              "marker.color": [
               [
                "#B0BEC5",
                "#B0BEC5",
                "#B0BEC5",
                "#B0BEC5",
                "#B0BEC5",
                "#B0BEC5",
                "#B0BEC5",
                "#B0BEC5",
                "#B0BEC5",
                "#B0BEC5",
                "#B0BEC5",
                "#B0BEC5",
                "#B0BEC5",
                "red",
                "#B0BEC5",
                "#B0BEC5",
                "#B0BEC5",
                "#B0BEC5",
                "#B0BEC5",
                "#B0BEC5",
                "#B0BEC5",
                "#B0BEC5",
                "#B0BEC5",
                "#B0BEC5",
                "#B0BEC5",
                "#B0BEC5",
                "#B0BEC5",
                "#B0BEC5",
                "#B0BEC5",
                "#B0BEC5",
                "#B0BEC5",
                "#B0BEC5",
                "#B0BEC5",
                "#B0BEC5",
                "#B0BEC5",
                "#B0BEC5",
                "#B0BEC5",
                "#B0BEC5",
                "#B0BEC5"
               ]
              ]
             }
            ],
            "label": "Topic 13",
            "method": "update"
           },
           {
            "args": [
             {
              "marker.color": [
               [
                "#B0BEC5",
                "#B0BEC5",
                "#B0BEC5",
                "#B0BEC5",
                "#B0BEC5",
                "#B0BEC5",
                "#B0BEC5",
                "#B0BEC5",
                "#B0BEC5",
                "#B0BEC5",
                "#B0BEC5",
                "#B0BEC5",
                "#B0BEC5",
                "#B0BEC5",
                "red",
                "#B0BEC5",
                "#B0BEC5",
                "#B0BEC5",
                "#B0BEC5",
                "#B0BEC5",
                "#B0BEC5",
                "#B0BEC5",
                "#B0BEC5",
                "#B0BEC5",
                "#B0BEC5",
                "#B0BEC5",
                "#B0BEC5",
                "#B0BEC5",
                "#B0BEC5",
                "#B0BEC5",
                "#B0BEC5",
                "#B0BEC5",
                "#B0BEC5",
                "#B0BEC5",
                "#B0BEC5",
                "#B0BEC5",
                "#B0BEC5",
                "#B0BEC5",
                "#B0BEC5"
               ]
              ]
             }
            ],
            "label": "Topic 14",
            "method": "update"
           },
           {
            "args": [
             {
              "marker.color": [
               [
                "#B0BEC5",
                "#B0BEC5",
                "#B0BEC5",
                "#B0BEC5",
                "#B0BEC5",
                "#B0BEC5",
                "#B0BEC5",
                "#B0BEC5",
                "#B0BEC5",
                "#B0BEC5",
                "#B0BEC5",
                "#B0BEC5",
                "#B0BEC5",
                "#B0BEC5",
                "#B0BEC5",
                "red",
                "#B0BEC5",
                "#B0BEC5",
                "#B0BEC5",
                "#B0BEC5",
                "#B0BEC5",
                "#B0BEC5",
                "#B0BEC5",
                "#B0BEC5",
                "#B0BEC5",
                "#B0BEC5",
                "#B0BEC5",
                "#B0BEC5",
                "#B0BEC5",
                "#B0BEC5",
                "#B0BEC5",
                "#B0BEC5",
                "#B0BEC5",
                "#B0BEC5",
                "#B0BEC5",
                "#B0BEC5",
                "#B0BEC5",
                "#B0BEC5",
                "#B0BEC5"
               ]
              ]
             }
            ],
            "label": "Topic 15",
            "method": "update"
           },
           {
            "args": [
             {
              "marker.color": [
               [
                "#B0BEC5",
                "#B0BEC5",
                "#B0BEC5",
                "#B0BEC5",
                "#B0BEC5",
                "#B0BEC5",
                "#B0BEC5",
                "#B0BEC5",
                "#B0BEC5",
                "#B0BEC5",
                "#B0BEC5",
                "#B0BEC5",
                "#B0BEC5",
                "#B0BEC5",
                "#B0BEC5",
                "#B0BEC5",
                "red",
                "#B0BEC5",
                "#B0BEC5",
                "#B0BEC5",
                "#B0BEC5",
                "#B0BEC5",
                "#B0BEC5",
                "#B0BEC5",
                "#B0BEC5",
                "#B0BEC5",
                "#B0BEC5",
                "#B0BEC5",
                "#B0BEC5",
                "#B0BEC5",
                "#B0BEC5",
                "#B0BEC5",
                "#B0BEC5",
                "#B0BEC5",
                "#B0BEC5",
                "#B0BEC5",
                "#B0BEC5",
                "#B0BEC5",
                "#B0BEC5"
               ]
              ]
             }
            ],
            "label": "Topic 16",
            "method": "update"
           },
           {
            "args": [
             {
              "marker.color": [
               [
                "#B0BEC5",
                "#B0BEC5",
                "#B0BEC5",
                "#B0BEC5",
                "#B0BEC5",
                "#B0BEC5",
                "#B0BEC5",
                "#B0BEC5",
                "#B0BEC5",
                "#B0BEC5",
                "#B0BEC5",
                "#B0BEC5",
                "#B0BEC5",
                "#B0BEC5",
                "#B0BEC5",
                "#B0BEC5",
                "#B0BEC5",
                "red",
                "#B0BEC5",
                "#B0BEC5",
                "#B0BEC5",
                "#B0BEC5",
                "#B0BEC5",
                "#B0BEC5",
                "#B0BEC5",
                "#B0BEC5",
                "#B0BEC5",
                "#B0BEC5",
                "#B0BEC5",
                "#B0BEC5",
                "#B0BEC5",
                "#B0BEC5",
                "#B0BEC5",
                "#B0BEC5",
                "#B0BEC5",
                "#B0BEC5",
                "#B0BEC5",
                "#B0BEC5",
                "#B0BEC5"
               ]
              ]
             }
            ],
            "label": "Topic 17",
            "method": "update"
           },
           {
            "args": [
             {
              "marker.color": [
               [
                "#B0BEC5",
                "#B0BEC5",
                "#B0BEC5",
                "#B0BEC5",
                "#B0BEC5",
                "#B0BEC5",
                "#B0BEC5",
                "#B0BEC5",
                "#B0BEC5",
                "#B0BEC5",
                "#B0BEC5",
                "#B0BEC5",
                "#B0BEC5",
                "#B0BEC5",
                "#B0BEC5",
                "#B0BEC5",
                "#B0BEC5",
                "#B0BEC5",
                "red",
                "#B0BEC5",
                "#B0BEC5",
                "#B0BEC5",
                "#B0BEC5",
                "#B0BEC5",
                "#B0BEC5",
                "#B0BEC5",
                "#B0BEC5",
                "#B0BEC5",
                "#B0BEC5",
                "#B0BEC5",
                "#B0BEC5",
                "#B0BEC5",
                "#B0BEC5",
                "#B0BEC5",
                "#B0BEC5",
                "#B0BEC5",
                "#B0BEC5",
                "#B0BEC5",
                "#B0BEC5"
               ]
              ]
             }
            ],
            "label": "Topic 18",
            "method": "update"
           },
           {
            "args": [
             {
              "marker.color": [
               [
                "#B0BEC5",
                "#B0BEC5",
                "#B0BEC5",
                "#B0BEC5",
                "#B0BEC5",
                "#B0BEC5",
                "#B0BEC5",
                "#B0BEC5",
                "#B0BEC5",
                "#B0BEC5",
                "#B0BEC5",
                "#B0BEC5",
                "#B0BEC5",
                "#B0BEC5",
                "#B0BEC5",
                "#B0BEC5",
                "#B0BEC5",
                "#B0BEC5",
                "#B0BEC5",
                "red",
                "#B0BEC5",
                "#B0BEC5",
                "#B0BEC5",
                "#B0BEC5",
                "#B0BEC5",
                "#B0BEC5",
                "#B0BEC5",
                "#B0BEC5",
                "#B0BEC5",
                "#B0BEC5",
                "#B0BEC5",
                "#B0BEC5",
                "#B0BEC5",
                "#B0BEC5",
                "#B0BEC5",
                "#B0BEC5",
                "#B0BEC5",
                "#B0BEC5",
                "#B0BEC5"
               ]
              ]
             }
            ],
            "label": "Topic 19",
            "method": "update"
           },
           {
            "args": [
             {
              "marker.color": [
               [
                "#B0BEC5",
                "#B0BEC5",
                "#B0BEC5",
                "#B0BEC5",
                "#B0BEC5",
                "#B0BEC5",
                "#B0BEC5",
                "#B0BEC5",
                "#B0BEC5",
                "#B0BEC5",
                "#B0BEC5",
                "#B0BEC5",
                "#B0BEC5",
                "#B0BEC5",
                "#B0BEC5",
                "#B0BEC5",
                "#B0BEC5",
                "#B0BEC5",
                "#B0BEC5",
                "#B0BEC5",
                "red",
                "#B0BEC5",
                "#B0BEC5",
                "#B0BEC5",
                "#B0BEC5",
                "#B0BEC5",
                "#B0BEC5",
                "#B0BEC5",
                "#B0BEC5",
                "#B0BEC5",
                "#B0BEC5",
                "#B0BEC5",
                "#B0BEC5",
                "#B0BEC5",
                "#B0BEC5",
                "#B0BEC5",
                "#B0BEC5",
                "#B0BEC5",
                "#B0BEC5"
               ]
              ]
             }
            ],
            "label": "Topic 20",
            "method": "update"
           },
           {
            "args": [
             {
              "marker.color": [
               [
                "#B0BEC5",
                "#B0BEC5",
                "#B0BEC5",
                "#B0BEC5",
                "#B0BEC5",
                "#B0BEC5",
                "#B0BEC5",
                "#B0BEC5",
                "#B0BEC5",
                "#B0BEC5",
                "#B0BEC5",
                "#B0BEC5",
                "#B0BEC5",
                "#B0BEC5",
                "#B0BEC5",
                "#B0BEC5",
                "#B0BEC5",
                "#B0BEC5",
                "#B0BEC5",
                "#B0BEC5",
                "#B0BEC5",
                "red",
                "#B0BEC5",
                "#B0BEC5",
                "#B0BEC5",
                "#B0BEC5",
                "#B0BEC5",
                "#B0BEC5",
                "#B0BEC5",
                "#B0BEC5",
                "#B0BEC5",
                "#B0BEC5",
                "#B0BEC5",
                "#B0BEC5",
                "#B0BEC5",
                "#B0BEC5",
                "#B0BEC5",
                "#B0BEC5",
                "#B0BEC5"
               ]
              ]
             }
            ],
            "label": "Topic 21",
            "method": "update"
           },
           {
            "args": [
             {
              "marker.color": [
               [
                "#B0BEC5",
                "#B0BEC5",
                "#B0BEC5",
                "#B0BEC5",
                "#B0BEC5",
                "#B0BEC5",
                "#B0BEC5",
                "#B0BEC5",
                "#B0BEC5",
                "#B0BEC5",
                "#B0BEC5",
                "#B0BEC5",
                "#B0BEC5",
                "#B0BEC5",
                "#B0BEC5",
                "#B0BEC5",
                "#B0BEC5",
                "#B0BEC5",
                "#B0BEC5",
                "#B0BEC5",
                "#B0BEC5",
                "#B0BEC5",
                "red",
                "#B0BEC5",
                "#B0BEC5",
                "#B0BEC5",
                "#B0BEC5",
                "#B0BEC5",
                "#B0BEC5",
                "#B0BEC5",
                "#B0BEC5",
                "#B0BEC5",
                "#B0BEC5",
                "#B0BEC5",
                "#B0BEC5",
                "#B0BEC5",
                "#B0BEC5",
                "#B0BEC5",
                "#B0BEC5"
               ]
              ]
             }
            ],
            "label": "Topic 22",
            "method": "update"
           },
           {
            "args": [
             {
              "marker.color": [
               [
                "#B0BEC5",
                "#B0BEC5",
                "#B0BEC5",
                "#B0BEC5",
                "#B0BEC5",
                "#B0BEC5",
                "#B0BEC5",
                "#B0BEC5",
                "#B0BEC5",
                "#B0BEC5",
                "#B0BEC5",
                "#B0BEC5",
                "#B0BEC5",
                "#B0BEC5",
                "#B0BEC5",
                "#B0BEC5",
                "#B0BEC5",
                "#B0BEC5",
                "#B0BEC5",
                "#B0BEC5",
                "#B0BEC5",
                "#B0BEC5",
                "#B0BEC5",
                "red",
                "#B0BEC5",
                "#B0BEC5",
                "#B0BEC5",
                "#B0BEC5",
                "#B0BEC5",
                "#B0BEC5",
                "#B0BEC5",
                "#B0BEC5",
                "#B0BEC5",
                "#B0BEC5",
                "#B0BEC5",
                "#B0BEC5",
                "#B0BEC5",
                "#B0BEC5",
                "#B0BEC5"
               ]
              ]
             }
            ],
            "label": "Topic 23",
            "method": "update"
           },
           {
            "args": [
             {
              "marker.color": [
               [
                "#B0BEC5",
                "#B0BEC5",
                "#B0BEC5",
                "#B0BEC5",
                "#B0BEC5",
                "#B0BEC5",
                "#B0BEC5",
                "#B0BEC5",
                "#B0BEC5",
                "#B0BEC5",
                "#B0BEC5",
                "#B0BEC5",
                "#B0BEC5",
                "#B0BEC5",
                "#B0BEC5",
                "#B0BEC5",
                "#B0BEC5",
                "#B0BEC5",
                "#B0BEC5",
                "#B0BEC5",
                "#B0BEC5",
                "#B0BEC5",
                "#B0BEC5",
                "#B0BEC5",
                "red",
                "#B0BEC5",
                "#B0BEC5",
                "#B0BEC5",
                "#B0BEC5",
                "#B0BEC5",
                "#B0BEC5",
                "#B0BEC5",
                "#B0BEC5",
                "#B0BEC5",
                "#B0BEC5",
                "#B0BEC5",
                "#B0BEC5",
                "#B0BEC5",
                "#B0BEC5"
               ]
              ]
             }
            ],
            "label": "Topic 24",
            "method": "update"
           },
           {
            "args": [
             {
              "marker.color": [
               [
                "#B0BEC5",
                "#B0BEC5",
                "#B0BEC5",
                "#B0BEC5",
                "#B0BEC5",
                "#B0BEC5",
                "#B0BEC5",
                "#B0BEC5",
                "#B0BEC5",
                "#B0BEC5",
                "#B0BEC5",
                "#B0BEC5",
                "#B0BEC5",
                "#B0BEC5",
                "#B0BEC5",
                "#B0BEC5",
                "#B0BEC5",
                "#B0BEC5",
                "#B0BEC5",
                "#B0BEC5",
                "#B0BEC5",
                "#B0BEC5",
                "#B0BEC5",
                "#B0BEC5",
                "#B0BEC5",
                "red",
                "#B0BEC5",
                "#B0BEC5",
                "#B0BEC5",
                "#B0BEC5",
                "#B0BEC5",
                "#B0BEC5",
                "#B0BEC5",
                "#B0BEC5",
                "#B0BEC5",
                "#B0BEC5",
                "#B0BEC5",
                "#B0BEC5",
                "#B0BEC5"
               ]
              ]
             }
            ],
            "label": "Topic 25",
            "method": "update"
           },
           {
            "args": [
             {
              "marker.color": [
               [
                "#B0BEC5",
                "#B0BEC5",
                "#B0BEC5",
                "#B0BEC5",
                "#B0BEC5",
                "#B0BEC5",
                "#B0BEC5",
                "#B0BEC5",
                "#B0BEC5",
                "#B0BEC5",
                "#B0BEC5",
                "#B0BEC5",
                "#B0BEC5",
                "#B0BEC5",
                "#B0BEC5",
                "#B0BEC5",
                "#B0BEC5",
                "#B0BEC5",
                "#B0BEC5",
                "#B0BEC5",
                "#B0BEC5",
                "#B0BEC5",
                "#B0BEC5",
                "#B0BEC5",
                "#B0BEC5",
                "#B0BEC5",
                "red",
                "#B0BEC5",
                "#B0BEC5",
                "#B0BEC5",
                "#B0BEC5",
                "#B0BEC5",
                "#B0BEC5",
                "#B0BEC5",
                "#B0BEC5",
                "#B0BEC5",
                "#B0BEC5",
                "#B0BEC5",
                "#B0BEC5"
               ]
              ]
             }
            ],
            "label": "Topic 26",
            "method": "update"
           },
           {
            "args": [
             {
              "marker.color": [
               [
                "#B0BEC5",
                "#B0BEC5",
                "#B0BEC5",
                "#B0BEC5",
                "#B0BEC5",
                "#B0BEC5",
                "#B0BEC5",
                "#B0BEC5",
                "#B0BEC5",
                "#B0BEC5",
                "#B0BEC5",
                "#B0BEC5",
                "#B0BEC5",
                "#B0BEC5",
                "#B0BEC5",
                "#B0BEC5",
                "#B0BEC5",
                "#B0BEC5",
                "#B0BEC5",
                "#B0BEC5",
                "#B0BEC5",
                "#B0BEC5",
                "#B0BEC5",
                "#B0BEC5",
                "#B0BEC5",
                "#B0BEC5",
                "#B0BEC5",
                "red",
                "#B0BEC5",
                "#B0BEC5",
                "#B0BEC5",
                "#B0BEC5",
                "#B0BEC5",
                "#B0BEC5",
                "#B0BEC5",
                "#B0BEC5",
                "#B0BEC5",
                "#B0BEC5",
                "#B0BEC5"
               ]
              ]
             }
            ],
            "label": "Topic 27",
            "method": "update"
           },
           {
            "args": [
             {
              "marker.color": [
               [
                "#B0BEC5",
                "#B0BEC5",
                "#B0BEC5",
                "#B0BEC5",
                "#B0BEC5",
                "#B0BEC5",
                "#B0BEC5",
                "#B0BEC5",
                "#B0BEC5",
                "#B0BEC5",
                "#B0BEC5",
                "#B0BEC5",
                "#B0BEC5",
                "#B0BEC5",
                "#B0BEC5",
                "#B0BEC5",
                "#B0BEC5",
                "#B0BEC5",
                "#B0BEC5",
                "#B0BEC5",
                "#B0BEC5",
                "#B0BEC5",
                "#B0BEC5",
                "#B0BEC5",
                "#B0BEC5",
                "#B0BEC5",
                "#B0BEC5",
                "#B0BEC5",
                "red",
                "#B0BEC5",
                "#B0BEC5",
                "#B0BEC5",
                "#B0BEC5",
                "#B0BEC5",
                "#B0BEC5",
                "#B0BEC5",
                "#B0BEC5",
                "#B0BEC5",
                "#B0BEC5"
               ]
              ]
             }
            ],
            "label": "Topic 28",
            "method": "update"
           },
           {
            "args": [
             {
              "marker.color": [
               [
                "#B0BEC5",
                "#B0BEC5",
                "#B0BEC5",
                "#B0BEC5",
                "#B0BEC5",
                "#B0BEC5",
                "#B0BEC5",
                "#B0BEC5",
                "#B0BEC5",
                "#B0BEC5",
                "#B0BEC5",
                "#B0BEC5",
                "#B0BEC5",
                "#B0BEC5",
                "#B0BEC5",
                "#B0BEC5",
                "#B0BEC5",
                "#B0BEC5",
                "#B0BEC5",
                "#B0BEC5",
                "#B0BEC5",
                "#B0BEC5",
                "#B0BEC5",
                "#B0BEC5",
                "#B0BEC5",
                "#B0BEC5",
                "#B0BEC5",
                "#B0BEC5",
                "#B0BEC5",
                "red",
                "#B0BEC5",
                "#B0BEC5",
                "#B0BEC5",
                "#B0BEC5",
                "#B0BEC5",
                "#B0BEC5",
                "#B0BEC5",
                "#B0BEC5",
                "#B0BEC5"
               ]
              ]
             }
            ],
            "label": "Topic 29",
            "method": "update"
           },
           {
            "args": [
             {
              "marker.color": [
               [
                "#B0BEC5",
                "#B0BEC5",
                "#B0BEC5",
                "#B0BEC5",
                "#B0BEC5",
                "#B0BEC5",
                "#B0BEC5",
                "#B0BEC5",
                "#B0BEC5",
                "#B0BEC5",
                "#B0BEC5",
                "#B0BEC5",
                "#B0BEC5",
                "#B0BEC5",
                "#B0BEC5",
                "#B0BEC5",
                "#B0BEC5",
                "#B0BEC5",
                "#B0BEC5",
                "#B0BEC5",
                "#B0BEC5",
                "#B0BEC5",
                "#B0BEC5",
                "#B0BEC5",
                "#B0BEC5",
                "#B0BEC5",
                "#B0BEC5",
                "#B0BEC5",
                "#B0BEC5",
                "#B0BEC5",
                "red",
                "#B0BEC5",
                "#B0BEC5",
                "#B0BEC5",
                "#B0BEC5",
                "#B0BEC5",
                "#B0BEC5",
                "#B0BEC5",
                "#B0BEC5"
               ]
              ]
             }
            ],
            "label": "Topic 30",
            "method": "update"
           },
           {
            "args": [
             {
              "marker.color": [
               [
                "#B0BEC5",
                "#B0BEC5",
                "#B0BEC5",
                "#B0BEC5",
                "#B0BEC5",
                "#B0BEC5",
                "#B0BEC5",
                "#B0BEC5",
                "#B0BEC5",
                "#B0BEC5",
                "#B0BEC5",
                "#B0BEC5",
                "#B0BEC5",
                "#B0BEC5",
                "#B0BEC5",
                "#B0BEC5",
                "#B0BEC5",
                "#B0BEC5",
                "#B0BEC5",
                "#B0BEC5",
                "#B0BEC5",
                "#B0BEC5",
                "#B0BEC5",
                "#B0BEC5",
                "#B0BEC5",
                "#B0BEC5",
                "#B0BEC5",
                "#B0BEC5",
                "#B0BEC5",
                "#B0BEC5",
                "#B0BEC5",
                "red",
                "#B0BEC5",
                "#B0BEC5",
                "#B0BEC5",
                "#B0BEC5",
                "#B0BEC5",
                "#B0BEC5",
                "#B0BEC5"
               ]
              ]
             }
            ],
            "label": "Topic 31",
            "method": "update"
           },
           {
            "args": [
             {
              "marker.color": [
               [
                "#B0BEC5",
                "#B0BEC5",
                "#B0BEC5",
                "#B0BEC5",
                "#B0BEC5",
                "#B0BEC5",
                "#B0BEC5",
                "#B0BEC5",
                "#B0BEC5",
                "#B0BEC5",
                "#B0BEC5",
                "#B0BEC5",
                "#B0BEC5",
                "#B0BEC5",
                "#B0BEC5",
                "#B0BEC5",
                "#B0BEC5",
                "#B0BEC5",
                "#B0BEC5",
                "#B0BEC5",
                "#B0BEC5",
                "#B0BEC5",
                "#B0BEC5",
                "#B0BEC5",
                "#B0BEC5",
                "#B0BEC5",
                "#B0BEC5",
                "#B0BEC5",
                "#B0BEC5",
                "#B0BEC5",
                "#B0BEC5",
                "#B0BEC5",
                "red",
                "#B0BEC5",
                "#B0BEC5",
                "#B0BEC5",
                "#B0BEC5",
                "#B0BEC5",
                "#B0BEC5"
               ]
              ]
             }
            ],
            "label": "Topic 32",
            "method": "update"
           },
           {
            "args": [
             {
              "marker.color": [
               [
                "#B0BEC5",
                "#B0BEC5",
                "#B0BEC5",
                "#B0BEC5",
                "#B0BEC5",
                "#B0BEC5",
                "#B0BEC5",
                "#B0BEC5",
                "#B0BEC5",
                "#B0BEC5",
                "#B0BEC5",
                "#B0BEC5",
                "#B0BEC5",
                "#B0BEC5",
                "#B0BEC5",
                "#B0BEC5",
                "#B0BEC5",
                "#B0BEC5",
                "#B0BEC5",
                "#B0BEC5",
                "#B0BEC5",
                "#B0BEC5",
                "#B0BEC5",
                "#B0BEC5",
                "#B0BEC5",
                "#B0BEC5",
                "#B0BEC5",
                "#B0BEC5",
                "#B0BEC5",
                "#B0BEC5",
                "#B0BEC5",
                "#B0BEC5",
                "#B0BEC5",
                "red",
                "#B0BEC5",
                "#B0BEC5",
                "#B0BEC5",
                "#B0BEC5",
                "#B0BEC5"
               ]
              ]
             }
            ],
            "label": "Topic 33",
            "method": "update"
           },
           {
            "args": [
             {
              "marker.color": [
               [
                "#B0BEC5",
                "#B0BEC5",
                "#B0BEC5",
                "#B0BEC5",
                "#B0BEC5",
                "#B0BEC5",
                "#B0BEC5",
                "#B0BEC5",
                "#B0BEC5",
                "#B0BEC5",
                "#B0BEC5",
                "#B0BEC5",
                "#B0BEC5",
                "#B0BEC5",
                "#B0BEC5",
                "#B0BEC5",
                "#B0BEC5",
                "#B0BEC5",
                "#B0BEC5",
                "#B0BEC5",
                "#B0BEC5",
                "#B0BEC5",
                "#B0BEC5",
                "#B0BEC5",
                "#B0BEC5",
                "#B0BEC5",
                "#B0BEC5",
                "#B0BEC5",
                "#B0BEC5",
                "#B0BEC5",
                "#B0BEC5",
                "#B0BEC5",
                "#B0BEC5",
                "#B0BEC5",
                "red",
                "#B0BEC5",
                "#B0BEC5",
                "#B0BEC5",
                "#B0BEC5"
               ]
              ]
             }
            ],
            "label": "Topic 34",
            "method": "update"
           },
           {
            "args": [
             {
              "marker.color": [
               [
                "#B0BEC5",
                "#B0BEC5",
                "#B0BEC5",
                "#B0BEC5",
                "#B0BEC5",
                "#B0BEC5",
                "#B0BEC5",
                "#B0BEC5",
                "#B0BEC5",
                "#B0BEC5",
                "#B0BEC5",
                "#B0BEC5",
                "#B0BEC5",
                "#B0BEC5",
                "#B0BEC5",
                "#B0BEC5",
                "#B0BEC5",
                "#B0BEC5",
                "#B0BEC5",
                "#B0BEC5",
                "#B0BEC5",
                "#B0BEC5",
                "#B0BEC5",
                "#B0BEC5",
                "#B0BEC5",
                "#B0BEC5",
                "#B0BEC5",
                "#B0BEC5",
                "#B0BEC5",
                "#B0BEC5",
                "#B0BEC5",
                "#B0BEC5",
                "#B0BEC5",
                "#B0BEC5",
                "#B0BEC5",
                "red",
                "#B0BEC5",
                "#B0BEC5",
                "#B0BEC5"
               ]
              ]
             }
            ],
            "label": "Topic 35",
            "method": "update"
           },
           {
            "args": [
             {
              "marker.color": [
               [
                "#B0BEC5",
                "#B0BEC5",
                "#B0BEC5",
                "#B0BEC5",
                "#B0BEC5",
                "#B0BEC5",
                "#B0BEC5",
                "#B0BEC5",
                "#B0BEC5",
                "#B0BEC5",
                "#B0BEC5",
                "#B0BEC5",
                "#B0BEC5",
                "#B0BEC5",
                "#B0BEC5",
                "#B0BEC5",
                "#B0BEC5",
                "#B0BEC5",
                "#B0BEC5",
                "#B0BEC5",
                "#B0BEC5",
                "#B0BEC5",
                "#B0BEC5",
                "#B0BEC5",
                "#B0BEC5",
                "#B0BEC5",
                "#B0BEC5",
                "#B0BEC5",
                "#B0BEC5",
                "#B0BEC5",
                "#B0BEC5",
                "#B0BEC5",
                "#B0BEC5",
                "#B0BEC5",
                "#B0BEC5",
                "#B0BEC5",
                "red",
                "#B0BEC5",
                "#B0BEC5"
               ]
              ]
             }
            ],
            "label": "Topic 36",
            "method": "update"
           },
           {
            "args": [
             {
              "marker.color": [
               [
                "#B0BEC5",
                "#B0BEC5",
                "#B0BEC5",
                "#B0BEC5",
                "#B0BEC5",
                "#B0BEC5",
                "#B0BEC5",
                "#B0BEC5",
                "#B0BEC5",
                "#B0BEC5",
                "#B0BEC5",
                "#B0BEC5",
                "#B0BEC5",
                "#B0BEC5",
                "#B0BEC5",
                "#B0BEC5",
                "#B0BEC5",
                "#B0BEC5",
                "#B0BEC5",
                "#B0BEC5",
                "#B0BEC5",
                "#B0BEC5",
                "#B0BEC5",
                "#B0BEC5",
                "#B0BEC5",
                "#B0BEC5",
                "#B0BEC5",
                "#B0BEC5",
                "#B0BEC5",
                "#B0BEC5",
                "#B0BEC5",
                "#B0BEC5",
                "#B0BEC5",
                "#B0BEC5",
                "#B0BEC5",
                "#B0BEC5",
                "#B0BEC5",
                "red",
                "#B0BEC5"
               ]
              ]
             }
            ],
            "label": "Topic 37",
            "method": "update"
           },
           {
            "args": [
             {
              "marker.color": [
               [
                "#B0BEC5",
                "#B0BEC5",
                "#B0BEC5",
                "#B0BEC5",
                "#B0BEC5",
                "#B0BEC5",
                "#B0BEC5",
                "#B0BEC5",
                "#B0BEC5",
                "#B0BEC5",
                "#B0BEC5",
                "#B0BEC5",
                "#B0BEC5",
                "#B0BEC5",
                "#B0BEC5",
                "#B0BEC5",
                "#B0BEC5",
                "#B0BEC5",
                "#B0BEC5",
                "#B0BEC5",
                "#B0BEC5",
                "#B0BEC5",
                "#B0BEC5",
                "#B0BEC5",
                "#B0BEC5",
                "#B0BEC5",
                "#B0BEC5",
                "#B0BEC5",
                "#B0BEC5",
                "#B0BEC5",
                "#B0BEC5",
                "#B0BEC5",
                "#B0BEC5",
                "#B0BEC5",
                "#B0BEC5",
                "#B0BEC5",
                "#B0BEC5",
                "#B0BEC5",
                "red"
               ]
              ]
             }
            ],
            "label": "Topic 38",
            "method": "update"
           }
          ]
         }
        ],
        "template": {
         "data": {
          "bar": [
           {
            "error_x": {
             "color": "rgb(36,36,36)"
            },
            "error_y": {
             "color": "rgb(36,36,36)"
            },
            "marker": {
             "line": {
              "color": "white",
              "width": 0.5
             },
             "pattern": {
              "fillmode": "overlay",
              "size": 10,
              "solidity": 0.2
             }
            },
            "type": "bar"
           }
          ],
          "barpolar": [
           {
            "marker": {
             "line": {
              "color": "white",
              "width": 0.5
             },
             "pattern": {
              "fillmode": "overlay",
              "size": 10,
              "solidity": 0.2
             }
            },
            "type": "barpolar"
           }
          ],
          "carpet": [
           {
            "aaxis": {
             "endlinecolor": "rgb(36,36,36)",
             "gridcolor": "white",
             "linecolor": "white",
             "minorgridcolor": "white",
             "startlinecolor": "rgb(36,36,36)"
            },
            "baxis": {
             "endlinecolor": "rgb(36,36,36)",
             "gridcolor": "white",
             "linecolor": "white",
             "minorgridcolor": "white",
             "startlinecolor": "rgb(36,36,36)"
            },
            "type": "carpet"
           }
          ],
          "choropleth": [
           {
            "colorbar": {
             "outlinewidth": 1,
             "tickcolor": "rgb(36,36,36)",
             "ticks": "outside"
            },
            "type": "choropleth"
           }
          ],
          "contour": [
           {
            "colorbar": {
             "outlinewidth": 1,
             "tickcolor": "rgb(36,36,36)",
             "ticks": "outside"
            },
            "colorscale": [
             [
              0,
              "#440154"
             ],
             [
              0.1111111111111111,
              "#482878"
             ],
             [
              0.2222222222222222,
              "#3e4989"
             ],
             [
              0.3333333333333333,
              "#31688e"
             ],
             [
              0.4444444444444444,
              "#26828e"
             ],
             [
              0.5555555555555556,
              "#1f9e89"
             ],
             [
              0.6666666666666666,
              "#35b779"
             ],
             [
              0.7777777777777778,
              "#6ece58"
             ],
             [
              0.8888888888888888,
              "#b5de2b"
             ],
             [
              1,
              "#fde725"
             ]
            ],
            "type": "contour"
           }
          ],
          "contourcarpet": [
           {
            "colorbar": {
             "outlinewidth": 1,
             "tickcolor": "rgb(36,36,36)",
             "ticks": "outside"
            },
            "type": "contourcarpet"
           }
          ],
          "heatmap": [
           {
            "colorbar": {
             "outlinewidth": 1,
             "tickcolor": "rgb(36,36,36)",
             "ticks": "outside"
            },
            "colorscale": [
             [
              0,
              "#440154"
             ],
             [
              0.1111111111111111,
              "#482878"
             ],
             [
              0.2222222222222222,
              "#3e4989"
             ],
             [
              0.3333333333333333,
              "#31688e"
             ],
             [
              0.4444444444444444,
              "#26828e"
             ],
             [
              0.5555555555555556,
              "#1f9e89"
             ],
             [
              0.6666666666666666,
              "#35b779"
             ],
             [
              0.7777777777777778,
              "#6ece58"
             ],
             [
              0.8888888888888888,
              "#b5de2b"
             ],
             [
              1,
              "#fde725"
             ]
            ],
            "type": "heatmap"
           }
          ],
          "histogram": [
           {
            "marker": {
             "line": {
              "color": "white",
              "width": 0.6
             }
            },
            "type": "histogram"
           }
          ],
          "histogram2d": [
           {
            "colorbar": {
             "outlinewidth": 1,
             "tickcolor": "rgb(36,36,36)",
             "ticks": "outside"
            },
            "colorscale": [
             [
              0,
              "#440154"
             ],
             [
              0.1111111111111111,
              "#482878"
             ],
             [
              0.2222222222222222,
              "#3e4989"
             ],
             [
              0.3333333333333333,
              "#31688e"
             ],
             [
              0.4444444444444444,
              "#26828e"
             ],
             [
              0.5555555555555556,
              "#1f9e89"
             ],
             [
              0.6666666666666666,
              "#35b779"
             ],
             [
              0.7777777777777778,
              "#6ece58"
             ],
             [
              0.8888888888888888,
              "#b5de2b"
             ],
             [
              1,
              "#fde725"
             ]
            ],
            "type": "histogram2d"
           }
          ],
          "histogram2dcontour": [
           {
            "colorbar": {
             "outlinewidth": 1,
             "tickcolor": "rgb(36,36,36)",
             "ticks": "outside"
            },
            "colorscale": [
             [
              0,
              "#440154"
             ],
             [
              0.1111111111111111,
              "#482878"
             ],
             [
              0.2222222222222222,
              "#3e4989"
             ],
             [
              0.3333333333333333,
              "#31688e"
             ],
             [
              0.4444444444444444,
              "#26828e"
             ],
             [
              0.5555555555555556,
              "#1f9e89"
             ],
             [
              0.6666666666666666,
              "#35b779"
             ],
             [
              0.7777777777777778,
              "#6ece58"
             ],
             [
              0.8888888888888888,
              "#b5de2b"
             ],
             [
              1,
              "#fde725"
             ]
            ],
            "type": "histogram2dcontour"
           }
          ],
          "mesh3d": [
           {
            "colorbar": {
             "outlinewidth": 1,
             "tickcolor": "rgb(36,36,36)",
             "ticks": "outside"
            },
            "type": "mesh3d"
           }
          ],
          "parcoords": [
           {
            "line": {
             "colorbar": {
              "outlinewidth": 1,
              "tickcolor": "rgb(36,36,36)",
              "ticks": "outside"
             }
            },
            "type": "parcoords"
           }
          ],
          "pie": [
           {
            "automargin": true,
            "type": "pie"
           }
          ],
          "scatter": [
           {
            "fillpattern": {
             "fillmode": "overlay",
             "size": 10,
             "solidity": 0.2
            },
            "type": "scatter"
           }
          ],
          "scatter3d": [
           {
            "line": {
             "colorbar": {
              "outlinewidth": 1,
              "tickcolor": "rgb(36,36,36)",
              "ticks": "outside"
             }
            },
            "marker": {
             "colorbar": {
              "outlinewidth": 1,
              "tickcolor": "rgb(36,36,36)",
              "ticks": "outside"
             }
            },
            "type": "scatter3d"
           }
          ],
          "scattercarpet": [
           {
            "marker": {
             "colorbar": {
              "outlinewidth": 1,
              "tickcolor": "rgb(36,36,36)",
              "ticks": "outside"
             }
            },
            "type": "scattercarpet"
           }
          ],
          "scattergeo": [
           {
            "marker": {
             "colorbar": {
              "outlinewidth": 1,
              "tickcolor": "rgb(36,36,36)",
              "ticks": "outside"
             }
            },
            "type": "scattergeo"
           }
          ],
          "scattergl": [
           {
            "marker": {
             "colorbar": {
              "outlinewidth": 1,
              "tickcolor": "rgb(36,36,36)",
              "ticks": "outside"
             }
            },
            "type": "scattergl"
           }
          ],
          "scattermap": [
           {
            "marker": {
             "colorbar": {
              "outlinewidth": 1,
              "tickcolor": "rgb(36,36,36)",
              "ticks": "outside"
             }
            },
            "type": "scattermap"
           }
          ],
          "scattermapbox": [
           {
            "marker": {
             "colorbar": {
              "outlinewidth": 1,
              "tickcolor": "rgb(36,36,36)",
              "ticks": "outside"
             }
            },
            "type": "scattermapbox"
           }
          ],
          "scatterpolar": [
           {
            "marker": {
             "colorbar": {
              "outlinewidth": 1,
              "tickcolor": "rgb(36,36,36)",
              "ticks": "outside"
             }
            },
            "type": "scatterpolar"
           }
          ],
          "scatterpolargl": [
           {
            "marker": {
             "colorbar": {
              "outlinewidth": 1,
              "tickcolor": "rgb(36,36,36)",
              "ticks": "outside"
             }
            },
            "type": "scatterpolargl"
           }
          ],
          "scatterternary": [
           {
            "marker": {
             "colorbar": {
              "outlinewidth": 1,
              "tickcolor": "rgb(36,36,36)",
              "ticks": "outside"
             }
            },
            "type": "scatterternary"
           }
          ],
          "surface": [
           {
            "colorbar": {
             "outlinewidth": 1,
             "tickcolor": "rgb(36,36,36)",
             "ticks": "outside"
            },
            "colorscale": [
             [
              0,
              "#440154"
             ],
             [
              0.1111111111111111,
              "#482878"
             ],
             [
              0.2222222222222222,
              "#3e4989"
             ],
             [
              0.3333333333333333,
              "#31688e"
             ],
             [
              0.4444444444444444,
              "#26828e"
             ],
             [
              0.5555555555555556,
              "#1f9e89"
             ],
             [
              0.6666666666666666,
              "#35b779"
             ],
             [
              0.7777777777777778,
              "#6ece58"
             ],
             [
              0.8888888888888888,
              "#b5de2b"
             ],
             [
              1,
              "#fde725"
             ]
            ],
            "type": "surface"
           }
          ],
          "table": [
           {
            "cells": {
             "fill": {
              "color": "rgb(237,237,237)"
             },
             "line": {
              "color": "white"
             }
            },
            "header": {
             "fill": {
              "color": "rgb(217,217,217)"
             },
             "line": {
              "color": "white"
             }
            },
            "type": "table"
           }
          ]
         },
         "layout": {
          "annotationdefaults": {
           "arrowhead": 0,
           "arrowwidth": 1
          },
          "autotypenumbers": "strict",
          "coloraxis": {
           "colorbar": {
            "outlinewidth": 1,
            "tickcolor": "rgb(36,36,36)",
            "ticks": "outside"
           }
          },
          "colorscale": {
           "diverging": [
            [
             0,
             "rgb(103,0,31)"
            ],
            [
             0.1,
             "rgb(178,24,43)"
            ],
            [
             0.2,
             "rgb(214,96,77)"
            ],
            [
             0.3,
             "rgb(244,165,130)"
            ],
            [
             0.4,
             "rgb(253,219,199)"
            ],
            [
             0.5,
             "rgb(247,247,247)"
            ],
            [
             0.6,
             "rgb(209,229,240)"
            ],
            [
             0.7,
             "rgb(146,197,222)"
            ],
            [
             0.8,
             "rgb(67,147,195)"
            ],
            [
             0.9,
             "rgb(33,102,172)"
            ],
            [
             1,
             "rgb(5,48,97)"
            ]
           ],
           "sequential": [
            [
             0,
             "#440154"
            ],
            [
             0.1111111111111111,
             "#482878"
            ],
            [
             0.2222222222222222,
             "#3e4989"
            ],
            [
             0.3333333333333333,
             "#31688e"
            ],
            [
             0.4444444444444444,
             "#26828e"
            ],
            [
             0.5555555555555556,
             "#1f9e89"
            ],
            [
             0.6666666666666666,
             "#35b779"
            ],
            [
             0.7777777777777778,
             "#6ece58"
            ],
            [
             0.8888888888888888,
             "#b5de2b"
            ],
            [
             1,
             "#fde725"
            ]
           ],
           "sequentialminus": [
            [
             0,
             "#440154"
            ],
            [
             0.1111111111111111,
             "#482878"
            ],
            [
             0.2222222222222222,
             "#3e4989"
            ],
            [
             0.3333333333333333,
             "#31688e"
            ],
            [
             0.4444444444444444,
             "#26828e"
            ],
            [
             0.5555555555555556,
             "#1f9e89"
            ],
            [
             0.6666666666666666,
             "#35b779"
            ],
            [
             0.7777777777777778,
             "#6ece58"
            ],
            [
             0.8888888888888888,
             "#b5de2b"
            ],
            [
             1,
             "#fde725"
            ]
           ]
          },
          "colorway": [
           "#1F77B4",
           "#FF7F0E",
           "#2CA02C",
           "#D62728",
           "#9467BD",
           "#8C564B",
           "#E377C2",
           "#7F7F7F",
           "#BCBD22",
           "#17BECF"
          ],
          "font": {
           "color": "rgb(36,36,36)"
          },
          "geo": {
           "bgcolor": "white",
           "lakecolor": "white",
           "landcolor": "white",
           "showlakes": true,
           "showland": true,
           "subunitcolor": "white"
          },
          "hoverlabel": {
           "align": "left"
          },
          "hovermode": "closest",
          "mapbox": {
           "style": "light"
          },
          "paper_bgcolor": "white",
          "plot_bgcolor": "white",
          "polar": {
           "angularaxis": {
            "gridcolor": "rgb(232,232,232)",
            "linecolor": "rgb(36,36,36)",
            "showgrid": false,
            "showline": true,
            "ticks": "outside"
           },
           "bgcolor": "white",
           "radialaxis": {
            "gridcolor": "rgb(232,232,232)",
            "linecolor": "rgb(36,36,36)",
            "showgrid": false,
            "showline": true,
            "ticks": "outside"
           }
          },
          "scene": {
           "xaxis": {
            "backgroundcolor": "white",
            "gridcolor": "rgb(232,232,232)",
            "gridwidth": 2,
            "linecolor": "rgb(36,36,36)",
            "showbackground": true,
            "showgrid": false,
            "showline": true,
            "ticks": "outside",
            "zeroline": false,
            "zerolinecolor": "rgb(36,36,36)"
           },
           "yaxis": {
            "backgroundcolor": "white",
            "gridcolor": "rgb(232,232,232)",
            "gridwidth": 2,
            "linecolor": "rgb(36,36,36)",
            "showbackground": true,
            "showgrid": false,
            "showline": true,
            "ticks": "outside",
            "zeroline": false,
            "zerolinecolor": "rgb(36,36,36)"
           },
           "zaxis": {
            "backgroundcolor": "white",
            "gridcolor": "rgb(232,232,232)",
            "gridwidth": 2,
            "linecolor": "rgb(36,36,36)",
            "showbackground": true,
            "showgrid": false,
            "showline": true,
            "ticks": "outside",
            "zeroline": false,
            "zerolinecolor": "rgb(36,36,36)"
           }
          },
          "shapedefaults": {
           "fillcolor": "black",
           "line": {
            "width": 0
           },
           "opacity": 0.3
          },
          "ternary": {
           "aaxis": {
            "gridcolor": "rgb(232,232,232)",
            "linecolor": "rgb(36,36,36)",
            "showgrid": false,
            "showline": true,
            "ticks": "outside"
           },
           "baxis": {
            "gridcolor": "rgb(232,232,232)",
            "linecolor": "rgb(36,36,36)",
            "showgrid": false,
            "showline": true,
            "ticks": "outside"
           },
           "bgcolor": "white",
           "caxis": {
            "gridcolor": "rgb(232,232,232)",
            "linecolor": "rgb(36,36,36)",
            "showgrid": false,
            "showline": true,
            "ticks": "outside"
           }
          },
          "title": {
           "x": 0.05
          },
          "xaxis": {
           "automargin": true,
           "gridcolor": "rgb(232,232,232)",
           "linecolor": "rgb(36,36,36)",
           "showgrid": false,
           "showline": true,
           "ticks": "outside",
           "title": {
            "standoff": 15
           },
           "zeroline": false,
           "zerolinecolor": "rgb(36,36,36)"
          },
          "yaxis": {
           "automargin": true,
           "gridcolor": "rgb(232,232,232)",
           "linecolor": "rgb(36,36,36)",
           "showgrid": false,
           "showline": true,
           "ticks": "outside",
           "title": {
            "standoff": 15
           },
           "zeroline": false,
           "zerolinecolor": "rgb(36,36,36)"
          }
         }
        },
        "title": {
         "font": {
          "color": "Black",
          "size": 22
         },
         "text": "<b>Intertopic Distance Map</b>",
         "x": 0.5,
         "xanchor": "center",
         "y": 0.95,
         "yanchor": "top"
        },
        "width": 650,
        "xaxis": {
         "anchor": "y",
         "domain": [
          0,
          1
         ],
         "range": [
          -20.0438232421875,
          23.533660888671875
         ],
         "title": {
          "text": ""
         },
         "visible": false
        },
        "yaxis": {
         "anchor": "x",
         "domain": [
          0,
          1
         ],
         "range": [
          -10.515127182006836,
          19.806522369384766
         ],
         "title": {
          "text": ""
         },
         "visible": false
        }
       }
      },
      "text/html": [
       "<div>                        <script type=\"text/javascript\">window.PlotlyConfig = {MathJaxConfig: 'local'};</script>\n",
       "        <script charset=\"utf-8\" src=\"https://cdn.plot.ly/plotly-3.0.1.min.js\"></script>                <div id=\"85e198bc-c443-4121-b3f2-4503f4615586\" class=\"plotly-graph-div\" style=\"height:650px; width:650px;\"></div>            <script type=\"text/javascript\">                window.PLOTLYENV=window.PLOTLYENV || {};                                if (document.getElementById(\"85e198bc-c443-4121-b3f2-4503f4615586\")) {                    Plotly.newPlot(                        \"85e198bc-c443-4121-b3f2-4503f4615586\",                        [{\"customdata\":[[0,\"consolidationbr | debt | consolidate | consolidation | credit\",2133],[1,\"loan | my | to | this | the\",1521],[2,\"cardsbr | off | pay | credit | high\",876],[3,\"pay | credit | off | cards | want\",624],[4,\"loan | for | home | the | car\",376],[5,\"funds | use | my | plan | to\",338],[6,\"consolidate | to | pay | credit | off\",334],[7,\"business | the | in | for | and\",315],[8,\"refinance | refinancingbr | card | credit | refinancing\",153],[9,\"medical | surgery | insurance | not | for\",134],[10,\"wedding | our | for | the | we\",133],[11,\"pool | poolbr | swimming | inground | we\",104],[12,\"home | improvementbr | improvementsbr | improvement | house\",101],[13,\"moving | apartment | move | need | deposit\",90],[14,\"added | on | have | my | for\",81],[15,\"never | late | payment | have | missed\",75],[16,\"thank | thanksbr | youbr | you | email\",70],[17,\"billsbr | bill | consolidate | consolidationbr | bills\",70],[18,\"medical | billsbr | consolidation | hospital | bills\",57],[19,\"kitchen | bathroom | remodel | remodeling | bathroombr\",57],[20,\"consolidationbr | debit | dept | consolidation | consolidatebr\",57],[21,\"land | property | funds | in | for\",55],[22,\"car | purchase | truck | vehiclebr | buy\",50],[23,\"irs | 401k | tax | taxes | the\",48],[24,\"vacation | vacationbr | family | take | see\",42],[25,\"roof | new | roofbr | replace | need\",35],[26,\"her | she | school | tuition | attend\",33],[27,\"boat | boatbr | purchase | motor | we\",29],[28,\"taxesbr | taxes | taxesbrbr | tax | irs\",26],[29,\"ring | engagement | girlfriend | an | wedding\",25],[30,\"same | job | for | company | worked\",24],[31,\"repairsbr | car | auto | repair | carbr\",22],[32,\"motorcycle | davidson | harley | miles | bike\",20],[33,\"fence | patio | wooden | yard | water\",18],[34,\"unit | air | panel | there | conditioning\",17],[35,\"together | wedding | our | weddingbr | fianceacute\",14],[36,\"trailerbr | carbr | motorbr | atvbr | chev\",13],[37,\"citi | capital | discover | bank | citibank\",13],[38,\"lc | original | with | loan | 2nd\",11]],\"hovertemplate\":\"\\u003cb\\u003eTopic %{customdata[0]}\\u003c\\u002fb\\u003e\\u003cbr\\u003e%{customdata[1]}\\u003cbr\\u003eSize: %{customdata[2]}\",\"legendgroup\":\"\",\"marker\":{\"color\":\"#B0BEC5\",\"size\":{\"dtype\":\"i2\",\"bdata\":\"VQjxBWwDcAJ4AVIBTgE7AZkAhgCFAGgAZQBaAFEASwBGAEYAOQA5ADkANwAyADAAKgAjACEAHQAaABkAGAAWABQAEgARAA4ADQANAAsA\"},\"sizemode\":\"area\",\"sizeref\":1.333125,\"symbol\":\"circle\",\"line\":{\"color\":\"DarkSlateGrey\",\"width\":2}},\"mode\":\"markers\",\"name\":\"\",\"orientation\":\"v\",\"showlegend\":false,\"x\":{\"dtype\":\"f4\",\"bdata\":\"\\u002fMyQwC7fgMC314nBHYKIwfJzpsCI\\u002fobAb2+LwXarrMB8y2bA3xgfwUckWUFhtqNBtj0XQZlBkMDvEoHAZ3VrwNIADEDAHZPAgxgfwS0NFUFuSJ3Ai2mWwFzOJUDwwn\\u002fAwalSQXGxGUGuIKfAwIauwGeeisHK0lhBFluLwH\\u002fsCEC5KCpAQ7ajQVE\\u002fGEEimVVBNQgTQFSMicEnVmzA\"},\"xaxis\":\"x\",\"y\":{\"dtype\":\"f4\",\"bdata\":\"aGCqQBW9sUCn+xVBiaUYQSD4fUC2qMlAuMsSQYUHgUD2UrtAJEwSwZp0HUFMtBRBP5XOwJs7YEBLZ7dAqSalQEZmiUH+oaZAmEsSwb4zysDLV6pACVRuQOoshkFC1aJA6A0kQbR808Dy5GtAqmpgQPRtFEHcwB1BAibKQNXIiUF7oYVBUrQUQUWY0MCbASFBxoWIQaeRFkFwf7BA\"},\"yaxis\":\"y\",\"type\":\"scatter\"}],                        {\"template\":{\"data\":{\"barpolar\":[{\"marker\":{\"line\":{\"color\":\"white\",\"width\":0.5},\"pattern\":{\"fillmode\":\"overlay\",\"size\":10,\"solidity\":0.2}},\"type\":\"barpolar\"}],\"bar\":[{\"error_x\":{\"color\":\"rgb(36,36,36)\"},\"error_y\":{\"color\":\"rgb(36,36,36)\"},\"marker\":{\"line\":{\"color\":\"white\",\"width\":0.5},\"pattern\":{\"fillmode\":\"overlay\",\"size\":10,\"solidity\":0.2}},\"type\":\"bar\"}],\"carpet\":[{\"aaxis\":{\"endlinecolor\":\"rgb(36,36,36)\",\"gridcolor\":\"white\",\"linecolor\":\"white\",\"minorgridcolor\":\"white\",\"startlinecolor\":\"rgb(36,36,36)\"},\"baxis\":{\"endlinecolor\":\"rgb(36,36,36)\",\"gridcolor\":\"white\",\"linecolor\":\"white\",\"minorgridcolor\":\"white\",\"startlinecolor\":\"rgb(36,36,36)\"},\"type\":\"carpet\"}],\"choropleth\":[{\"colorbar\":{\"outlinewidth\":1,\"tickcolor\":\"rgb(36,36,36)\",\"ticks\":\"outside\"},\"type\":\"choropleth\"}],\"contourcarpet\":[{\"colorbar\":{\"outlinewidth\":1,\"tickcolor\":\"rgb(36,36,36)\",\"ticks\":\"outside\"},\"type\":\"contourcarpet\"}],\"contour\":[{\"colorbar\":{\"outlinewidth\":1,\"tickcolor\":\"rgb(36,36,36)\",\"ticks\":\"outside\"},\"colorscale\":[[0.0,\"#440154\"],[0.1111111111111111,\"#482878\"],[0.2222222222222222,\"#3e4989\"],[0.3333333333333333,\"#31688e\"],[0.4444444444444444,\"#26828e\"],[0.5555555555555556,\"#1f9e89\"],[0.6666666666666666,\"#35b779\"],[0.7777777777777778,\"#6ece58\"],[0.8888888888888888,\"#b5de2b\"],[1.0,\"#fde725\"]],\"type\":\"contour\"}],\"heatmap\":[{\"colorbar\":{\"outlinewidth\":1,\"tickcolor\":\"rgb(36,36,36)\",\"ticks\":\"outside\"},\"colorscale\":[[0.0,\"#440154\"],[0.1111111111111111,\"#482878\"],[0.2222222222222222,\"#3e4989\"],[0.3333333333333333,\"#31688e\"],[0.4444444444444444,\"#26828e\"],[0.5555555555555556,\"#1f9e89\"],[0.6666666666666666,\"#35b779\"],[0.7777777777777778,\"#6ece58\"],[0.8888888888888888,\"#b5de2b\"],[1.0,\"#fde725\"]],\"type\":\"heatmap\"}],\"histogram2dcontour\":[{\"colorbar\":{\"outlinewidth\":1,\"tickcolor\":\"rgb(36,36,36)\",\"ticks\":\"outside\"},\"colorscale\":[[0.0,\"#440154\"],[0.1111111111111111,\"#482878\"],[0.2222222222222222,\"#3e4989\"],[0.3333333333333333,\"#31688e\"],[0.4444444444444444,\"#26828e\"],[0.5555555555555556,\"#1f9e89\"],[0.6666666666666666,\"#35b779\"],[0.7777777777777778,\"#6ece58\"],[0.8888888888888888,\"#b5de2b\"],[1.0,\"#fde725\"]],\"type\":\"histogram2dcontour\"}],\"histogram2d\":[{\"colorbar\":{\"outlinewidth\":1,\"tickcolor\":\"rgb(36,36,36)\",\"ticks\":\"outside\"},\"colorscale\":[[0.0,\"#440154\"],[0.1111111111111111,\"#482878\"],[0.2222222222222222,\"#3e4989\"],[0.3333333333333333,\"#31688e\"],[0.4444444444444444,\"#26828e\"],[0.5555555555555556,\"#1f9e89\"],[0.6666666666666666,\"#35b779\"],[0.7777777777777778,\"#6ece58\"],[0.8888888888888888,\"#b5de2b\"],[1.0,\"#fde725\"]],\"type\":\"histogram2d\"}],\"histogram\":[{\"marker\":{\"line\":{\"color\":\"white\",\"width\":0.6}},\"type\":\"histogram\"}],\"mesh3d\":[{\"colorbar\":{\"outlinewidth\":1,\"tickcolor\":\"rgb(36,36,36)\",\"ticks\":\"outside\"},\"type\":\"mesh3d\"}],\"parcoords\":[{\"line\":{\"colorbar\":{\"outlinewidth\":1,\"tickcolor\":\"rgb(36,36,36)\",\"ticks\":\"outside\"}},\"type\":\"parcoords\"}],\"pie\":[{\"automargin\":true,\"type\":\"pie\"}],\"scatter3d\":[{\"line\":{\"colorbar\":{\"outlinewidth\":1,\"tickcolor\":\"rgb(36,36,36)\",\"ticks\":\"outside\"}},\"marker\":{\"colorbar\":{\"outlinewidth\":1,\"tickcolor\":\"rgb(36,36,36)\",\"ticks\":\"outside\"}},\"type\":\"scatter3d\"}],\"scattercarpet\":[{\"marker\":{\"colorbar\":{\"outlinewidth\":1,\"tickcolor\":\"rgb(36,36,36)\",\"ticks\":\"outside\"}},\"type\":\"scattercarpet\"}],\"scattergeo\":[{\"marker\":{\"colorbar\":{\"outlinewidth\":1,\"tickcolor\":\"rgb(36,36,36)\",\"ticks\":\"outside\"}},\"type\":\"scattergeo\"}],\"scattergl\":[{\"marker\":{\"colorbar\":{\"outlinewidth\":1,\"tickcolor\":\"rgb(36,36,36)\",\"ticks\":\"outside\"}},\"type\":\"scattergl\"}],\"scattermapbox\":[{\"marker\":{\"colorbar\":{\"outlinewidth\":1,\"tickcolor\":\"rgb(36,36,36)\",\"ticks\":\"outside\"}},\"type\":\"scattermapbox\"}],\"scattermap\":[{\"marker\":{\"colorbar\":{\"outlinewidth\":1,\"tickcolor\":\"rgb(36,36,36)\",\"ticks\":\"outside\"}},\"type\":\"scattermap\"}],\"scatterpolargl\":[{\"marker\":{\"colorbar\":{\"outlinewidth\":1,\"tickcolor\":\"rgb(36,36,36)\",\"ticks\":\"outside\"}},\"type\":\"scatterpolargl\"}],\"scatterpolar\":[{\"marker\":{\"colorbar\":{\"outlinewidth\":1,\"tickcolor\":\"rgb(36,36,36)\",\"ticks\":\"outside\"}},\"type\":\"scatterpolar\"}],\"scatter\":[{\"fillpattern\":{\"fillmode\":\"overlay\",\"size\":10,\"solidity\":0.2},\"type\":\"scatter\"}],\"scatterternary\":[{\"marker\":{\"colorbar\":{\"outlinewidth\":1,\"tickcolor\":\"rgb(36,36,36)\",\"ticks\":\"outside\"}},\"type\":\"scatterternary\"}],\"surface\":[{\"colorbar\":{\"outlinewidth\":1,\"tickcolor\":\"rgb(36,36,36)\",\"ticks\":\"outside\"},\"colorscale\":[[0.0,\"#440154\"],[0.1111111111111111,\"#482878\"],[0.2222222222222222,\"#3e4989\"],[0.3333333333333333,\"#31688e\"],[0.4444444444444444,\"#26828e\"],[0.5555555555555556,\"#1f9e89\"],[0.6666666666666666,\"#35b779\"],[0.7777777777777778,\"#6ece58\"],[0.8888888888888888,\"#b5de2b\"],[1.0,\"#fde725\"]],\"type\":\"surface\"}],\"table\":[{\"cells\":{\"fill\":{\"color\":\"rgb(237,237,237)\"},\"line\":{\"color\":\"white\"}},\"header\":{\"fill\":{\"color\":\"rgb(217,217,217)\"},\"line\":{\"color\":\"white\"}},\"type\":\"table\"}]},\"layout\":{\"annotationdefaults\":{\"arrowhead\":0,\"arrowwidth\":1},\"autotypenumbers\":\"strict\",\"coloraxis\":{\"colorbar\":{\"outlinewidth\":1,\"tickcolor\":\"rgb(36,36,36)\",\"ticks\":\"outside\"}},\"colorscale\":{\"diverging\":[[0.0,\"rgb(103,0,31)\"],[0.1,\"rgb(178,24,43)\"],[0.2,\"rgb(214,96,77)\"],[0.3,\"rgb(244,165,130)\"],[0.4,\"rgb(253,219,199)\"],[0.5,\"rgb(247,247,247)\"],[0.6,\"rgb(209,229,240)\"],[0.7,\"rgb(146,197,222)\"],[0.8,\"rgb(67,147,195)\"],[0.9,\"rgb(33,102,172)\"],[1.0,\"rgb(5,48,97)\"]],\"sequential\":[[0.0,\"#440154\"],[0.1111111111111111,\"#482878\"],[0.2222222222222222,\"#3e4989\"],[0.3333333333333333,\"#31688e\"],[0.4444444444444444,\"#26828e\"],[0.5555555555555556,\"#1f9e89\"],[0.6666666666666666,\"#35b779\"],[0.7777777777777778,\"#6ece58\"],[0.8888888888888888,\"#b5de2b\"],[1.0,\"#fde725\"]],\"sequentialminus\":[[0.0,\"#440154\"],[0.1111111111111111,\"#482878\"],[0.2222222222222222,\"#3e4989\"],[0.3333333333333333,\"#31688e\"],[0.4444444444444444,\"#26828e\"],[0.5555555555555556,\"#1f9e89\"],[0.6666666666666666,\"#35b779\"],[0.7777777777777778,\"#6ece58\"],[0.8888888888888888,\"#b5de2b\"],[1.0,\"#fde725\"]]},\"colorway\":[\"#1F77B4\",\"#FF7F0E\",\"#2CA02C\",\"#D62728\",\"#9467BD\",\"#8C564B\",\"#E377C2\",\"#7F7F7F\",\"#BCBD22\",\"#17BECF\"],\"font\":{\"color\":\"rgb(36,36,36)\"},\"geo\":{\"bgcolor\":\"white\",\"lakecolor\":\"white\",\"landcolor\":\"white\",\"showlakes\":true,\"showland\":true,\"subunitcolor\":\"white\"},\"hoverlabel\":{\"align\":\"left\"},\"hovermode\":\"closest\",\"mapbox\":{\"style\":\"light\"},\"paper_bgcolor\":\"white\",\"plot_bgcolor\":\"white\",\"polar\":{\"angularaxis\":{\"gridcolor\":\"rgb(232,232,232)\",\"linecolor\":\"rgb(36,36,36)\",\"showgrid\":false,\"showline\":true,\"ticks\":\"outside\"},\"bgcolor\":\"white\",\"radialaxis\":{\"gridcolor\":\"rgb(232,232,232)\",\"linecolor\":\"rgb(36,36,36)\",\"showgrid\":false,\"showline\":true,\"ticks\":\"outside\"}},\"scene\":{\"xaxis\":{\"backgroundcolor\":\"white\",\"gridcolor\":\"rgb(232,232,232)\",\"gridwidth\":2,\"linecolor\":\"rgb(36,36,36)\",\"showbackground\":true,\"showgrid\":false,\"showline\":true,\"ticks\":\"outside\",\"zeroline\":false,\"zerolinecolor\":\"rgb(36,36,36)\"},\"yaxis\":{\"backgroundcolor\":\"white\",\"gridcolor\":\"rgb(232,232,232)\",\"gridwidth\":2,\"linecolor\":\"rgb(36,36,36)\",\"showbackground\":true,\"showgrid\":false,\"showline\":true,\"ticks\":\"outside\",\"zeroline\":false,\"zerolinecolor\":\"rgb(36,36,36)\"},\"zaxis\":{\"backgroundcolor\":\"white\",\"gridcolor\":\"rgb(232,232,232)\",\"gridwidth\":2,\"linecolor\":\"rgb(36,36,36)\",\"showbackground\":true,\"showgrid\":false,\"showline\":true,\"ticks\":\"outside\",\"zeroline\":false,\"zerolinecolor\":\"rgb(36,36,36)\"}},\"shapedefaults\":{\"fillcolor\":\"black\",\"line\":{\"width\":0},\"opacity\":0.3},\"ternary\":{\"aaxis\":{\"gridcolor\":\"rgb(232,232,232)\",\"linecolor\":\"rgb(36,36,36)\",\"showgrid\":false,\"showline\":true,\"ticks\":\"outside\"},\"baxis\":{\"gridcolor\":\"rgb(232,232,232)\",\"linecolor\":\"rgb(36,36,36)\",\"showgrid\":false,\"showline\":true,\"ticks\":\"outside\"},\"bgcolor\":\"white\",\"caxis\":{\"gridcolor\":\"rgb(232,232,232)\",\"linecolor\":\"rgb(36,36,36)\",\"showgrid\":false,\"showline\":true,\"ticks\":\"outside\"}},\"title\":{\"x\":0.05},\"xaxis\":{\"automargin\":true,\"gridcolor\":\"rgb(232,232,232)\",\"linecolor\":\"rgb(36,36,36)\",\"showgrid\":false,\"showline\":true,\"ticks\":\"outside\",\"title\":{\"standoff\":15},\"zeroline\":false,\"zerolinecolor\":\"rgb(36,36,36)\"},\"yaxis\":{\"automargin\":true,\"gridcolor\":\"rgb(232,232,232)\",\"linecolor\":\"rgb(36,36,36)\",\"showgrid\":false,\"showline\":true,\"ticks\":\"outside\",\"title\":{\"standoff\":15},\"zeroline\":false,\"zerolinecolor\":\"rgb(36,36,36)\"}}},\"xaxis\":{\"anchor\":\"y\",\"domain\":[0.0,1.0],\"title\":{\"text\":\"\"},\"visible\":false,\"range\":[-20.0438232421875,23.533660888671875]},\"yaxis\":{\"anchor\":\"x\",\"domain\":[0.0,1.0],\"title\":{\"text\":\"\"},\"visible\":false,\"range\":[-10.515127182006836,19.806522369384766]},\"legend\":{\"tracegroupgap\":0,\"itemsizing\":\"constant\"},\"margin\":{\"t\":60},\"title\":{\"font\":{\"size\":22,\"color\":\"Black\"},\"text\":\"\\u003cb\\u003eIntertopic Distance Map\\u003c\\u002fb\\u003e\",\"y\":0.95,\"x\":0.5,\"xanchor\":\"center\",\"yanchor\":\"top\"},\"hoverlabel\":{\"font\":{\"size\":16,\"family\":\"Rockwell\"},\"bgcolor\":\"white\"},\"width\":650,\"height\":650,\"sliders\":[{\"active\":0,\"pad\":{\"t\":50},\"steps\":[{\"args\":[{\"marker.color\":[[\"red\",\"#B0BEC5\",\"#B0BEC5\",\"#B0BEC5\",\"#B0BEC5\",\"#B0BEC5\",\"#B0BEC5\",\"#B0BEC5\",\"#B0BEC5\",\"#B0BEC5\",\"#B0BEC5\",\"#B0BEC5\",\"#B0BEC5\",\"#B0BEC5\",\"#B0BEC5\",\"#B0BEC5\",\"#B0BEC5\",\"#B0BEC5\",\"#B0BEC5\",\"#B0BEC5\",\"#B0BEC5\",\"#B0BEC5\",\"#B0BEC5\",\"#B0BEC5\",\"#B0BEC5\",\"#B0BEC5\",\"#B0BEC5\",\"#B0BEC5\",\"#B0BEC5\",\"#B0BEC5\",\"#B0BEC5\",\"#B0BEC5\",\"#B0BEC5\",\"#B0BEC5\",\"#B0BEC5\",\"#B0BEC5\",\"#B0BEC5\",\"#B0BEC5\",\"#B0BEC5\"]]}],\"label\":\"Topic 0\",\"method\":\"update\"},{\"args\":[{\"marker.color\":[[\"#B0BEC5\",\"red\",\"#B0BEC5\",\"#B0BEC5\",\"#B0BEC5\",\"#B0BEC5\",\"#B0BEC5\",\"#B0BEC5\",\"#B0BEC5\",\"#B0BEC5\",\"#B0BEC5\",\"#B0BEC5\",\"#B0BEC5\",\"#B0BEC5\",\"#B0BEC5\",\"#B0BEC5\",\"#B0BEC5\",\"#B0BEC5\",\"#B0BEC5\",\"#B0BEC5\",\"#B0BEC5\",\"#B0BEC5\",\"#B0BEC5\",\"#B0BEC5\",\"#B0BEC5\",\"#B0BEC5\",\"#B0BEC5\",\"#B0BEC5\",\"#B0BEC5\",\"#B0BEC5\",\"#B0BEC5\",\"#B0BEC5\",\"#B0BEC5\",\"#B0BEC5\",\"#B0BEC5\",\"#B0BEC5\",\"#B0BEC5\",\"#B0BEC5\",\"#B0BEC5\"]]}],\"label\":\"Topic 1\",\"method\":\"update\"},{\"args\":[{\"marker.color\":[[\"#B0BEC5\",\"#B0BEC5\",\"red\",\"#B0BEC5\",\"#B0BEC5\",\"#B0BEC5\",\"#B0BEC5\",\"#B0BEC5\",\"#B0BEC5\",\"#B0BEC5\",\"#B0BEC5\",\"#B0BEC5\",\"#B0BEC5\",\"#B0BEC5\",\"#B0BEC5\",\"#B0BEC5\",\"#B0BEC5\",\"#B0BEC5\",\"#B0BEC5\",\"#B0BEC5\",\"#B0BEC5\",\"#B0BEC5\",\"#B0BEC5\",\"#B0BEC5\",\"#B0BEC5\",\"#B0BEC5\",\"#B0BEC5\",\"#B0BEC5\",\"#B0BEC5\",\"#B0BEC5\",\"#B0BEC5\",\"#B0BEC5\",\"#B0BEC5\",\"#B0BEC5\",\"#B0BEC5\",\"#B0BEC5\",\"#B0BEC5\",\"#B0BEC5\",\"#B0BEC5\"]]}],\"label\":\"Topic 2\",\"method\":\"update\"},{\"args\":[{\"marker.color\":[[\"#B0BEC5\",\"#B0BEC5\",\"#B0BEC5\",\"red\",\"#B0BEC5\",\"#B0BEC5\",\"#B0BEC5\",\"#B0BEC5\",\"#B0BEC5\",\"#B0BEC5\",\"#B0BEC5\",\"#B0BEC5\",\"#B0BEC5\",\"#B0BEC5\",\"#B0BEC5\",\"#B0BEC5\",\"#B0BEC5\",\"#B0BEC5\",\"#B0BEC5\",\"#B0BEC5\",\"#B0BEC5\",\"#B0BEC5\",\"#B0BEC5\",\"#B0BEC5\",\"#B0BEC5\",\"#B0BEC5\",\"#B0BEC5\",\"#B0BEC5\",\"#B0BEC5\",\"#B0BEC5\",\"#B0BEC5\",\"#B0BEC5\",\"#B0BEC5\",\"#B0BEC5\",\"#B0BEC5\",\"#B0BEC5\",\"#B0BEC5\",\"#B0BEC5\",\"#B0BEC5\"]]}],\"label\":\"Topic 3\",\"method\":\"update\"},{\"args\":[{\"marker.color\":[[\"#B0BEC5\",\"#B0BEC5\",\"#B0BEC5\",\"#B0BEC5\",\"red\",\"#B0BEC5\",\"#B0BEC5\",\"#B0BEC5\",\"#B0BEC5\",\"#B0BEC5\",\"#B0BEC5\",\"#B0BEC5\",\"#B0BEC5\",\"#B0BEC5\",\"#B0BEC5\",\"#B0BEC5\",\"#B0BEC5\",\"#B0BEC5\",\"#B0BEC5\",\"#B0BEC5\",\"#B0BEC5\",\"#B0BEC5\",\"#B0BEC5\",\"#B0BEC5\",\"#B0BEC5\",\"#B0BEC5\",\"#B0BEC5\",\"#B0BEC5\",\"#B0BEC5\",\"#B0BEC5\",\"#B0BEC5\",\"#B0BEC5\",\"#B0BEC5\",\"#B0BEC5\",\"#B0BEC5\",\"#B0BEC5\",\"#B0BEC5\",\"#B0BEC5\",\"#B0BEC5\"]]}],\"label\":\"Topic 4\",\"method\":\"update\"},{\"args\":[{\"marker.color\":[[\"#B0BEC5\",\"#B0BEC5\",\"#B0BEC5\",\"#B0BEC5\",\"#B0BEC5\",\"red\",\"#B0BEC5\",\"#B0BEC5\",\"#B0BEC5\",\"#B0BEC5\",\"#B0BEC5\",\"#B0BEC5\",\"#B0BEC5\",\"#B0BEC5\",\"#B0BEC5\",\"#B0BEC5\",\"#B0BEC5\",\"#B0BEC5\",\"#B0BEC5\",\"#B0BEC5\",\"#B0BEC5\",\"#B0BEC5\",\"#B0BEC5\",\"#B0BEC5\",\"#B0BEC5\",\"#B0BEC5\",\"#B0BEC5\",\"#B0BEC5\",\"#B0BEC5\",\"#B0BEC5\",\"#B0BEC5\",\"#B0BEC5\",\"#B0BEC5\",\"#B0BEC5\",\"#B0BEC5\",\"#B0BEC5\",\"#B0BEC5\",\"#B0BEC5\",\"#B0BEC5\"]]}],\"label\":\"Topic 5\",\"method\":\"update\"},{\"args\":[{\"marker.color\":[[\"#B0BEC5\",\"#B0BEC5\",\"#B0BEC5\",\"#B0BEC5\",\"#B0BEC5\",\"#B0BEC5\",\"red\",\"#B0BEC5\",\"#B0BEC5\",\"#B0BEC5\",\"#B0BEC5\",\"#B0BEC5\",\"#B0BEC5\",\"#B0BEC5\",\"#B0BEC5\",\"#B0BEC5\",\"#B0BEC5\",\"#B0BEC5\",\"#B0BEC5\",\"#B0BEC5\",\"#B0BEC5\",\"#B0BEC5\",\"#B0BEC5\",\"#B0BEC5\",\"#B0BEC5\",\"#B0BEC5\",\"#B0BEC5\",\"#B0BEC5\",\"#B0BEC5\",\"#B0BEC5\",\"#B0BEC5\",\"#B0BEC5\",\"#B0BEC5\",\"#B0BEC5\",\"#B0BEC5\",\"#B0BEC5\",\"#B0BEC5\",\"#B0BEC5\",\"#B0BEC5\"]]}],\"label\":\"Topic 6\",\"method\":\"update\"},{\"args\":[{\"marker.color\":[[\"#B0BEC5\",\"#B0BEC5\",\"#B0BEC5\",\"#B0BEC5\",\"#B0BEC5\",\"#B0BEC5\",\"#B0BEC5\",\"red\",\"#B0BEC5\",\"#B0BEC5\",\"#B0BEC5\",\"#B0BEC5\",\"#B0BEC5\",\"#B0BEC5\",\"#B0BEC5\",\"#B0BEC5\",\"#B0BEC5\",\"#B0BEC5\",\"#B0BEC5\",\"#B0BEC5\",\"#B0BEC5\",\"#B0BEC5\",\"#B0BEC5\",\"#B0BEC5\",\"#B0BEC5\",\"#B0BEC5\",\"#B0BEC5\",\"#B0BEC5\",\"#B0BEC5\",\"#B0BEC5\",\"#B0BEC5\",\"#B0BEC5\",\"#B0BEC5\",\"#B0BEC5\",\"#B0BEC5\",\"#B0BEC5\",\"#B0BEC5\",\"#B0BEC5\",\"#B0BEC5\"]]}],\"label\":\"Topic 7\",\"method\":\"update\"},{\"args\":[{\"marker.color\":[[\"#B0BEC5\",\"#B0BEC5\",\"#B0BEC5\",\"#B0BEC5\",\"#B0BEC5\",\"#B0BEC5\",\"#B0BEC5\",\"#B0BEC5\",\"red\",\"#B0BEC5\",\"#B0BEC5\",\"#B0BEC5\",\"#B0BEC5\",\"#B0BEC5\",\"#B0BEC5\",\"#B0BEC5\",\"#B0BEC5\",\"#B0BEC5\",\"#B0BEC5\",\"#B0BEC5\",\"#B0BEC5\",\"#B0BEC5\",\"#B0BEC5\",\"#B0BEC5\",\"#B0BEC5\",\"#B0BEC5\",\"#B0BEC5\",\"#B0BEC5\",\"#B0BEC5\",\"#B0BEC5\",\"#B0BEC5\",\"#B0BEC5\",\"#B0BEC5\",\"#B0BEC5\",\"#B0BEC5\",\"#B0BEC5\",\"#B0BEC5\",\"#B0BEC5\",\"#B0BEC5\"]]}],\"label\":\"Topic 8\",\"method\":\"update\"},{\"args\":[{\"marker.color\":[[\"#B0BEC5\",\"#B0BEC5\",\"#B0BEC5\",\"#B0BEC5\",\"#B0BEC5\",\"#B0BEC5\",\"#B0BEC5\",\"#B0BEC5\",\"#B0BEC5\",\"red\",\"#B0BEC5\",\"#B0BEC5\",\"#B0BEC5\",\"#B0BEC5\",\"#B0BEC5\",\"#B0BEC5\",\"#B0BEC5\",\"#B0BEC5\",\"#B0BEC5\",\"#B0BEC5\",\"#B0BEC5\",\"#B0BEC5\",\"#B0BEC5\",\"#B0BEC5\",\"#B0BEC5\",\"#B0BEC5\",\"#B0BEC5\",\"#B0BEC5\",\"#B0BEC5\",\"#B0BEC5\",\"#B0BEC5\",\"#B0BEC5\",\"#B0BEC5\",\"#B0BEC5\",\"#B0BEC5\",\"#B0BEC5\",\"#B0BEC5\",\"#B0BEC5\",\"#B0BEC5\"]]}],\"label\":\"Topic 9\",\"method\":\"update\"},{\"args\":[{\"marker.color\":[[\"#B0BEC5\",\"#B0BEC5\",\"#B0BEC5\",\"#B0BEC5\",\"#B0BEC5\",\"#B0BEC5\",\"#B0BEC5\",\"#B0BEC5\",\"#B0BEC5\",\"#B0BEC5\",\"red\",\"#B0BEC5\",\"#B0BEC5\",\"#B0BEC5\",\"#B0BEC5\",\"#B0BEC5\",\"#B0BEC5\",\"#B0BEC5\",\"#B0BEC5\",\"#B0BEC5\",\"#B0BEC5\",\"#B0BEC5\",\"#B0BEC5\",\"#B0BEC5\",\"#B0BEC5\",\"#B0BEC5\",\"#B0BEC5\",\"#B0BEC5\",\"#B0BEC5\",\"#B0BEC5\",\"#B0BEC5\",\"#B0BEC5\",\"#B0BEC5\",\"#B0BEC5\",\"#B0BEC5\",\"#B0BEC5\",\"#B0BEC5\",\"#B0BEC5\",\"#B0BEC5\"]]}],\"label\":\"Topic 10\",\"method\":\"update\"},{\"args\":[{\"marker.color\":[[\"#B0BEC5\",\"#B0BEC5\",\"#B0BEC5\",\"#B0BEC5\",\"#B0BEC5\",\"#B0BEC5\",\"#B0BEC5\",\"#B0BEC5\",\"#B0BEC5\",\"#B0BEC5\",\"#B0BEC5\",\"red\",\"#B0BEC5\",\"#B0BEC5\",\"#B0BEC5\",\"#B0BEC5\",\"#B0BEC5\",\"#B0BEC5\",\"#B0BEC5\",\"#B0BEC5\",\"#B0BEC5\",\"#B0BEC5\",\"#B0BEC5\",\"#B0BEC5\",\"#B0BEC5\",\"#B0BEC5\",\"#B0BEC5\",\"#B0BEC5\",\"#B0BEC5\",\"#B0BEC5\",\"#B0BEC5\",\"#B0BEC5\",\"#B0BEC5\",\"#B0BEC5\",\"#B0BEC5\",\"#B0BEC5\",\"#B0BEC5\",\"#B0BEC5\",\"#B0BEC5\"]]}],\"label\":\"Topic 11\",\"method\":\"update\"},{\"args\":[{\"marker.color\":[[\"#B0BEC5\",\"#B0BEC5\",\"#B0BEC5\",\"#B0BEC5\",\"#B0BEC5\",\"#B0BEC5\",\"#B0BEC5\",\"#B0BEC5\",\"#B0BEC5\",\"#B0BEC5\",\"#B0BEC5\",\"#B0BEC5\",\"red\",\"#B0BEC5\",\"#B0BEC5\",\"#B0BEC5\",\"#B0BEC5\",\"#B0BEC5\",\"#B0BEC5\",\"#B0BEC5\",\"#B0BEC5\",\"#B0BEC5\",\"#B0BEC5\",\"#B0BEC5\",\"#B0BEC5\",\"#B0BEC5\",\"#B0BEC5\",\"#B0BEC5\",\"#B0BEC5\",\"#B0BEC5\",\"#B0BEC5\",\"#B0BEC5\",\"#B0BEC5\",\"#B0BEC5\",\"#B0BEC5\",\"#B0BEC5\",\"#B0BEC5\",\"#B0BEC5\",\"#B0BEC5\"]]}],\"label\":\"Topic 12\",\"method\":\"update\"},{\"args\":[{\"marker.color\":[[\"#B0BEC5\",\"#B0BEC5\",\"#B0BEC5\",\"#B0BEC5\",\"#B0BEC5\",\"#B0BEC5\",\"#B0BEC5\",\"#B0BEC5\",\"#B0BEC5\",\"#B0BEC5\",\"#B0BEC5\",\"#B0BEC5\",\"#B0BEC5\",\"red\",\"#B0BEC5\",\"#B0BEC5\",\"#B0BEC5\",\"#B0BEC5\",\"#B0BEC5\",\"#B0BEC5\",\"#B0BEC5\",\"#B0BEC5\",\"#B0BEC5\",\"#B0BEC5\",\"#B0BEC5\",\"#B0BEC5\",\"#B0BEC5\",\"#B0BEC5\",\"#B0BEC5\",\"#B0BEC5\",\"#B0BEC5\",\"#B0BEC5\",\"#B0BEC5\",\"#B0BEC5\",\"#B0BEC5\",\"#B0BEC5\",\"#B0BEC5\",\"#B0BEC5\",\"#B0BEC5\"]]}],\"label\":\"Topic 13\",\"method\":\"update\"},{\"args\":[{\"marker.color\":[[\"#B0BEC5\",\"#B0BEC5\",\"#B0BEC5\",\"#B0BEC5\",\"#B0BEC5\",\"#B0BEC5\",\"#B0BEC5\",\"#B0BEC5\",\"#B0BEC5\",\"#B0BEC5\",\"#B0BEC5\",\"#B0BEC5\",\"#B0BEC5\",\"#B0BEC5\",\"red\",\"#B0BEC5\",\"#B0BEC5\",\"#B0BEC5\",\"#B0BEC5\",\"#B0BEC5\",\"#B0BEC5\",\"#B0BEC5\",\"#B0BEC5\",\"#B0BEC5\",\"#B0BEC5\",\"#B0BEC5\",\"#B0BEC5\",\"#B0BEC5\",\"#B0BEC5\",\"#B0BEC5\",\"#B0BEC5\",\"#B0BEC5\",\"#B0BEC5\",\"#B0BEC5\",\"#B0BEC5\",\"#B0BEC5\",\"#B0BEC5\",\"#B0BEC5\",\"#B0BEC5\"]]}],\"label\":\"Topic 14\",\"method\":\"update\"},{\"args\":[{\"marker.color\":[[\"#B0BEC5\",\"#B0BEC5\",\"#B0BEC5\",\"#B0BEC5\",\"#B0BEC5\",\"#B0BEC5\",\"#B0BEC5\",\"#B0BEC5\",\"#B0BEC5\",\"#B0BEC5\",\"#B0BEC5\",\"#B0BEC5\",\"#B0BEC5\",\"#B0BEC5\",\"#B0BEC5\",\"red\",\"#B0BEC5\",\"#B0BEC5\",\"#B0BEC5\",\"#B0BEC5\",\"#B0BEC5\",\"#B0BEC5\",\"#B0BEC5\",\"#B0BEC5\",\"#B0BEC5\",\"#B0BEC5\",\"#B0BEC5\",\"#B0BEC5\",\"#B0BEC5\",\"#B0BEC5\",\"#B0BEC5\",\"#B0BEC5\",\"#B0BEC5\",\"#B0BEC5\",\"#B0BEC5\",\"#B0BEC5\",\"#B0BEC5\",\"#B0BEC5\",\"#B0BEC5\"]]}],\"label\":\"Topic 15\",\"method\":\"update\"},{\"args\":[{\"marker.color\":[[\"#B0BEC5\",\"#B0BEC5\",\"#B0BEC5\",\"#B0BEC5\",\"#B0BEC5\",\"#B0BEC5\",\"#B0BEC5\",\"#B0BEC5\",\"#B0BEC5\",\"#B0BEC5\",\"#B0BEC5\",\"#B0BEC5\",\"#B0BEC5\",\"#B0BEC5\",\"#B0BEC5\",\"#B0BEC5\",\"red\",\"#B0BEC5\",\"#B0BEC5\",\"#B0BEC5\",\"#B0BEC5\",\"#B0BEC5\",\"#B0BEC5\",\"#B0BEC5\",\"#B0BEC5\",\"#B0BEC5\",\"#B0BEC5\",\"#B0BEC5\",\"#B0BEC5\",\"#B0BEC5\",\"#B0BEC5\",\"#B0BEC5\",\"#B0BEC5\",\"#B0BEC5\",\"#B0BEC5\",\"#B0BEC5\",\"#B0BEC5\",\"#B0BEC5\",\"#B0BEC5\"]]}],\"label\":\"Topic 16\",\"method\":\"update\"},{\"args\":[{\"marker.color\":[[\"#B0BEC5\",\"#B0BEC5\",\"#B0BEC5\",\"#B0BEC5\",\"#B0BEC5\",\"#B0BEC5\",\"#B0BEC5\",\"#B0BEC5\",\"#B0BEC5\",\"#B0BEC5\",\"#B0BEC5\",\"#B0BEC5\",\"#B0BEC5\",\"#B0BEC5\",\"#B0BEC5\",\"#B0BEC5\",\"#B0BEC5\",\"red\",\"#B0BEC5\",\"#B0BEC5\",\"#B0BEC5\",\"#B0BEC5\",\"#B0BEC5\",\"#B0BEC5\",\"#B0BEC5\",\"#B0BEC5\",\"#B0BEC5\",\"#B0BEC5\",\"#B0BEC5\",\"#B0BEC5\",\"#B0BEC5\",\"#B0BEC5\",\"#B0BEC5\",\"#B0BEC5\",\"#B0BEC5\",\"#B0BEC5\",\"#B0BEC5\",\"#B0BEC5\",\"#B0BEC5\"]]}],\"label\":\"Topic 17\",\"method\":\"update\"},{\"args\":[{\"marker.color\":[[\"#B0BEC5\",\"#B0BEC5\",\"#B0BEC5\",\"#B0BEC5\",\"#B0BEC5\",\"#B0BEC5\",\"#B0BEC5\",\"#B0BEC5\",\"#B0BEC5\",\"#B0BEC5\",\"#B0BEC5\",\"#B0BEC5\",\"#B0BEC5\",\"#B0BEC5\",\"#B0BEC5\",\"#B0BEC5\",\"#B0BEC5\",\"#B0BEC5\",\"red\",\"#B0BEC5\",\"#B0BEC5\",\"#B0BEC5\",\"#B0BEC5\",\"#B0BEC5\",\"#B0BEC5\",\"#B0BEC5\",\"#B0BEC5\",\"#B0BEC5\",\"#B0BEC5\",\"#B0BEC5\",\"#B0BEC5\",\"#B0BEC5\",\"#B0BEC5\",\"#B0BEC5\",\"#B0BEC5\",\"#B0BEC5\",\"#B0BEC5\",\"#B0BEC5\",\"#B0BEC5\"]]}],\"label\":\"Topic 18\",\"method\":\"update\"},{\"args\":[{\"marker.color\":[[\"#B0BEC5\",\"#B0BEC5\",\"#B0BEC5\",\"#B0BEC5\",\"#B0BEC5\",\"#B0BEC5\",\"#B0BEC5\",\"#B0BEC5\",\"#B0BEC5\",\"#B0BEC5\",\"#B0BEC5\",\"#B0BEC5\",\"#B0BEC5\",\"#B0BEC5\",\"#B0BEC5\",\"#B0BEC5\",\"#B0BEC5\",\"#B0BEC5\",\"#B0BEC5\",\"red\",\"#B0BEC5\",\"#B0BEC5\",\"#B0BEC5\",\"#B0BEC5\",\"#B0BEC5\",\"#B0BEC5\",\"#B0BEC5\",\"#B0BEC5\",\"#B0BEC5\",\"#B0BEC5\",\"#B0BEC5\",\"#B0BEC5\",\"#B0BEC5\",\"#B0BEC5\",\"#B0BEC5\",\"#B0BEC5\",\"#B0BEC5\",\"#B0BEC5\",\"#B0BEC5\"]]}],\"label\":\"Topic 19\",\"method\":\"update\"},{\"args\":[{\"marker.color\":[[\"#B0BEC5\",\"#B0BEC5\",\"#B0BEC5\",\"#B0BEC5\",\"#B0BEC5\",\"#B0BEC5\",\"#B0BEC5\",\"#B0BEC5\",\"#B0BEC5\",\"#B0BEC5\",\"#B0BEC5\",\"#B0BEC5\",\"#B0BEC5\",\"#B0BEC5\",\"#B0BEC5\",\"#B0BEC5\",\"#B0BEC5\",\"#B0BEC5\",\"#B0BEC5\",\"#B0BEC5\",\"red\",\"#B0BEC5\",\"#B0BEC5\",\"#B0BEC5\",\"#B0BEC5\",\"#B0BEC5\",\"#B0BEC5\",\"#B0BEC5\",\"#B0BEC5\",\"#B0BEC5\",\"#B0BEC5\",\"#B0BEC5\",\"#B0BEC5\",\"#B0BEC5\",\"#B0BEC5\",\"#B0BEC5\",\"#B0BEC5\",\"#B0BEC5\",\"#B0BEC5\"]]}],\"label\":\"Topic 20\",\"method\":\"update\"},{\"args\":[{\"marker.color\":[[\"#B0BEC5\",\"#B0BEC5\",\"#B0BEC5\",\"#B0BEC5\",\"#B0BEC5\",\"#B0BEC5\",\"#B0BEC5\",\"#B0BEC5\",\"#B0BEC5\",\"#B0BEC5\",\"#B0BEC5\",\"#B0BEC5\",\"#B0BEC5\",\"#B0BEC5\",\"#B0BEC5\",\"#B0BEC5\",\"#B0BEC5\",\"#B0BEC5\",\"#B0BEC5\",\"#B0BEC5\",\"#B0BEC5\",\"red\",\"#B0BEC5\",\"#B0BEC5\",\"#B0BEC5\",\"#B0BEC5\",\"#B0BEC5\",\"#B0BEC5\",\"#B0BEC5\",\"#B0BEC5\",\"#B0BEC5\",\"#B0BEC5\",\"#B0BEC5\",\"#B0BEC5\",\"#B0BEC5\",\"#B0BEC5\",\"#B0BEC5\",\"#B0BEC5\",\"#B0BEC5\"]]}],\"label\":\"Topic 21\",\"method\":\"update\"},{\"args\":[{\"marker.color\":[[\"#B0BEC5\",\"#B0BEC5\",\"#B0BEC5\",\"#B0BEC5\",\"#B0BEC5\",\"#B0BEC5\",\"#B0BEC5\",\"#B0BEC5\",\"#B0BEC5\",\"#B0BEC5\",\"#B0BEC5\",\"#B0BEC5\",\"#B0BEC5\",\"#B0BEC5\",\"#B0BEC5\",\"#B0BEC5\",\"#B0BEC5\",\"#B0BEC5\",\"#B0BEC5\",\"#B0BEC5\",\"#B0BEC5\",\"#B0BEC5\",\"red\",\"#B0BEC5\",\"#B0BEC5\",\"#B0BEC5\",\"#B0BEC5\",\"#B0BEC5\",\"#B0BEC5\",\"#B0BEC5\",\"#B0BEC5\",\"#B0BEC5\",\"#B0BEC5\",\"#B0BEC5\",\"#B0BEC5\",\"#B0BEC5\",\"#B0BEC5\",\"#B0BEC5\",\"#B0BEC5\"]]}],\"label\":\"Topic 22\",\"method\":\"update\"},{\"args\":[{\"marker.color\":[[\"#B0BEC5\",\"#B0BEC5\",\"#B0BEC5\",\"#B0BEC5\",\"#B0BEC5\",\"#B0BEC5\",\"#B0BEC5\",\"#B0BEC5\",\"#B0BEC5\",\"#B0BEC5\",\"#B0BEC5\",\"#B0BEC5\",\"#B0BEC5\",\"#B0BEC5\",\"#B0BEC5\",\"#B0BEC5\",\"#B0BEC5\",\"#B0BEC5\",\"#B0BEC5\",\"#B0BEC5\",\"#B0BEC5\",\"#B0BEC5\",\"#B0BEC5\",\"red\",\"#B0BEC5\",\"#B0BEC5\",\"#B0BEC5\",\"#B0BEC5\",\"#B0BEC5\",\"#B0BEC5\",\"#B0BEC5\",\"#B0BEC5\",\"#B0BEC5\",\"#B0BEC5\",\"#B0BEC5\",\"#B0BEC5\",\"#B0BEC5\",\"#B0BEC5\",\"#B0BEC5\"]]}],\"label\":\"Topic 23\",\"method\":\"update\"},{\"args\":[{\"marker.color\":[[\"#B0BEC5\",\"#B0BEC5\",\"#B0BEC5\",\"#B0BEC5\",\"#B0BEC5\",\"#B0BEC5\",\"#B0BEC5\",\"#B0BEC5\",\"#B0BEC5\",\"#B0BEC5\",\"#B0BEC5\",\"#B0BEC5\",\"#B0BEC5\",\"#B0BEC5\",\"#B0BEC5\",\"#B0BEC5\",\"#B0BEC5\",\"#B0BEC5\",\"#B0BEC5\",\"#B0BEC5\",\"#B0BEC5\",\"#B0BEC5\",\"#B0BEC5\",\"#B0BEC5\",\"red\",\"#B0BEC5\",\"#B0BEC5\",\"#B0BEC5\",\"#B0BEC5\",\"#B0BEC5\",\"#B0BEC5\",\"#B0BEC5\",\"#B0BEC5\",\"#B0BEC5\",\"#B0BEC5\",\"#B0BEC5\",\"#B0BEC5\",\"#B0BEC5\",\"#B0BEC5\"]]}],\"label\":\"Topic 24\",\"method\":\"update\"},{\"args\":[{\"marker.color\":[[\"#B0BEC5\",\"#B0BEC5\",\"#B0BEC5\",\"#B0BEC5\",\"#B0BEC5\",\"#B0BEC5\",\"#B0BEC5\",\"#B0BEC5\",\"#B0BEC5\",\"#B0BEC5\",\"#B0BEC5\",\"#B0BEC5\",\"#B0BEC5\",\"#B0BEC5\",\"#B0BEC5\",\"#B0BEC5\",\"#B0BEC5\",\"#B0BEC5\",\"#B0BEC5\",\"#B0BEC5\",\"#B0BEC5\",\"#B0BEC5\",\"#B0BEC5\",\"#B0BEC5\",\"#B0BEC5\",\"red\",\"#B0BEC5\",\"#B0BEC5\",\"#B0BEC5\",\"#B0BEC5\",\"#B0BEC5\",\"#B0BEC5\",\"#B0BEC5\",\"#B0BEC5\",\"#B0BEC5\",\"#B0BEC5\",\"#B0BEC5\",\"#B0BEC5\",\"#B0BEC5\"]]}],\"label\":\"Topic 25\",\"method\":\"update\"},{\"args\":[{\"marker.color\":[[\"#B0BEC5\",\"#B0BEC5\",\"#B0BEC5\",\"#B0BEC5\",\"#B0BEC5\",\"#B0BEC5\",\"#B0BEC5\",\"#B0BEC5\",\"#B0BEC5\",\"#B0BEC5\",\"#B0BEC5\",\"#B0BEC5\",\"#B0BEC5\",\"#B0BEC5\",\"#B0BEC5\",\"#B0BEC5\",\"#B0BEC5\",\"#B0BEC5\",\"#B0BEC5\",\"#B0BEC5\",\"#B0BEC5\",\"#B0BEC5\",\"#B0BEC5\",\"#B0BEC5\",\"#B0BEC5\",\"#B0BEC5\",\"red\",\"#B0BEC5\",\"#B0BEC5\",\"#B0BEC5\",\"#B0BEC5\",\"#B0BEC5\",\"#B0BEC5\",\"#B0BEC5\",\"#B0BEC5\",\"#B0BEC5\",\"#B0BEC5\",\"#B0BEC5\",\"#B0BEC5\"]]}],\"label\":\"Topic 26\",\"method\":\"update\"},{\"args\":[{\"marker.color\":[[\"#B0BEC5\",\"#B0BEC5\",\"#B0BEC5\",\"#B0BEC5\",\"#B0BEC5\",\"#B0BEC5\",\"#B0BEC5\",\"#B0BEC5\",\"#B0BEC5\",\"#B0BEC5\",\"#B0BEC5\",\"#B0BEC5\",\"#B0BEC5\",\"#B0BEC5\",\"#B0BEC5\",\"#B0BEC5\",\"#B0BEC5\",\"#B0BEC5\",\"#B0BEC5\",\"#B0BEC5\",\"#B0BEC5\",\"#B0BEC5\",\"#B0BEC5\",\"#B0BEC5\",\"#B0BEC5\",\"#B0BEC5\",\"#B0BEC5\",\"red\",\"#B0BEC5\",\"#B0BEC5\",\"#B0BEC5\",\"#B0BEC5\",\"#B0BEC5\",\"#B0BEC5\",\"#B0BEC5\",\"#B0BEC5\",\"#B0BEC5\",\"#B0BEC5\",\"#B0BEC5\"]]}],\"label\":\"Topic 27\",\"method\":\"update\"},{\"args\":[{\"marker.color\":[[\"#B0BEC5\",\"#B0BEC5\",\"#B0BEC5\",\"#B0BEC5\",\"#B0BEC5\",\"#B0BEC5\",\"#B0BEC5\",\"#B0BEC5\",\"#B0BEC5\",\"#B0BEC5\",\"#B0BEC5\",\"#B0BEC5\",\"#B0BEC5\",\"#B0BEC5\",\"#B0BEC5\",\"#B0BEC5\",\"#B0BEC5\",\"#B0BEC5\",\"#B0BEC5\",\"#B0BEC5\",\"#B0BEC5\",\"#B0BEC5\",\"#B0BEC5\",\"#B0BEC5\",\"#B0BEC5\",\"#B0BEC5\",\"#B0BEC5\",\"#B0BEC5\",\"red\",\"#B0BEC5\",\"#B0BEC5\",\"#B0BEC5\",\"#B0BEC5\",\"#B0BEC5\",\"#B0BEC5\",\"#B0BEC5\",\"#B0BEC5\",\"#B0BEC5\",\"#B0BEC5\"]]}],\"label\":\"Topic 28\",\"method\":\"update\"},{\"args\":[{\"marker.color\":[[\"#B0BEC5\",\"#B0BEC5\",\"#B0BEC5\",\"#B0BEC5\",\"#B0BEC5\",\"#B0BEC5\",\"#B0BEC5\",\"#B0BEC5\",\"#B0BEC5\",\"#B0BEC5\",\"#B0BEC5\",\"#B0BEC5\",\"#B0BEC5\",\"#B0BEC5\",\"#B0BEC5\",\"#B0BEC5\",\"#B0BEC5\",\"#B0BEC5\",\"#B0BEC5\",\"#B0BEC5\",\"#B0BEC5\",\"#B0BEC5\",\"#B0BEC5\",\"#B0BEC5\",\"#B0BEC5\",\"#B0BEC5\",\"#B0BEC5\",\"#B0BEC5\",\"#B0BEC5\",\"red\",\"#B0BEC5\",\"#B0BEC5\",\"#B0BEC5\",\"#B0BEC5\",\"#B0BEC5\",\"#B0BEC5\",\"#B0BEC5\",\"#B0BEC5\",\"#B0BEC5\"]]}],\"label\":\"Topic 29\",\"method\":\"update\"},{\"args\":[{\"marker.color\":[[\"#B0BEC5\",\"#B0BEC5\",\"#B0BEC5\",\"#B0BEC5\",\"#B0BEC5\",\"#B0BEC5\",\"#B0BEC5\",\"#B0BEC5\",\"#B0BEC5\",\"#B0BEC5\",\"#B0BEC5\",\"#B0BEC5\",\"#B0BEC5\",\"#B0BEC5\",\"#B0BEC5\",\"#B0BEC5\",\"#B0BEC5\",\"#B0BEC5\",\"#B0BEC5\",\"#B0BEC5\",\"#B0BEC5\",\"#B0BEC5\",\"#B0BEC5\",\"#B0BEC5\",\"#B0BEC5\",\"#B0BEC5\",\"#B0BEC5\",\"#B0BEC5\",\"#B0BEC5\",\"#B0BEC5\",\"red\",\"#B0BEC5\",\"#B0BEC5\",\"#B0BEC5\",\"#B0BEC5\",\"#B0BEC5\",\"#B0BEC5\",\"#B0BEC5\",\"#B0BEC5\"]]}],\"label\":\"Topic 30\",\"method\":\"update\"},{\"args\":[{\"marker.color\":[[\"#B0BEC5\",\"#B0BEC5\",\"#B0BEC5\",\"#B0BEC5\",\"#B0BEC5\",\"#B0BEC5\",\"#B0BEC5\",\"#B0BEC5\",\"#B0BEC5\",\"#B0BEC5\",\"#B0BEC5\",\"#B0BEC5\",\"#B0BEC5\",\"#B0BEC5\",\"#B0BEC5\",\"#B0BEC5\",\"#B0BEC5\",\"#B0BEC5\",\"#B0BEC5\",\"#B0BEC5\",\"#B0BEC5\",\"#B0BEC5\",\"#B0BEC5\",\"#B0BEC5\",\"#B0BEC5\",\"#B0BEC5\",\"#B0BEC5\",\"#B0BEC5\",\"#B0BEC5\",\"#B0BEC5\",\"#B0BEC5\",\"red\",\"#B0BEC5\",\"#B0BEC5\",\"#B0BEC5\",\"#B0BEC5\",\"#B0BEC5\",\"#B0BEC5\",\"#B0BEC5\"]]}],\"label\":\"Topic 31\",\"method\":\"update\"},{\"args\":[{\"marker.color\":[[\"#B0BEC5\",\"#B0BEC5\",\"#B0BEC5\",\"#B0BEC5\",\"#B0BEC5\",\"#B0BEC5\",\"#B0BEC5\",\"#B0BEC5\",\"#B0BEC5\",\"#B0BEC5\",\"#B0BEC5\",\"#B0BEC5\",\"#B0BEC5\",\"#B0BEC5\",\"#B0BEC5\",\"#B0BEC5\",\"#B0BEC5\",\"#B0BEC5\",\"#B0BEC5\",\"#B0BEC5\",\"#B0BEC5\",\"#B0BEC5\",\"#B0BEC5\",\"#B0BEC5\",\"#B0BEC5\",\"#B0BEC5\",\"#B0BEC5\",\"#B0BEC5\",\"#B0BEC5\",\"#B0BEC5\",\"#B0BEC5\",\"#B0BEC5\",\"red\",\"#B0BEC5\",\"#B0BEC5\",\"#B0BEC5\",\"#B0BEC5\",\"#B0BEC5\",\"#B0BEC5\"]]}],\"label\":\"Topic 32\",\"method\":\"update\"},{\"args\":[{\"marker.color\":[[\"#B0BEC5\",\"#B0BEC5\",\"#B0BEC5\",\"#B0BEC5\",\"#B0BEC5\",\"#B0BEC5\",\"#B0BEC5\",\"#B0BEC5\",\"#B0BEC5\",\"#B0BEC5\",\"#B0BEC5\",\"#B0BEC5\",\"#B0BEC5\",\"#B0BEC5\",\"#B0BEC5\",\"#B0BEC5\",\"#B0BEC5\",\"#B0BEC5\",\"#B0BEC5\",\"#B0BEC5\",\"#B0BEC5\",\"#B0BEC5\",\"#B0BEC5\",\"#B0BEC5\",\"#B0BEC5\",\"#B0BEC5\",\"#B0BEC5\",\"#B0BEC5\",\"#B0BEC5\",\"#B0BEC5\",\"#B0BEC5\",\"#B0BEC5\",\"#B0BEC5\",\"red\",\"#B0BEC5\",\"#B0BEC5\",\"#B0BEC5\",\"#B0BEC5\",\"#B0BEC5\"]]}],\"label\":\"Topic 33\",\"method\":\"update\"},{\"args\":[{\"marker.color\":[[\"#B0BEC5\",\"#B0BEC5\",\"#B0BEC5\",\"#B0BEC5\",\"#B0BEC5\",\"#B0BEC5\",\"#B0BEC5\",\"#B0BEC5\",\"#B0BEC5\",\"#B0BEC5\",\"#B0BEC5\",\"#B0BEC5\",\"#B0BEC5\",\"#B0BEC5\",\"#B0BEC5\",\"#B0BEC5\",\"#B0BEC5\",\"#B0BEC5\",\"#B0BEC5\",\"#B0BEC5\",\"#B0BEC5\",\"#B0BEC5\",\"#B0BEC5\",\"#B0BEC5\",\"#B0BEC5\",\"#B0BEC5\",\"#B0BEC5\",\"#B0BEC5\",\"#B0BEC5\",\"#B0BEC5\",\"#B0BEC5\",\"#B0BEC5\",\"#B0BEC5\",\"#B0BEC5\",\"red\",\"#B0BEC5\",\"#B0BEC5\",\"#B0BEC5\",\"#B0BEC5\"]]}],\"label\":\"Topic 34\",\"method\":\"update\"},{\"args\":[{\"marker.color\":[[\"#B0BEC5\",\"#B0BEC5\",\"#B0BEC5\",\"#B0BEC5\",\"#B0BEC5\",\"#B0BEC5\",\"#B0BEC5\",\"#B0BEC5\",\"#B0BEC5\",\"#B0BEC5\",\"#B0BEC5\",\"#B0BEC5\",\"#B0BEC5\",\"#B0BEC5\",\"#B0BEC5\",\"#B0BEC5\",\"#B0BEC5\",\"#B0BEC5\",\"#B0BEC5\",\"#B0BEC5\",\"#B0BEC5\",\"#B0BEC5\",\"#B0BEC5\",\"#B0BEC5\",\"#B0BEC5\",\"#B0BEC5\",\"#B0BEC5\",\"#B0BEC5\",\"#B0BEC5\",\"#B0BEC5\",\"#B0BEC5\",\"#B0BEC5\",\"#B0BEC5\",\"#B0BEC5\",\"#B0BEC5\",\"red\",\"#B0BEC5\",\"#B0BEC5\",\"#B0BEC5\"]]}],\"label\":\"Topic 35\",\"method\":\"update\"},{\"args\":[{\"marker.color\":[[\"#B0BEC5\",\"#B0BEC5\",\"#B0BEC5\",\"#B0BEC5\",\"#B0BEC5\",\"#B0BEC5\",\"#B0BEC5\",\"#B0BEC5\",\"#B0BEC5\",\"#B0BEC5\",\"#B0BEC5\",\"#B0BEC5\",\"#B0BEC5\",\"#B0BEC5\",\"#B0BEC5\",\"#B0BEC5\",\"#B0BEC5\",\"#B0BEC5\",\"#B0BEC5\",\"#B0BEC5\",\"#B0BEC5\",\"#B0BEC5\",\"#B0BEC5\",\"#B0BEC5\",\"#B0BEC5\",\"#B0BEC5\",\"#B0BEC5\",\"#B0BEC5\",\"#B0BEC5\",\"#B0BEC5\",\"#B0BEC5\",\"#B0BEC5\",\"#B0BEC5\",\"#B0BEC5\",\"#B0BEC5\",\"#B0BEC5\",\"red\",\"#B0BEC5\",\"#B0BEC5\"]]}],\"label\":\"Topic 36\",\"method\":\"update\"},{\"args\":[{\"marker.color\":[[\"#B0BEC5\",\"#B0BEC5\",\"#B0BEC5\",\"#B0BEC5\",\"#B0BEC5\",\"#B0BEC5\",\"#B0BEC5\",\"#B0BEC5\",\"#B0BEC5\",\"#B0BEC5\",\"#B0BEC5\",\"#B0BEC5\",\"#B0BEC5\",\"#B0BEC5\",\"#B0BEC5\",\"#B0BEC5\",\"#B0BEC5\",\"#B0BEC5\",\"#B0BEC5\",\"#B0BEC5\",\"#B0BEC5\",\"#B0BEC5\",\"#B0BEC5\",\"#B0BEC5\",\"#B0BEC5\",\"#B0BEC5\",\"#B0BEC5\",\"#B0BEC5\",\"#B0BEC5\",\"#B0BEC5\",\"#B0BEC5\",\"#B0BEC5\",\"#B0BEC5\",\"#B0BEC5\",\"#B0BEC5\",\"#B0BEC5\",\"#B0BEC5\",\"red\",\"#B0BEC5\"]]}],\"label\":\"Topic 37\",\"method\":\"update\"},{\"args\":[{\"marker.color\":[[\"#B0BEC5\",\"#B0BEC5\",\"#B0BEC5\",\"#B0BEC5\",\"#B0BEC5\",\"#B0BEC5\",\"#B0BEC5\",\"#B0BEC5\",\"#B0BEC5\",\"#B0BEC5\",\"#B0BEC5\",\"#B0BEC5\",\"#B0BEC5\",\"#B0BEC5\",\"#B0BEC5\",\"#B0BEC5\",\"#B0BEC5\",\"#B0BEC5\",\"#B0BEC5\",\"#B0BEC5\",\"#B0BEC5\",\"#B0BEC5\",\"#B0BEC5\",\"#B0BEC5\",\"#B0BEC5\",\"#B0BEC5\",\"#B0BEC5\",\"#B0BEC5\",\"#B0BEC5\",\"#B0BEC5\",\"#B0BEC5\",\"#B0BEC5\",\"#B0BEC5\",\"#B0BEC5\",\"#B0BEC5\",\"#B0BEC5\",\"#B0BEC5\",\"#B0BEC5\",\"red\"]]}],\"label\":\"Topic 38\",\"method\":\"update\"}]}],\"shapes\":[{\"line\":{\"color\":\"#CFD8DC\",\"width\":2},\"type\":\"line\",\"x0\":1.7449188232421875,\"x1\":1.7449188232421875,\"y0\":-10.515127182006836,\"y1\":19.806522369384766},{\"line\":{\"color\":\"#9E9E9E\",\"width\":2},\"type\":\"line\",\"x0\":-20.0438232421875,\"x1\":23.533660888671875,\"y0\":4.645697593688965,\"y1\":4.645697593688965}],\"annotations\":[{\"showarrow\":false,\"text\":\"D1\",\"x\":-20.0438232421875,\"y\":4.645697593688965,\"yshift\":10},{\"showarrow\":false,\"text\":\"D2\",\"x\":1.7449188232421875,\"xshift\":10,\"y\":19.806522369384766}]},                        {\"responsive\": true}                    )                };            </script>        </div>"
      ],
      "text/plain": [
       "Figure({\n",
       "    'data': [{'customdata': array([[0, 'consolidationbr | debt | consolidate | consolidation | credit',\n",
       "                                    2133],\n",
       "                                   [1, 'loan | my | to | this | the', 1521],\n",
       "                                   [2, 'cardsbr | off | pay | credit | high', 876],\n",
       "                                   [3, 'pay | credit | off | cards | want', 624],\n",
       "                                   [4, 'loan | for | home | the | car', 376],\n",
       "                                   [5, 'funds | use | my | plan | to', 338],\n",
       "                                   [6, 'consolidate | to | pay | credit | off', 334],\n",
       "                                   [7, 'business | the | in | for | and', 315],\n",
       "                                   [8, 'refinance | refinancingbr | card | credit | refinancing', 153],\n",
       "                                   [9, 'medical | surgery | insurance | not | for', 134],\n",
       "                                   [10, 'wedding | our | for | the | we', 133],\n",
       "                                   [11, 'pool | poolbr | swimming | inground | we', 104],\n",
       "                                   [12, 'home | improvementbr | improvementsbr | improvement | house',\n",
       "                                    101],\n",
       "                                   [13, 'moving | apartment | move | need | deposit', 90],\n",
       "                                   [14, 'added | on | have | my | for', 81],\n",
       "                                   [15, 'never | late | payment | have | missed', 75],\n",
       "                                   [16, 'thank | thanksbr | youbr | you | email', 70],\n",
       "                                   [17, 'billsbr | bill | consolidate | consolidationbr | bills', 70],\n",
       "                                   [18, 'medical | billsbr | consolidation | hospital | bills', 57],\n",
       "                                   [19, 'kitchen | bathroom | remodel | remodeling | bathroombr', 57],\n",
       "                                   [20, 'consolidationbr | debit | dept | consolidation | consolidatebr',\n",
       "                                    57],\n",
       "                                   [21, 'land | property | funds | in | for', 55],\n",
       "                                   [22, 'car | purchase | truck | vehiclebr | buy', 50],\n",
       "                                   [23, 'irs | 401k | tax | taxes | the', 48],\n",
       "                                   [24, 'vacation | vacationbr | family | take | see', 42],\n",
       "                                   [25, 'roof | new | roofbr | replace | need', 35],\n",
       "                                   [26, 'her | she | school | tuition | attend', 33],\n",
       "                                   [27, 'boat | boatbr | purchase | motor | we', 29],\n",
       "                                   [28, 'taxesbr | taxes | taxesbrbr | tax | irs', 26],\n",
       "                                   [29, 'ring | engagement | girlfriend | an | wedding', 25],\n",
       "                                   [30, 'same | job | for | company | worked', 24],\n",
       "                                   [31, 'repairsbr | car | auto | repair | carbr', 22],\n",
       "                                   [32, 'motorcycle | davidson | harley | miles | bike', 20],\n",
       "                                   [33, 'fence | patio | wooden | yard | water', 18],\n",
       "                                   [34, 'unit | air | panel | there | conditioning', 17],\n",
       "                                   [35, 'together | wedding | our | weddingbr | fianceacute', 14],\n",
       "                                   [36, 'trailerbr | carbr | motorbr | atvbr | chev', 13],\n",
       "                                   [37, 'citi | capital | discover | bank | citibank', 13],\n",
       "                                   [38, 'lc | original | with | loan | 2nd', 11]], dtype=object),\n",
       "              'hovertemplate': '<b>Topic %{customdata[0]}</b><br>%{customdata[1]}<br>Size: %{customdata[2]}',\n",
       "              'legendgroup': '',\n",
       "              'marker': {'color': '#B0BEC5',\n",
       "                         'line': {'color': 'DarkSlateGrey', 'width': 2},\n",
       "                         'size': {'bdata': ('VQjxBWwDcAJ4AVIBTgE7AZkAhgCFAG' ... 'AaABkAGAAWABQAEgARAA4ADQANAAsA'),\n",
       "                                  'dtype': 'i2'},\n",
       "                         'sizemode': 'area',\n",
       "                         'sizeref': 1.333125,\n",
       "                         'symbol': 'circle'},\n",
       "              'mode': 'markers',\n",
       "              'name': '',\n",
       "              'orientation': 'v',\n",
       "              'showlegend': False,\n",
       "              'type': 'scatter',\n",
       "              'x': {'bdata': ('/MyQwC7fgMC314nBHYKIwfJzpsCI/o' ... 'ajQVE/GEEimVVBNQgTQFSMicEnVmzA'),\n",
       "                    'dtype': 'f4'},\n",
       "              'xaxis': 'x',\n",
       "              'y': {'bdata': ('aGCqQBW9sUCn+xVBiaUYQSD4fUC2qM' ... 'QUQUWY0MCbASFBxoWIQaeRFkFwf7BA'),\n",
       "                    'dtype': 'f4'},\n",
       "              'yaxis': 'y'}],\n",
       "    'layout': {'annotations': [{'showarrow': False,\n",
       "                                'text': 'D1',\n",
       "                                'x': np.float32(-20.043823),\n",
       "                                'y': np.float32(4.6456976),\n",
       "                                'yshift': 10},\n",
       "                               {'showarrow': False,\n",
       "                                'text': 'D2',\n",
       "                                'x': np.float32(1.7449188),\n",
       "                                'xshift': 10,\n",
       "                                'y': np.float32(19.806522)}],\n",
       "               'height': 650,\n",
       "               'hoverlabel': {'bgcolor': 'white', 'font': {'family': 'Rockwell', 'size': 16}},\n",
       "               'legend': {'itemsizing': 'constant', 'tracegroupgap': 0},\n",
       "               'margin': {'t': 60},\n",
       "               'shapes': [{'line': {'color': '#CFD8DC', 'width': 2},\n",
       "                           'type': 'line',\n",
       "                           'x0': np.float32(1.7449188),\n",
       "                           'x1': np.float32(1.7449188),\n",
       "                           'y0': np.float32(-10.515127),\n",
       "                           'y1': np.float32(19.806522)},\n",
       "                          {'line': {'color': '#9E9E9E', 'width': 2},\n",
       "                           'type': 'line',\n",
       "                           'x0': np.float32(-20.043823),\n",
       "                           'x1': np.float32(23.53366),\n",
       "                           'y0': np.float32(4.6456976),\n",
       "                           'y1': np.float32(4.6456976)}],\n",
       "               'sliders': [{'active': 0,\n",
       "                            'pad': {'t': 50},\n",
       "                            'steps': [{'args': [{'marker.color': [['red',\n",
       "                                                                  '#B0BEC5',\n",
       "                                                                  '#B0BEC5',\n",
       "                                                                  '#B0BEC5',\n",
       "                                                                  '#B0BEC5',\n",
       "                                                                  '#B0BEC5',\n",
       "                                                                  '#B0BEC5',\n",
       "                                                                  '#B0BEC5',\n",
       "                                                                  '#B0BEC5',\n",
       "                                                                  '#B0BEC5',\n",
       "                                                                  '#B0BEC5',\n",
       "                                                                  '#B0BEC5',\n",
       "                                                                  '#B0BEC5',\n",
       "                                                                  '#B0BEC5',\n",
       "                                                                  '#B0BEC5',\n",
       "                                                                  '#B0BEC5',\n",
       "                                                                  '#B0BEC5',\n",
       "                                                                  '#B0BEC5',\n",
       "                                                                  '#B0BEC5',\n",
       "                                                                  '#B0BEC5',\n",
       "                                                                  '#B0BEC5',\n",
       "                                                                  '#B0BEC5',\n",
       "                                                                  '#B0BEC5',\n",
       "                                                                  '#B0BEC5',\n",
       "                                                                  '#B0BEC5',\n",
       "                                                                  '#B0BEC5',\n",
       "                                                                  '#B0BEC5',\n",
       "                                                                  '#B0BEC5',\n",
       "                                                                  '#B0BEC5',\n",
       "                                                                  '#B0BEC5',\n",
       "                                                                  '#B0BEC5',\n",
       "                                                                  '#B0BEC5',\n",
       "                                                                  '#B0BEC5',\n",
       "                                                                  '#B0BEC5',\n",
       "                                                                  '#B0BEC5',\n",
       "                                                                  '#B0BEC5',\n",
       "                                                                  '#B0BEC5',\n",
       "                                                                  '#B0BEC5',\n",
       "                                                                  '#B0BEC5']]}],\n",
       "                                       'label': 'Topic 0',\n",
       "                                       'method': 'update'},\n",
       "                                      {'args': [{'marker.color': [['#B0BEC5',\n",
       "                                                                  'red', '#B0BEC5',\n",
       "                                                                  '#B0BEC5',\n",
       "                                                                  '#B0BEC5',\n",
       "                                                                  '#B0BEC5',\n",
       "                                                                  '#B0BEC5',\n",
       "                                                                  '#B0BEC5',\n",
       "                                                                  '#B0BEC5',\n",
       "                                                                  '#B0BEC5',\n",
       "                                                                  '#B0BEC5',\n",
       "                                                                  '#B0BEC5',\n",
       "                                                                  '#B0BEC5',\n",
       "                                                                  '#B0BEC5',\n",
       "                                                                  '#B0BEC5',\n",
       "                                                                  '#B0BEC5',\n",
       "                                                                  '#B0BEC5',\n",
       "                                                                  '#B0BEC5',\n",
       "                                                                  '#B0BEC5',\n",
       "                                                                  '#B0BEC5',\n",
       "                                                                  '#B0BEC5',\n",
       "                                                                  '#B0BEC5',\n",
       "                                                                  '#B0BEC5',\n",
       "                                                                  '#B0BEC5',\n",
       "                                                                  '#B0BEC5',\n",
       "                                                                  '#B0BEC5',\n",
       "                                                                  '#B0BEC5',\n",
       "                                                                  '#B0BEC5',\n",
       "                                                                  '#B0BEC5',\n",
       "                                                                  '#B0BEC5',\n",
       "                                                                  '#B0BEC5',\n",
       "                                                                  '#B0BEC5',\n",
       "                                                                  '#B0BEC5',\n",
       "                                                                  '#B0BEC5',\n",
       "                                                                  '#B0BEC5',\n",
       "                                                                  '#B0BEC5',\n",
       "                                                                  '#B0BEC5',\n",
       "                                                                  '#B0BEC5',\n",
       "                                                                  '#B0BEC5']]}],\n",
       "                                       'label': 'Topic 1',\n",
       "                                       'method': 'update'},\n",
       "                                      {'args': [{'marker.color': [['#B0BEC5',\n",
       "                                                                  '#B0BEC5', 'red',\n",
       "                                                                  '#B0BEC5',\n",
       "                                                                  '#B0BEC5',\n",
       "                                                                  '#B0BEC5',\n",
       "                                                                  '#B0BEC5',\n",
       "                                                                  '#B0BEC5',\n",
       "                                                                  '#B0BEC5',\n",
       "                                                                  '#B0BEC5',\n",
       "                                                                  '#B0BEC5',\n",
       "                                                                  '#B0BEC5',\n",
       "                                                                  '#B0BEC5',\n",
       "                                                                  '#B0BEC5',\n",
       "                                                                  '#B0BEC5',\n",
       "                                                                  '#B0BEC5',\n",
       "                                                                  '#B0BEC5',\n",
       "                                                                  '#B0BEC5',\n",
       "                                                                  '#B0BEC5',\n",
       "                                                                  '#B0BEC5',\n",
       "                                                                  '#B0BEC5',\n",
       "                                                                  '#B0BEC5',\n",
       "                                                                  '#B0BEC5',\n",
       "                                                                  '#B0BEC5',\n",
       "                                                                  '#B0BEC5',\n",
       "                                                                  '#B0BEC5',\n",
       "                                                                  '#B0BEC5',\n",
       "                                                                  '#B0BEC5',\n",
       "                                                                  '#B0BEC5',\n",
       "                                                                  '#B0BEC5',\n",
       "                                                                  '#B0BEC5',\n",
       "                                                                  '#B0BEC5',\n",
       "                                                                  '#B0BEC5',\n",
       "                                                                  '#B0BEC5',\n",
       "                                                                  '#B0BEC5',\n",
       "                                                                  '#B0BEC5',\n",
       "                                                                  '#B0BEC5',\n",
       "                                                                  '#B0BEC5',\n",
       "                                                                  '#B0BEC5']]}],\n",
       "                                       'label': 'Topic 2',\n",
       "                                       'method': 'update'},\n",
       "                                      {'args': [{'marker.color': [['#B0BEC5',\n",
       "                                                                  '#B0BEC5',\n",
       "                                                                  '#B0BEC5', 'red',\n",
       "                                                                  '#B0BEC5',\n",
       "                                                                  '#B0BEC5',\n",
       "                                                                  '#B0BEC5',\n",
       "                                                                  '#B0BEC5',\n",
       "                                                                  '#B0BEC5',\n",
       "                                                                  '#B0BEC5',\n",
       "                                                                  '#B0BEC5',\n",
       "                                                                  '#B0BEC5',\n",
       "                                                                  '#B0BEC5',\n",
       "                                                                  '#B0BEC5',\n",
       "                                                                  '#B0BEC5',\n",
       "                                                                  '#B0BEC5',\n",
       "                                                                  '#B0BEC5',\n",
       "                                                                  '#B0BEC5',\n",
       "                                                                  '#B0BEC5',\n",
       "                                                                  '#B0BEC5',\n",
       "                                                                  '#B0BEC5',\n",
       "                                                                  '#B0BEC5',\n",
       "                                                                  '#B0BEC5',\n",
       "                                                                  '#B0BEC5',\n",
       "                                                                  '#B0BEC5',\n",
       "                                                                  '#B0BEC5',\n",
       "                                                                  '#B0BEC5',\n",
       "                                                                  '#B0BEC5',\n",
       "                                                                  '#B0BEC5',\n",
       "                                                                  '#B0BEC5',\n",
       "                                                                  '#B0BEC5',\n",
       "                                                                  '#B0BEC5',\n",
       "                                                                  '#B0BEC5',\n",
       "                                                                  '#B0BEC5',\n",
       "                                                                  '#B0BEC5',\n",
       "                                                                  '#B0BEC5',\n",
       "                                                                  '#B0BEC5',\n",
       "                                                                  '#B0BEC5',\n",
       "                                                                  '#B0BEC5']]}],\n",
       "                                       'label': 'Topic 3',\n",
       "                                       'method': 'update'},\n",
       "                                      {'args': [{'marker.color': [['#B0BEC5',\n",
       "                                                                  '#B0BEC5',\n",
       "                                                                  '#B0BEC5',\n",
       "                                                                  '#B0BEC5', 'red',\n",
       "                                                                  '#B0BEC5',\n",
       "                                                                  '#B0BEC5',\n",
       "                                                                  '#B0BEC5',\n",
       "                                                                  '#B0BEC5',\n",
       "                                                                  '#B0BEC5',\n",
       "                                                                  '#B0BEC5',\n",
       "                                                                  '#B0BEC5',\n",
       "                                                                  '#B0BEC5',\n",
       "                                                                  '#B0BEC5',\n",
       "                                                                  '#B0BEC5',\n",
       "                                                                  '#B0BEC5',\n",
       "                                                                  '#B0BEC5',\n",
       "                                                                  '#B0BEC5',\n",
       "                                                                  '#B0BEC5',\n",
       "                                                                  '#B0BEC5',\n",
       "                                                                  '#B0BEC5',\n",
       "                                                                  '#B0BEC5',\n",
       "                                                                  '#B0BEC5',\n",
       "                                                                  '#B0BEC5',\n",
       "                                                                  '#B0BEC5',\n",
       "                                                                  '#B0BEC5',\n",
       "                                                                  '#B0BEC5',\n",
       "                                                                  '#B0BEC5',\n",
       "                                                                  '#B0BEC5',\n",
       "                                                                  '#B0BEC5',\n",
       "                                                                  '#B0BEC5',\n",
       "                                                                  '#B0BEC5',\n",
       "                                                                  '#B0BEC5',\n",
       "                                                                  '#B0BEC5',\n",
       "                                                                  '#B0BEC5',\n",
       "                                                                  '#B0BEC5',\n",
       "                                                                  '#B0BEC5',\n",
       "                                                                  '#B0BEC5',\n",
       "                                                                  '#B0BEC5']]}],\n",
       "                                       'label': 'Topic 4',\n",
       "                                       'method': 'update'},\n",
       "                                      {'args': [{'marker.color': [['#B0BEC5',\n",
       "                                                                  '#B0BEC5',\n",
       "                                                                  '#B0BEC5',\n",
       "                                                                  '#B0BEC5',\n",
       "                                                                  '#B0BEC5', 'red',\n",
       "                                                                  '#B0BEC5',\n",
       "                                                                  '#B0BEC5',\n",
       "                                                                  '#B0BEC5',\n",
       "                                                                  '#B0BEC5',\n",
       "                                                                  '#B0BEC5',\n",
       "                                                                  '#B0BEC5',\n",
       "                                                                  '#B0BEC5',\n",
       "                                                                  '#B0BEC5',\n",
       "                                                                  '#B0BEC5',\n",
       "                                                                  '#B0BEC5',\n",
       "                                                                  '#B0BEC5',\n",
       "                                                                  '#B0BEC5',\n",
       "                                                                  '#B0BEC5',\n",
       "                                                                  '#B0BEC5',\n",
       "                                                                  '#B0BEC5',\n",
       "                                                                  '#B0BEC5',\n",
       "                                                                  '#B0BEC5',\n",
       "                                                                  '#B0BEC5',\n",
       "                                                                  '#B0BEC5',\n",
       "                                                                  '#B0BEC5',\n",
       "                                                                  '#B0BEC5',\n",
       "                                                                  '#B0BEC5',\n",
       "                                                                  '#B0BEC5',\n",
       "                                                                  '#B0BEC5',\n",
       "                                                                  '#B0BEC5',\n",
       "                                                                  '#B0BEC5',\n",
       "                                                                  '#B0BEC5',\n",
       "                                                                  '#B0BEC5',\n",
       "                                                                  '#B0BEC5',\n",
       "                                                                  '#B0BEC5',\n",
       "                                                                  '#B0BEC5',\n",
       "                                                                  '#B0BEC5',\n",
       "                                                                  '#B0BEC5']]}],\n",
       "                                       'label': 'Topic 5',\n",
       "                                       'method': 'update'},\n",
       "                                      {'args': [{'marker.color': [['#B0BEC5',\n",
       "                                                                  '#B0BEC5',\n",
       "                                                                  '#B0BEC5',\n",
       "                                                                  '#B0BEC5',\n",
       "                                                                  '#B0BEC5',\n",
       "                                                                  '#B0BEC5', 'red',\n",
       "                                                                  '#B0BEC5',\n",
       "                                                                  '#B0BEC5',\n",
       "                                                                  '#B0BEC5',\n",
       "                                                                  '#B0BEC5',\n",
       "                                                                  '#B0BEC5',\n",
       "                                                                  '#B0BEC5',\n",
       "                                                                  '#B0BEC5',\n",
       "                                                                  '#B0BEC5',\n",
       "                                                                  '#B0BEC5',\n",
       "                                                                  '#B0BEC5',\n",
       "                                                                  '#B0BEC5',\n",
       "                                                                  '#B0BEC5',\n",
       "                                                                  '#B0BEC5',\n",
       "                                                                  '#B0BEC5',\n",
       "                                                                  '#B0BEC5',\n",
       "                                                                  '#B0BEC5',\n",
       "                                                                  '#B0BEC5',\n",
       "                                                                  '#B0BEC5',\n",
       "                                                                  '#B0BEC5',\n",
       "                                                                  '#B0BEC5',\n",
       "                                                                  '#B0BEC5',\n",
       "                                                                  '#B0BEC5',\n",
       "                                                                  '#B0BEC5',\n",
       "                                                                  '#B0BEC5',\n",
       "                                                                  '#B0BEC5',\n",
       "                                                                  '#B0BEC5',\n",
       "                                                                  '#B0BEC5',\n",
       "                                                                  '#B0BEC5',\n",
       "                                                                  '#B0BEC5',\n",
       "                                                                  '#B0BEC5',\n",
       "                                                                  '#B0BEC5',\n",
       "                                                                  '#B0BEC5']]}],\n",
       "                                       'label': 'Topic 6',\n",
       "                                       'method': 'update'},\n",
       "                                      {'args': [{'marker.color': [['#B0BEC5',\n",
       "                                                                  '#B0BEC5',\n",
       "                                                                  '#B0BEC5',\n",
       "                                                                  '#B0BEC5',\n",
       "                                                                  '#B0BEC5',\n",
       "                                                                  '#B0BEC5',\n",
       "                                                                  '#B0BEC5', 'red',\n",
       "                                                                  '#B0BEC5',\n",
       "                                                                  '#B0BEC5',\n",
       "                                                                  '#B0BEC5',\n",
       "                                                                  '#B0BEC5',\n",
       "                                                                  '#B0BEC5',\n",
       "                                                                  '#B0BEC5',\n",
       "                                                                  '#B0BEC5',\n",
       "                                                                  '#B0BEC5',\n",
       "                                                                  '#B0BEC5',\n",
       "                                                                  '#B0BEC5',\n",
       "                                                                  '#B0BEC5',\n",
       "                                                                  '#B0BEC5',\n",
       "                                                                  '#B0BEC5',\n",
       "                                                                  '#B0BEC5',\n",
       "                                                                  '#B0BEC5',\n",
       "                                                                  '#B0BEC5',\n",
       "                                                                  '#B0BEC5',\n",
       "                                                                  '#B0BEC5',\n",
       "                                                                  '#B0BEC5',\n",
       "                                                                  '#B0BEC5',\n",
       "                                                                  '#B0BEC5',\n",
       "                                                                  '#B0BEC5',\n",
       "                                                                  '#B0BEC5',\n",
       "                                                                  '#B0BEC5',\n",
       "                                                                  '#B0BEC5',\n",
       "                                                                  '#B0BEC5',\n",
       "                                                                  '#B0BEC5',\n",
       "                                                                  '#B0BEC5',\n",
       "                                                                  '#B0BEC5',\n",
       "                                                                  '#B0BEC5',\n",
       "                                                                  '#B0BEC5']]}],\n",
       "                                       'label': 'Topic 7',\n",
       "                                       'method': 'update'},\n",
       "                                      {'args': [{'marker.color': [['#B0BEC5',\n",
       "                                                                  '#B0BEC5',\n",
       "                                                                  '#B0BEC5',\n",
       "                                                                  '#B0BEC5',\n",
       "                                                                  '#B0BEC5',\n",
       "                                                                  '#B0BEC5',\n",
       "                                                                  '#B0BEC5',\n",
       "                                                                  '#B0BEC5', 'red',\n",
       "                                                                  '#B0BEC5',\n",
       "                                                                  '#B0BEC5',\n",
       "                                                                  '#B0BEC5',\n",
       "                                                                  '#B0BEC5',\n",
       "                                                                  '#B0BEC5',\n",
       "                                                                  '#B0BEC5',\n",
       "                                                                  '#B0BEC5',\n",
       "                                                                  '#B0BEC5',\n",
       "                                                                  '#B0BEC5',\n",
       "                                                                  '#B0BEC5',\n",
       "                                                                  '#B0BEC5',\n",
       "                                                                  '#B0BEC5',\n",
       "                                                                  '#B0BEC5',\n",
       "                                                                  '#B0BEC5',\n",
       "                                                                  '#B0BEC5',\n",
       "                                                                  '#B0BEC5',\n",
       "                                                                  '#B0BEC5',\n",
       "                                                                  '#B0BEC5',\n",
       "                                                                  '#B0BEC5',\n",
       "                                                                  '#B0BEC5',\n",
       "                                                                  '#B0BEC5',\n",
       "                                                                  '#B0BEC5',\n",
       "                                                                  '#B0BEC5',\n",
       "                                                                  '#B0BEC5',\n",
       "                                                                  '#B0BEC5',\n",
       "                                                                  '#B0BEC5',\n",
       "                                                                  '#B0BEC5',\n",
       "                                                                  '#B0BEC5',\n",
       "                                                                  '#B0BEC5',\n",
       "                                                                  '#B0BEC5']]}],\n",
       "                                       'label': 'Topic 8',\n",
       "                                       'method': 'update'},\n",
       "                                      {'args': [{'marker.color': [['#B0BEC5',\n",
       "                                                                  '#B0BEC5',\n",
       "                                                                  '#B0BEC5',\n",
       "                                                                  '#B0BEC5',\n",
       "                                                                  '#B0BEC5',\n",
       "                                                                  '#B0BEC5',\n",
       "                                                                  '#B0BEC5',\n",
       "                                                                  '#B0BEC5',\n",
       "                                                                  '#B0BEC5', 'red',\n",
       "                                                                  '#B0BEC5',\n",
       "                                                                  '#B0BEC5',\n",
       "                                                                  '#B0BEC5',\n",
       "                                                                  '#B0BEC5',\n",
       "                                                                  '#B0BEC5',\n",
       "                                                                  '#B0BEC5',\n",
       "                                                                  '#B0BEC5',\n",
       "                                                                  '#B0BEC5',\n",
       "                                                                  '#B0BEC5',\n",
       "                                                                  '#B0BEC5',\n",
       "                                                                  '#B0BEC5',\n",
       "                                                                  '#B0BEC5',\n",
       "                                                                  '#B0BEC5',\n",
       "                                                                  '#B0BEC5',\n",
       "                                                                  '#B0BEC5',\n",
       "                                                                  '#B0BEC5',\n",
       "                                                                  '#B0BEC5',\n",
       "                                                                  '#B0BEC5',\n",
       "                                                                  '#B0BEC5',\n",
       "                                                                  '#B0BEC5',\n",
       "                                                                  '#B0BEC5',\n",
       "                                                                  '#B0BEC5',\n",
       "                                                                  '#B0BEC5',\n",
       "                                                                  '#B0BEC5',\n",
       "                                                                  '#B0BEC5',\n",
       "                                                                  '#B0BEC5',\n",
       "                                                                  '#B0BEC5',\n",
       "                                                                  '#B0BEC5',\n",
       "                                                                  '#B0BEC5']]}],\n",
       "                                       'label': 'Topic 9',\n",
       "                                       'method': 'update'},\n",
       "                                      {'args': [{'marker.color': [['#B0BEC5',\n",
       "                                                                  '#B0BEC5',\n",
       "                                                                  '#B0BEC5',\n",
       "                                                                  '#B0BEC5',\n",
       "                                                                  '#B0BEC5',\n",
       "                                                                  '#B0BEC5',\n",
       "                                                                  '#B0BEC5',\n",
       "                                                                  '#B0BEC5',\n",
       "                                                                  '#B0BEC5',\n",
       "                                                                  '#B0BEC5', 'red',\n",
       "                                                                  '#B0BEC5',\n",
       "                                                                  '#B0BEC5',\n",
       "                                                                  '#B0BEC5',\n",
       "                                                                  '#B0BEC5',\n",
       "                                                                  '#B0BEC5',\n",
       "                                                                  '#B0BEC5',\n",
       "                                                                  '#B0BEC5',\n",
       "                                                                  '#B0BEC5',\n",
       "                                                                  '#B0BEC5',\n",
       "                                                                  '#B0BEC5',\n",
       "                                                                  '#B0BEC5',\n",
       "                                                                  '#B0BEC5',\n",
       "                                                                  '#B0BEC5',\n",
       "                                                                  '#B0BEC5',\n",
       "                                                                  '#B0BEC5',\n",
       "                                                                  '#B0BEC5',\n",
       "                                                                  '#B0BEC5',\n",
       "                                                                  '#B0BEC5',\n",
       "                                                                  '#B0BEC5',\n",
       "                                                                  '#B0BEC5',\n",
       "                                                                  '#B0BEC5',\n",
       "                                                                  '#B0BEC5',\n",
       "                                                                  '#B0BEC5',\n",
       "                                                                  '#B0BEC5',\n",
       "                                                                  '#B0BEC5',\n",
       "                                                                  '#B0BEC5',\n",
       "                                                                  '#B0BEC5',\n",
       "                                                                  '#B0BEC5']]}],\n",
       "                                       'label': 'Topic 10',\n",
       "                                       'method': 'update'},\n",
       "                                      {'args': [{'marker.color': [['#B0BEC5',\n",
       "                                                                  '#B0BEC5',\n",
       "                                                                  '#B0BEC5',\n",
       "                                                                  '#B0BEC5',\n",
       "                                                                  '#B0BEC5',\n",
       "                                                                  '#B0BEC5',\n",
       "                                                                  '#B0BEC5',\n",
       "                                                                  '#B0BEC5',\n",
       "                                                                  '#B0BEC5',\n",
       "                                                                  '#B0BEC5',\n",
       "                                                                  '#B0BEC5', 'red',\n",
       "                                                                  '#B0BEC5',\n",
       "                                                                  '#B0BEC5',\n",
       "                                                                  '#B0BEC5',\n",
       "                                                                  '#B0BEC5',\n",
       "                                                                  '#B0BEC5',\n",
       "                                                                  '#B0BEC5',\n",
       "                                                                  '#B0BEC5',\n",
       "                                                                  '#B0BEC5',\n",
       "                                                                  '#B0BEC5',\n",
       "                                                                  '#B0BEC5',\n",
       "                                                                  '#B0BEC5',\n",
       "                                                                  '#B0BEC5',\n",
       "                                                                  '#B0BEC5',\n",
       "                                                                  '#B0BEC5',\n",
       "                                                                  '#B0BEC5',\n",
       "                                                                  '#B0BEC5',\n",
       "                                                                  '#B0BEC5',\n",
       "                                                                  '#B0BEC5',\n",
       "                                                                  '#B0BEC5',\n",
       "                                                                  '#B0BEC5',\n",
       "                                                                  '#B0BEC5',\n",
       "                                                                  '#B0BEC5',\n",
       "                                                                  '#B0BEC5',\n",
       "                                                                  '#B0BEC5',\n",
       "                                                                  '#B0BEC5',\n",
       "                                                                  '#B0BEC5',\n",
       "                                                                  '#B0BEC5']]}],\n",
       "                                       'label': 'Topic 11',\n",
       "                                       'method': 'update'},\n",
       "                                      {'args': [{'marker.color': [['#B0BEC5',\n",
       "                                                                  '#B0BEC5',\n",
       "                                                                  '#B0BEC5',\n",
       "                                                                  '#B0BEC5',\n",
       "                                                                  '#B0BEC5',\n",
       "                                                                  '#B0BEC5',\n",
       "                                                                  '#B0BEC5',\n",
       "                                                                  '#B0BEC5',\n",
       "                                                                  '#B0BEC5',\n",
       "                                                                  '#B0BEC5',\n",
       "                                                                  '#B0BEC5',\n",
       "                                                                  '#B0BEC5', 'red',\n",
       "                                                                  '#B0BEC5',\n",
       "                                                                  '#B0BEC5',\n",
       "                                                                  '#B0BEC5',\n",
       "                                                                  '#B0BEC5',\n",
       "                                                                  '#B0BEC5',\n",
       "                                                                  '#B0BEC5',\n",
       "                                                                  '#B0BEC5',\n",
       "                                                                  '#B0BEC5',\n",
       "                                                                  '#B0BEC5',\n",
       "                                                                  '#B0BEC5',\n",
       "                                                                  '#B0BEC5',\n",
       "                                                                  '#B0BEC5',\n",
       "                                                                  '#B0BEC5',\n",
       "                                                                  '#B0BEC5',\n",
       "                                                                  '#B0BEC5',\n",
       "                                                                  '#B0BEC5',\n",
       "                                                                  '#B0BEC5',\n",
       "                                                                  '#B0BEC5',\n",
       "                                                                  '#B0BEC5',\n",
       "                                                                  '#B0BEC5',\n",
       "                                                                  '#B0BEC5',\n",
       "                                                                  '#B0BEC5',\n",
       "                                                                  '#B0BEC5',\n",
       "                                                                  '#B0BEC5',\n",
       "                                                                  '#B0BEC5',\n",
       "                                                                  '#B0BEC5']]}],\n",
       "                                       'label': 'Topic 12',\n",
       "                                       'method': 'update'},\n",
       "                                      {'args': [{'marker.color': [['#B0BEC5',\n",
       "                                                                  '#B0BEC5',\n",
       "                                                                  '#B0BEC5',\n",
       "                                                                  '#B0BEC5',\n",
       "                                                                  '#B0BEC5',\n",
       "                                                                  '#B0BEC5',\n",
       "                                                                  '#B0BEC5',\n",
       "                                                                  '#B0BEC5',\n",
       "                                                                  '#B0BEC5',\n",
       "                                                                  '#B0BEC5',\n",
       "                                                                  '#B0BEC5',\n",
       "                                                                  '#B0BEC5',\n",
       "                                                                  '#B0BEC5', 'red',\n",
       "                                                                  '#B0BEC5',\n",
       "                                                                  '#B0BEC5',\n",
       "                                                                  '#B0BEC5',\n",
       "                                                                  '#B0BEC5',\n",
       "                                                                  '#B0BEC5',\n",
       "                                                                  '#B0BEC5',\n",
       "                                                                  '#B0BEC5',\n",
       "                                                                  '#B0BEC5',\n",
       "                                                                  '#B0BEC5',\n",
       "                                                                  '#B0BEC5',\n",
       "                                                                  '#B0BEC5',\n",
       "                                                                  '#B0BEC5',\n",
       "                                                                  '#B0BEC5',\n",
       "                                                                  '#B0BEC5',\n",
       "                                                                  '#B0BEC5',\n",
       "                                                                  '#B0BEC5',\n",
       "                                                                  '#B0BEC5',\n",
       "                                                                  '#B0BEC5',\n",
       "                                                                  '#B0BEC5',\n",
       "                                                                  '#B0BEC5',\n",
       "                                                                  '#B0BEC5',\n",
       "                                                                  '#B0BEC5',\n",
       "                                                                  '#B0BEC5',\n",
       "                                                                  '#B0BEC5',\n",
       "                                                                  '#B0BEC5']]}],\n",
       "                                       'label': 'Topic 13',\n",
       "                                       'method': 'update'},\n",
       "                                      {'args': [{'marker.color': [['#B0BEC5',\n",
       "                                                                  '#B0BEC5',\n",
       "                                                                  '#B0BEC5',\n",
       "                                                                  '#B0BEC5',\n",
       "                                                                  '#B0BEC5',\n",
       "                                                                  '#B0BEC5',\n",
       "                                                                  '#B0BEC5',\n",
       "                                                                  '#B0BEC5',\n",
       "                                                                  '#B0BEC5',\n",
       "                                                                  '#B0BEC5',\n",
       "                                                                  '#B0BEC5',\n",
       "                                                                  '#B0BEC5',\n",
       "                                                                  '#B0BEC5',\n",
       "                                                                  '#B0BEC5', 'red',\n",
       "                                                                  '#B0BEC5',\n",
       "                                                                  '#B0BEC5',\n",
       "                                                                  '#B0BEC5',\n",
       "                                                                  '#B0BEC5',\n",
       "                                                                  '#B0BEC5',\n",
       "                                                                  '#B0BEC5',\n",
       "                                                                  '#B0BEC5',\n",
       "                                                                  '#B0BEC5',\n",
       "                                                                  '#B0BEC5',\n",
       "                                                                  '#B0BEC5',\n",
       "                                                                  '#B0BEC5',\n",
       "                                                                  '#B0BEC5',\n",
       "                                                                  '#B0BEC5',\n",
       "                                                                  '#B0BEC5',\n",
       "                                                                  '#B0BEC5',\n",
       "                                                                  '#B0BEC5',\n",
       "                                                                  '#B0BEC5',\n",
       "                                                                  '#B0BEC5',\n",
       "                                                                  '#B0BEC5',\n",
       "                                                                  '#B0BEC5',\n",
       "                                                                  '#B0BEC5',\n",
       "                                                                  '#B0BEC5',\n",
       "                                                                  '#B0BEC5',\n",
       "                                                                  '#B0BEC5']]}],\n",
       "                                       'label': 'Topic 14',\n",
       "                                       'method': 'update'},\n",
       "                                      {'args': [{'marker.color': [['#B0BEC5',\n",
       "                                                                  '#B0BEC5',\n",
       "                                                                  '#B0BEC5',\n",
       "                                                                  '#B0BEC5',\n",
       "                                                                  '#B0BEC5',\n",
       "                                                                  '#B0BEC5',\n",
       "                                                                  '#B0BEC5',\n",
       "                                                                  '#B0BEC5',\n",
       "                                                                  '#B0BEC5',\n",
       "                                                                  '#B0BEC5',\n",
       "                                                                  '#B0BEC5',\n",
       "                                                                  '#B0BEC5',\n",
       "                                                                  '#B0BEC5',\n",
       "                                                                  '#B0BEC5',\n",
       "                                                                  '#B0BEC5', 'red',\n",
       "                                                                  '#B0BEC5',\n",
       "                                                                  '#B0BEC5',\n",
       "                                                                  '#B0BEC5',\n",
       "                                                                  '#B0BEC5',\n",
       "                                                                  '#B0BEC5',\n",
       "                                                                  '#B0BEC5',\n",
       "                                                                  '#B0BEC5',\n",
       "                                                                  '#B0BEC5',\n",
       "                                                                  '#B0BEC5',\n",
       "                                                                  '#B0BEC5',\n",
       "                                                                  '#B0BEC5',\n",
       "                                                                  '#B0BEC5',\n",
       "                                                                  '#B0BEC5',\n",
       "                                                                  '#B0BEC5',\n",
       "                                                                  '#B0BEC5',\n",
       "                                                                  '#B0BEC5',\n",
       "                                                                  '#B0BEC5',\n",
       "                                                                  '#B0BEC5',\n",
       "                                                                  '#B0BEC5',\n",
       "                                                                  '#B0BEC5',\n",
       "                                                                  '#B0BEC5',\n",
       "                                                                  '#B0BEC5',\n",
       "                                                                  '#B0BEC5']]}],\n",
       "                                       'label': 'Topic 15',\n",
       "                                       'method': 'update'},\n",
       "                                      {'args': [{'marker.color': [['#B0BEC5',\n",
       "                                                                  '#B0BEC5',\n",
       "                                                                  '#B0BEC5',\n",
       "                                                                  '#B0BEC5',\n",
       "                                                                  '#B0BEC5',\n",
       "                                                                  '#B0BEC5',\n",
       "                                                                  '#B0BEC5',\n",
       "                                                                  '#B0BEC5',\n",
       "                                                                  '#B0BEC5',\n",
       "                                                                  '#B0BEC5',\n",
       "                                                                  '#B0BEC5',\n",
       "                                                                  '#B0BEC5',\n",
       "                                                                  '#B0BEC5',\n",
       "                                                                  '#B0BEC5',\n",
       "                                                                  '#B0BEC5',\n",
       "                                                                  '#B0BEC5', 'red',\n",
       "                                                                  '#B0BEC5',\n",
       "                                                                  '#B0BEC5',\n",
       "                                                                  '#B0BEC5',\n",
       "                                                                  '#B0BEC5',\n",
       "                                                                  '#B0BEC5',\n",
       "                                                                  '#B0BEC5',\n",
       "                                                                  '#B0BEC5',\n",
       "                                                                  '#B0BEC5',\n",
       "                                                                  '#B0BEC5',\n",
       "                                                                  '#B0BEC5',\n",
       "                                                                  '#B0BEC5',\n",
       "                                                                  '#B0BEC5',\n",
       "                                                                  '#B0BEC5',\n",
       "                                                                  '#B0BEC5',\n",
       "                                                                  '#B0BEC5',\n",
       "                                                                  '#B0BEC5',\n",
       "                                                                  '#B0BEC5',\n",
       "                                                                  '#B0BEC5',\n",
       "                                                                  '#B0BEC5',\n",
       "                                                                  '#B0BEC5',\n",
       "                                                                  '#B0BEC5',\n",
       "                                                                  '#B0BEC5']]}],\n",
       "                                       'label': 'Topic 16',\n",
       "                                       'method': 'update'},\n",
       "                                      {'args': [{'marker.color': [['#B0BEC5',\n",
       "                                                                  '#B0BEC5',\n",
       "                                                                  '#B0BEC5',\n",
       "                                                                  '#B0BEC5',\n",
       "                                                                  '#B0BEC5',\n",
       "                                                                  '#B0BEC5',\n",
       "                                                                  '#B0BEC5',\n",
       "                                                                  '#B0BEC5',\n",
       "                                                                  '#B0BEC5',\n",
       "                                                                  '#B0BEC5',\n",
       "                                                                  '#B0BEC5',\n",
       "                                                                  '#B0BEC5',\n",
       "                                                                  '#B0BEC5',\n",
       "                                                                  '#B0BEC5',\n",
       "                                                                  '#B0BEC5',\n",
       "                                                                  '#B0BEC5',\n",
       "                                                                  '#B0BEC5', 'red',\n",
       "                                                                  '#B0BEC5',\n",
       "                                                                  '#B0BEC5',\n",
       "                                                                  '#B0BEC5',\n",
       "                                                                  '#B0BEC5',\n",
       "                                                                  '#B0BEC5',\n",
       "                                                                  '#B0BEC5',\n",
       "                                                                  '#B0BEC5',\n",
       "                                                                  '#B0BEC5',\n",
       "                                                                  '#B0BEC5',\n",
       "                                                                  '#B0BEC5',\n",
       "                                                                  '#B0BEC5',\n",
       "                                                                  '#B0BEC5',\n",
       "                                                                  '#B0BEC5',\n",
       "                                                                  '#B0BEC5',\n",
       "                                                                  '#B0BEC5',\n",
       "                                                                  '#B0BEC5',\n",
       "                                                                  '#B0BEC5',\n",
       "                                                                  '#B0BEC5',\n",
       "                                                                  '#B0BEC5',\n",
       "                                                                  '#B0BEC5',\n",
       "                                                                  '#B0BEC5']]}],\n",
       "                                       'label': 'Topic 17',\n",
       "                                       'method': 'update'},\n",
       "                                      {'args': [{'marker.color': [['#B0BEC5',\n",
       "                                                                  '#B0BEC5',\n",
       "                                                                  '#B0BEC5',\n",
       "                                                                  '#B0BEC5',\n",
       "                                                                  '#B0BEC5',\n",
       "                                                                  '#B0BEC5',\n",
       "                                                                  '#B0BEC5',\n",
       "                                                                  '#B0BEC5',\n",
       "                                                                  '#B0BEC5',\n",
       "                                                                  '#B0BEC5',\n",
       "                                                                  '#B0BEC5',\n",
       "                                                                  '#B0BEC5',\n",
       "                                                                  '#B0BEC5',\n",
       "                                                                  '#B0BEC5',\n",
       "                                                                  '#B0BEC5',\n",
       "                                                                  '#B0BEC5',\n",
       "                                                                  '#B0BEC5',\n",
       "                                                                  '#B0BEC5', 'red',\n",
       "                                                                  '#B0BEC5',\n",
       "                                                                  '#B0BEC5',\n",
       "                                                                  '#B0BEC5',\n",
       "                                                                  '#B0BEC5',\n",
       "                                                                  '#B0BEC5',\n",
       "                                                                  '#B0BEC5',\n",
       "                                                                  '#B0BEC5',\n",
       "                                                                  '#B0BEC5',\n",
       "                                                                  '#B0BEC5',\n",
       "                                                                  '#B0BEC5',\n",
       "                                                                  '#B0BEC5',\n",
       "                                                                  '#B0BEC5',\n",
       "                                                                  '#B0BEC5',\n",
       "                                                                  '#B0BEC5',\n",
       "                                                                  '#B0BEC5',\n",
       "                                                                  '#B0BEC5',\n",
       "                                                                  '#B0BEC5',\n",
       "                                                                  '#B0BEC5',\n",
       "                                                                  '#B0BEC5',\n",
       "                                                                  '#B0BEC5']]}],\n",
       "                                       'label': 'Topic 18',\n",
       "                                       'method': 'update'},\n",
       "                                      {'args': [{'marker.color': [['#B0BEC5',\n",
       "                                                                  '#B0BEC5',\n",
       "                                                                  '#B0BEC5',\n",
       "                                                                  '#B0BEC5',\n",
       "                                                                  '#B0BEC5',\n",
       "                                                                  '#B0BEC5',\n",
       "                                                                  '#B0BEC5',\n",
       "                                                                  '#B0BEC5',\n",
       "                                                                  '#B0BEC5',\n",
       "                                                                  '#B0BEC5',\n",
       "                                                                  '#B0BEC5',\n",
       "                                                                  '#B0BEC5',\n",
       "                                                                  '#B0BEC5',\n",
       "                                                                  '#B0BEC5',\n",
       "                                                                  '#B0BEC5',\n",
       "                                                                  '#B0BEC5',\n",
       "                                                                  '#B0BEC5',\n",
       "                                                                  '#B0BEC5',\n",
       "                                                                  '#B0BEC5', 'red',\n",
       "                                                                  '#B0BEC5',\n",
       "                                                                  '#B0BEC5',\n",
       "                                                                  '#B0BEC5',\n",
       "                                                                  '#B0BEC5',\n",
       "                                                                  '#B0BEC5',\n",
       "                                                                  '#B0BEC5',\n",
       "                                                                  '#B0BEC5',\n",
       "                                                                  '#B0BEC5',\n",
       "                                                                  '#B0BEC5',\n",
       "                                                                  '#B0BEC5',\n",
       "                                                                  '#B0BEC5',\n",
       "                                                                  '#B0BEC5',\n",
       "                                                                  '#B0BEC5',\n",
       "                                                                  '#B0BEC5',\n",
       "                                                                  '#B0BEC5',\n",
       "                                                                  '#B0BEC5',\n",
       "                                                                  '#B0BEC5',\n",
       "                                                                  '#B0BEC5',\n",
       "                                                                  '#B0BEC5']]}],\n",
       "                                       'label': 'Topic 19',\n",
       "                                       'method': 'update'},\n",
       "                                      {'args': [{'marker.color': [['#B0BEC5',\n",
       "                                                                  '#B0BEC5',\n",
       "                                                                  '#B0BEC5',\n",
       "                                                                  '#B0BEC5',\n",
       "                                                                  '#B0BEC5',\n",
       "                                                                  '#B0BEC5',\n",
       "                                                                  '#B0BEC5',\n",
       "                                                                  '#B0BEC5',\n",
       "                                                                  '#B0BEC5',\n",
       "                                                                  '#B0BEC5',\n",
       "                                                                  '#B0BEC5',\n",
       "                                                                  '#B0BEC5',\n",
       "                                                                  '#B0BEC5',\n",
       "                                                                  '#B0BEC5',\n",
       "                                                                  '#B0BEC5',\n",
       "                                                                  '#B0BEC5',\n",
       "                                                                  '#B0BEC5',\n",
       "                                                                  '#B0BEC5',\n",
       "                                                                  '#B0BEC5',\n",
       "                                                                  '#B0BEC5', 'red',\n",
       "                                                                  '#B0BEC5',\n",
       "                                                                  '#B0BEC5',\n",
       "                                                                  '#B0BEC5',\n",
       "                                                                  '#B0BEC5',\n",
       "                                                                  '#B0BEC5',\n",
       "                                                                  '#B0BEC5',\n",
       "                                                                  '#B0BEC5',\n",
       "                                                                  '#B0BEC5',\n",
       "                                                                  '#B0BEC5',\n",
       "                                                                  '#B0BEC5',\n",
       "                                                                  '#B0BEC5',\n",
       "                                                                  '#B0BEC5',\n",
       "                                                                  '#B0BEC5',\n",
       "                                                                  '#B0BEC5',\n",
       "                                                                  '#B0BEC5',\n",
       "                                                                  '#B0BEC5',\n",
       "                                                                  '#B0BEC5',\n",
       "                                                                  '#B0BEC5']]}],\n",
       "                                       'label': 'Topic 20',\n",
       "                                       'method': 'update'},\n",
       "                                      {'args': [{'marker.color': [['#B0BEC5',\n",
       "                                                                  '#B0BEC5',\n",
       "                                                                  '#B0BEC5',\n",
       "                                                                  '#B0BEC5',\n",
       "                                                                  '#B0BEC5',\n",
       "                                                                  '#B0BEC5',\n",
       "                                                                  '#B0BEC5',\n",
       "                                                                  '#B0BEC5',\n",
       "                                                                  '#B0BEC5',\n",
       "                                                                  '#B0BEC5',\n",
       "                                                                  '#B0BEC5',\n",
       "                                                                  '#B0BEC5',\n",
       "                                                                  '#B0BEC5',\n",
       "                                                                  '#B0BEC5',\n",
       "                                                                  '#B0BEC5',\n",
       "                                                                  '#B0BEC5',\n",
       "                                                                  '#B0BEC5',\n",
       "                                                                  '#B0BEC5',\n",
       "                                                                  '#B0BEC5',\n",
       "                                                                  '#B0BEC5',\n",
       "                                                                  '#B0BEC5', 'red',\n",
       "                                                                  '#B0BEC5',\n",
       "                                                                  '#B0BEC5',\n",
       "                                                                  '#B0BEC5',\n",
       "                                                                  '#B0BEC5',\n",
       "                                                                  '#B0BEC5',\n",
       "                                                                  '#B0BEC5',\n",
       "                                                                  '#B0BEC5',\n",
       "                                                                  '#B0BEC5',\n",
       "                                                                  '#B0BEC5',\n",
       "                                                                  '#B0BEC5',\n",
       "                                                                  '#B0BEC5',\n",
       "                                                                  '#B0BEC5',\n",
       "                                                                  '#B0BEC5',\n",
       "                                                                  '#B0BEC5',\n",
       "                                                                  '#B0BEC5',\n",
       "                                                                  '#B0BEC5',\n",
       "                                                                  '#B0BEC5']]}],\n",
       "                                       'label': 'Topic 21',\n",
       "                                       'method': 'update'},\n",
       "                                      {'args': [{'marker.color': [['#B0BEC5',\n",
       "                                                                  '#B0BEC5',\n",
       "                                                                  '#B0BEC5',\n",
       "                                                                  '#B0BEC5',\n",
       "                                                                  '#B0BEC5',\n",
       "                                                                  '#B0BEC5',\n",
       "                                                                  '#B0BEC5',\n",
       "                                                                  '#B0BEC5',\n",
       "                                                                  '#B0BEC5',\n",
       "                                                                  '#B0BEC5',\n",
       "                                                                  '#B0BEC5',\n",
       "                                                                  '#B0BEC5',\n",
       "                                                                  '#B0BEC5',\n",
       "                                                                  '#B0BEC5',\n",
       "                                                                  '#B0BEC5',\n",
       "                                                                  '#B0BEC5',\n",
       "                                                                  '#B0BEC5',\n",
       "                                                                  '#B0BEC5',\n",
       "                                                                  '#B0BEC5',\n",
       "                                                                  '#B0BEC5',\n",
       "                                                                  '#B0BEC5',\n",
       "                                                                  '#B0BEC5', 'red',\n",
       "                                                                  '#B0BEC5',\n",
       "                                                                  '#B0BEC5',\n",
       "                                                                  '#B0BEC5',\n",
       "                                                                  '#B0BEC5',\n",
       "                                                                  '#B0BEC5',\n",
       "                                                                  '#B0BEC5',\n",
       "                                                                  '#B0BEC5',\n",
       "                                                                  '#B0BEC5',\n",
       "                                                                  '#B0BEC5',\n",
       "                                                                  '#B0BEC5',\n",
       "                                                                  '#B0BEC5',\n",
       "                                                                  '#B0BEC5',\n",
       "                                                                  '#B0BEC5',\n",
       "                                                                  '#B0BEC5',\n",
       "                                                                  '#B0BEC5',\n",
       "                                                                  '#B0BEC5']]}],\n",
       "                                       'label': 'Topic 22',\n",
       "                                       'method': 'update'},\n",
       "                                      {'args': [{'marker.color': [['#B0BEC5',\n",
       "                                                                  '#B0BEC5',\n",
       "                                                                  '#B0BEC5',\n",
       "                                                                  '#B0BEC5',\n",
       "                                                                  '#B0BEC5',\n",
       "                                                                  '#B0BEC5',\n",
       "                                                                  '#B0BEC5',\n",
       "                                                                  '#B0BEC5',\n",
       "                                                                  '#B0BEC5',\n",
       "                                                                  '#B0BEC5',\n",
       "                                                                  '#B0BEC5',\n",
       "                                                                  '#B0BEC5',\n",
       "                                                                  '#B0BEC5',\n",
       "                                                                  '#B0BEC5',\n",
       "                                                                  '#B0BEC5',\n",
       "                                                                  '#B0BEC5',\n",
       "                                                                  '#B0BEC5',\n",
       "                                                                  '#B0BEC5',\n",
       "                                                                  '#B0BEC5',\n",
       "                                                                  '#B0BEC5',\n",
       "                                                                  '#B0BEC5',\n",
       "                                                                  '#B0BEC5',\n",
       "                                                                  '#B0BEC5', 'red',\n",
       "                                                                  '#B0BEC5',\n",
       "                                                                  '#B0BEC5',\n",
       "                                                                  '#B0BEC5',\n",
       "                                                                  '#B0BEC5',\n",
       "                                                                  '#B0BEC5',\n",
       "                                                                  '#B0BEC5',\n",
       "                                                                  '#B0BEC5',\n",
       "                                                                  '#B0BEC5',\n",
       "                                                                  '#B0BEC5',\n",
       "                                                                  '#B0BEC5',\n",
       "                                                                  '#B0BEC5',\n",
       "                                                                  '#B0BEC5',\n",
       "                                                                  '#B0BEC5',\n",
       "                                                                  '#B0BEC5',\n",
       "                                                                  '#B0BEC5']]}],\n",
       "                                       'label': 'Topic 23',\n",
       "                                       'method': 'update'},\n",
       "                                      {'args': [{'marker.color': [['#B0BEC5',\n",
       "                                                                  '#B0BEC5',\n",
       "                                                                  '#B0BEC5',\n",
       "                                                                  '#B0BEC5',\n",
       "                                                                  '#B0BEC5',\n",
       "                                                                  '#B0BEC5',\n",
       "                                                                  '#B0BEC5',\n",
       "                                                                  '#B0BEC5',\n",
       "                                                                  '#B0BEC5',\n",
       "                                                                  '#B0BEC5',\n",
       "                                                                  '#B0BEC5',\n",
       "                                                                  '#B0BEC5',\n",
       "                                                                  '#B0BEC5',\n",
       "                                                                  '#B0BEC5',\n",
       "                                                                  '#B0BEC5',\n",
       "                                                                  '#B0BEC5',\n",
       "                                                                  '#B0BEC5',\n",
       "                                                                  '#B0BEC5',\n",
       "                                                                  '#B0BEC5',\n",
       "                                                                  '#B0BEC5',\n",
       "                                                                  '#B0BEC5',\n",
       "                                                                  '#B0BEC5',\n",
       "                                                                  '#B0BEC5',\n",
       "                                                                  '#B0BEC5', 'red',\n",
       "                                                                  '#B0BEC5',\n",
       "                                                                  '#B0BEC5',\n",
       "                                                                  '#B0BEC5',\n",
       "                                                                  '#B0BEC5',\n",
       "                                                                  '#B0BEC5',\n",
       "                                                                  '#B0BEC5',\n",
       "                                                                  '#B0BEC5',\n",
       "                                                                  '#B0BEC5',\n",
       "                                                                  '#B0BEC5',\n",
       "                                                                  '#B0BEC5',\n",
       "                                                                  '#B0BEC5',\n",
       "                                                                  '#B0BEC5',\n",
       "                                                                  '#B0BEC5',\n",
       "                                                                  '#B0BEC5']]}],\n",
       "                                       'label': 'Topic 24',\n",
       "                                       'method': 'update'},\n",
       "                                      {'args': [{'marker.color': [['#B0BEC5',\n",
       "                                                                  '#B0BEC5',\n",
       "                                                                  '#B0BEC5',\n",
       "                                                                  '#B0BEC5',\n",
       "                                                                  '#B0BEC5',\n",
       "                                                                  '#B0BEC5',\n",
       "                                                                  '#B0BEC5',\n",
       "                                                                  '#B0BEC5',\n",
       "                                                                  '#B0BEC5',\n",
       "                                                                  '#B0BEC5',\n",
       "                                                                  '#B0BEC5',\n",
       "                                                                  '#B0BEC5',\n",
       "                                                                  '#B0BEC5',\n",
       "                                                                  '#B0BEC5',\n",
       "                                                                  '#B0BEC5',\n",
       "                                                                  '#B0BEC5',\n",
       "                                                                  '#B0BEC5',\n",
       "                                                                  '#B0BEC5',\n",
       "                                                                  '#B0BEC5',\n",
       "                                                                  '#B0BEC5',\n",
       "                                                                  '#B0BEC5',\n",
       "                                                                  '#B0BEC5',\n",
       "                                                                  '#B0BEC5',\n",
       "                                                                  '#B0BEC5',\n",
       "                                                                  '#B0BEC5', 'red',\n",
       "                                                                  '#B0BEC5',\n",
       "                                                                  '#B0BEC5',\n",
       "                                                                  '#B0BEC5',\n",
       "                                                                  '#B0BEC5',\n",
       "                                                                  '#B0BEC5',\n",
       "                                                                  '#B0BEC5',\n",
       "                                                                  '#B0BEC5',\n",
       "                                                                  '#B0BEC5',\n",
       "                                                                  '#B0BEC5',\n",
       "                                                                  '#B0BEC5',\n",
       "                                                                  '#B0BEC5',\n",
       "                                                                  '#B0BEC5',\n",
       "                                                                  '#B0BEC5']]}],\n",
       "                                       'label': 'Topic 25',\n",
       "                                       'method': 'update'},\n",
       "                                      {'args': [{'marker.color': [['#B0BEC5',\n",
       "                                                                  '#B0BEC5',\n",
       "                                                                  '#B0BEC5',\n",
       "                                                                  '#B0BEC5',\n",
       "                                                                  '#B0BEC5',\n",
       "                                                                  '#B0BEC5',\n",
       "                                                                  '#B0BEC5',\n",
       "                                                                  '#B0BEC5',\n",
       "                                                                  '#B0BEC5',\n",
       "                                                                  '#B0BEC5',\n",
       "                                                                  '#B0BEC5',\n",
       "                                                                  '#B0BEC5',\n",
       "                                                                  '#B0BEC5',\n",
       "                                                                  '#B0BEC5',\n",
       "                                                                  '#B0BEC5',\n",
       "                                                                  '#B0BEC5',\n",
       "                                                                  '#B0BEC5',\n",
       "                                                                  '#B0BEC5',\n",
       "                                                                  '#B0BEC5',\n",
       "                                                                  '#B0BEC5',\n",
       "                                                                  '#B0BEC5',\n",
       "                                                                  '#B0BEC5',\n",
       "                                                                  '#B0BEC5',\n",
       "                                                                  '#B0BEC5',\n",
       "                                                                  '#B0BEC5',\n",
       "                                                                  '#B0BEC5', 'red',\n",
       "                                                                  '#B0BEC5',\n",
       "                                                                  '#B0BEC5',\n",
       "                                                                  '#B0BEC5',\n",
       "                                                                  '#B0BEC5',\n",
       "                                                                  '#B0BEC5',\n",
       "                                                                  '#B0BEC5',\n",
       "                                                                  '#B0BEC5',\n",
       "                                                                  '#B0BEC5',\n",
       "                                                                  '#B0BEC5',\n",
       "                                                                  '#B0BEC5',\n",
       "                                                                  '#B0BEC5',\n",
       "                                                                  '#B0BEC5']]}],\n",
       "                                       'label': 'Topic 26',\n",
       "                                       'method': 'update'},\n",
       "                                      {'args': [{'marker.color': [['#B0BEC5',\n",
       "                                                                  '#B0BEC5',\n",
       "                                                                  '#B0BEC5',\n",
       "                                                                  '#B0BEC5',\n",
       "                                                                  '#B0BEC5',\n",
       "                                                                  '#B0BEC5',\n",
       "                                                                  '#B0BEC5',\n",
       "                                                                  '#B0BEC5',\n",
       "                                                                  '#B0BEC5',\n",
       "                                                                  '#B0BEC5',\n",
       "                                                                  '#B0BEC5',\n",
       "                                                                  '#B0BEC5',\n",
       "                                                                  '#B0BEC5',\n",
       "                                                                  '#B0BEC5',\n",
       "                                                                  '#B0BEC5',\n",
       "                                                                  '#B0BEC5',\n",
       "                                                                  '#B0BEC5',\n",
       "                                                                  '#B0BEC5',\n",
       "                                                                  '#B0BEC5',\n",
       "                                                                  '#B0BEC5',\n",
       "                                                                  '#B0BEC5',\n",
       "                                                                  '#B0BEC5',\n",
       "                                                                  '#B0BEC5',\n",
       "                                                                  '#B0BEC5',\n",
       "                                                                  '#B0BEC5',\n",
       "                                                                  '#B0BEC5',\n",
       "                                                                  '#B0BEC5', 'red',\n",
       "                                                                  '#B0BEC5',\n",
       "                                                                  '#B0BEC5',\n",
       "                                                                  '#B0BEC5',\n",
       "                                                                  '#B0BEC5',\n",
       "                                                                  '#B0BEC5',\n",
       "                                                                  '#B0BEC5',\n",
       "                                                                  '#B0BEC5',\n",
       "                                                                  '#B0BEC5',\n",
       "                                                                  '#B0BEC5',\n",
       "                                                                  '#B0BEC5',\n",
       "                                                                  '#B0BEC5']]}],\n",
       "                                       'label': 'Topic 27',\n",
       "                                       'method': 'update'},\n",
       "                                      {'args': [{'marker.color': [['#B0BEC5',\n",
       "                                                                  '#B0BEC5',\n",
       "                                                                  '#B0BEC5',\n",
       "                                                                  '#B0BEC5',\n",
       "                                                                  '#B0BEC5',\n",
       "                                                                  '#B0BEC5',\n",
       "                                                                  '#B0BEC5',\n",
       "                                                                  '#B0BEC5',\n",
       "                                                                  '#B0BEC5',\n",
       "                                                                  '#B0BEC5',\n",
       "                                                                  '#B0BEC5',\n",
       "                                                                  '#B0BEC5',\n",
       "                                                                  '#B0BEC5',\n",
       "                                                                  '#B0BEC5',\n",
       "                                                                  '#B0BEC5',\n",
       "                                                                  '#B0BEC5',\n",
       "                                                                  '#B0BEC5',\n",
       "                                                                  '#B0BEC5',\n",
       "                                                                  '#B0BEC5',\n",
       "                                                                  '#B0BEC5',\n",
       "                                                                  '#B0BEC5',\n",
       "                                                                  '#B0BEC5',\n",
       "                                                                  '#B0BEC5',\n",
       "                                                                  '#B0BEC5',\n",
       "                                                                  '#B0BEC5',\n",
       "                                                                  '#B0BEC5',\n",
       "                                                                  '#B0BEC5',\n",
       "                                                                  '#B0BEC5', 'red',\n",
       "                                                                  '#B0BEC5',\n",
       "                                                                  '#B0BEC5',\n",
       "                                                                  '#B0BEC5',\n",
       "                                                                  '#B0BEC5',\n",
       "                                                                  '#B0BEC5',\n",
       "                                                                  '#B0BEC5',\n",
       "                                                                  '#B0BEC5',\n",
       "                                                                  '#B0BEC5',\n",
       "                                                                  '#B0BEC5',\n",
       "                                                                  '#B0BEC5']]}],\n",
       "                                       'label': 'Topic 28',\n",
       "                                       'method': 'update'},\n",
       "                                      {'args': [{'marker.color': [['#B0BEC5',\n",
       "                                                                  '#B0BEC5',\n",
       "                                                                  '#B0BEC5',\n",
       "                                                                  '#B0BEC5',\n",
       "                                                                  '#B0BEC5',\n",
       "                                                                  '#B0BEC5',\n",
       "                                                                  '#B0BEC5',\n",
       "                                                                  '#B0BEC5',\n",
       "                                                                  '#B0BEC5',\n",
       "                                                                  '#B0BEC5',\n",
       "                                                                  '#B0BEC5',\n",
       "                                                                  '#B0BEC5',\n",
       "                                                                  '#B0BEC5',\n",
       "                                                                  '#B0BEC5',\n",
       "                                                                  '#B0BEC5',\n",
       "                                                                  '#B0BEC5',\n",
       "                                                                  '#B0BEC5',\n",
       "                                                                  '#B0BEC5',\n",
       "                                                                  '#B0BEC5',\n",
       "                                                                  '#B0BEC5',\n",
       "                                                                  '#B0BEC5',\n",
       "                                                                  '#B0BEC5',\n",
       "                                                                  '#B0BEC5',\n",
       "                                                                  '#B0BEC5',\n",
       "                                                                  '#B0BEC5',\n",
       "                                                                  '#B0BEC5',\n",
       "                                                                  '#B0BEC5',\n",
       "                                                                  '#B0BEC5',\n",
       "                                                                  '#B0BEC5', 'red',\n",
       "                                                                  '#B0BEC5',\n",
       "                                                                  '#B0BEC5',\n",
       "                                                                  '#B0BEC5',\n",
       "                                                                  '#B0BEC5',\n",
       "                                                                  '#B0BEC5',\n",
       "                                                                  '#B0BEC5',\n",
       "                                                                  '#B0BEC5',\n",
       "                                                                  '#B0BEC5',\n",
       "                                                                  '#B0BEC5']]}],\n",
       "                                       'label': 'Topic 29',\n",
       "                                       'method': 'update'},\n",
       "                                      {'args': [{'marker.color': [['#B0BEC5',\n",
       "                                                                  '#B0BEC5',\n",
       "                                                                  '#B0BEC5',\n",
       "                                                                  '#B0BEC5',\n",
       "                                                                  '#B0BEC5',\n",
       "                                                                  '#B0BEC5',\n",
       "                                                                  '#B0BEC5',\n",
       "                                                                  '#B0BEC5',\n",
       "                                                                  '#B0BEC5',\n",
       "                                                                  '#B0BEC5',\n",
       "                                                                  '#B0BEC5',\n",
       "                                                                  '#B0BEC5',\n",
       "                                                                  '#B0BEC5',\n",
       "                                                                  '#B0BEC5',\n",
       "                                                                  '#B0BEC5',\n",
       "                                                                  '#B0BEC5',\n",
       "                                                                  '#B0BEC5',\n",
       "                                                                  '#B0BEC5',\n",
       "                                                                  '#B0BEC5',\n",
       "                                                                  '#B0BEC5',\n",
       "                                                                  '#B0BEC5',\n",
       "                                                                  '#B0BEC5',\n",
       "                                                                  '#B0BEC5',\n",
       "                                                                  '#B0BEC5',\n",
       "                                                                  '#B0BEC5',\n",
       "                                                                  '#B0BEC5',\n",
       "                                                                  '#B0BEC5',\n",
       "                                                                  '#B0BEC5',\n",
       "                                                                  '#B0BEC5',\n",
       "                                                                  '#B0BEC5', 'red',\n",
       "                                                                  '#B0BEC5',\n",
       "                                                                  '#B0BEC5',\n",
       "                                                                  '#B0BEC5',\n",
       "                                                                  '#B0BEC5',\n",
       "                                                                  '#B0BEC5',\n",
       "                                                                  '#B0BEC5',\n",
       "                                                                  '#B0BEC5',\n",
       "                                                                  '#B0BEC5']]}],\n",
       "                                       'label': 'Topic 30',\n",
       "                                       'method': 'update'},\n",
       "                                      {'args': [{'marker.color': [['#B0BEC5',\n",
       "                                                                  '#B0BEC5',\n",
       "                                                                  '#B0BEC5',\n",
       "                                                                  '#B0BEC5',\n",
       "                                                                  '#B0BEC5',\n",
       "                                                                  '#B0BEC5',\n",
       "                                                                  '#B0BEC5',\n",
       "                                                                  '#B0BEC5',\n",
       "                                                                  '#B0BEC5',\n",
       "                                                                  '#B0BEC5',\n",
       "                                                                  '#B0BEC5',\n",
       "                                                                  '#B0BEC5',\n",
       "                                                                  '#B0BEC5',\n",
       "                                                                  '#B0BEC5',\n",
       "                                                                  '#B0BEC5',\n",
       "                                                                  '#B0BEC5',\n",
       "                                                                  '#B0BEC5',\n",
       "                                                                  '#B0BEC5',\n",
       "                                                                  '#B0BEC5',\n",
       "                                                                  '#B0BEC5',\n",
       "                                                                  '#B0BEC5',\n",
       "                                                                  '#B0BEC5',\n",
       "                                                                  '#B0BEC5',\n",
       "                                                                  '#B0BEC5',\n",
       "                                                                  '#B0BEC5',\n",
       "                                                                  '#B0BEC5',\n",
       "                                                                  '#B0BEC5',\n",
       "                                                                  '#B0BEC5',\n",
       "                                                                  '#B0BEC5',\n",
       "                                                                  '#B0BEC5',\n",
       "                                                                  '#B0BEC5', 'red',\n",
       "                                                                  '#B0BEC5',\n",
       "                                                                  '#B0BEC5',\n",
       "                                                                  '#B0BEC5',\n",
       "                                                                  '#B0BEC5',\n",
       "                                                                  '#B0BEC5',\n",
       "                                                                  '#B0BEC5',\n",
       "                                                                  '#B0BEC5']]}],\n",
       "                                       'label': 'Topic 31',\n",
       "                                       'method': 'update'},\n",
       "                                      {'args': [{'marker.color': [['#B0BEC5',\n",
       "                                                                  '#B0BEC5',\n",
       "                                                                  '#B0BEC5',\n",
       "                                                                  '#B0BEC5',\n",
       "                                                                  '#B0BEC5',\n",
       "                                                                  '#B0BEC5',\n",
       "                                                                  '#B0BEC5',\n",
       "                                                                  '#B0BEC5',\n",
       "                                                                  '#B0BEC5',\n",
       "                                                                  '#B0BEC5',\n",
       "                                                                  '#B0BEC5',\n",
       "                                                                  '#B0BEC5',\n",
       "                                                                  '#B0BEC5',\n",
       "                                                                  '#B0BEC5',\n",
       "                                                                  '#B0BEC5',\n",
       "                                                                  '#B0BEC5',\n",
       "                                                                  '#B0BEC5',\n",
       "                                                                  '#B0BEC5',\n",
       "                                                                  '#B0BEC5',\n",
       "                                                                  '#B0BEC5',\n",
       "                                                                  '#B0BEC5',\n",
       "                                                                  '#B0BEC5',\n",
       "                                                                  '#B0BEC5',\n",
       "                                                                  '#B0BEC5',\n",
       "                                                                  '#B0BEC5',\n",
       "                                                                  '#B0BEC5',\n",
       "                                                                  '#B0BEC5',\n",
       "                                                                  '#B0BEC5',\n",
       "                                                                  '#B0BEC5',\n",
       "                                                                  '#B0BEC5',\n",
       "                                                                  '#B0BEC5',\n",
       "                                                                  '#B0BEC5', 'red',\n",
       "                                                                  '#B0BEC5',\n",
       "                                                                  '#B0BEC5',\n",
       "                                                                  '#B0BEC5',\n",
       "                                                                  '#B0BEC5',\n",
       "                                                                  '#B0BEC5',\n",
       "                                                                  '#B0BEC5']]}],\n",
       "                                       'label': 'Topic 32',\n",
       "                                       'method': 'update'},\n",
       "                                      {'args': [{'marker.color': [['#B0BEC5',\n",
       "                                                                  '#B0BEC5',\n",
       "                                                                  '#B0BEC5',\n",
       "                                                                  '#B0BEC5',\n",
       "                                                                  '#B0BEC5',\n",
       "                                                                  '#B0BEC5',\n",
       "                                                                  '#B0BEC5',\n",
       "                                                                  '#B0BEC5',\n",
       "                                                                  '#B0BEC5',\n",
       "                                                                  '#B0BEC5',\n",
       "                                                                  '#B0BEC5',\n",
       "                                                                  '#B0BEC5',\n",
       "                                                                  '#B0BEC5',\n",
       "                                                                  '#B0BEC5',\n",
       "                                                                  '#B0BEC5',\n",
       "                                                                  '#B0BEC5',\n",
       "                                                                  '#B0BEC5',\n",
       "                                                                  '#B0BEC5',\n",
       "                                                                  '#B0BEC5',\n",
       "                                                                  '#B0BEC5',\n",
       "                                                                  '#B0BEC5',\n",
       "                                                                  '#B0BEC5',\n",
       "                                                                  '#B0BEC5',\n",
       "                                                                  '#B0BEC5',\n",
       "                                                                  '#B0BEC5',\n",
       "                                                                  '#B0BEC5',\n",
       "                                                                  '#B0BEC5',\n",
       "                                                                  '#B0BEC5',\n",
       "                                                                  '#B0BEC5',\n",
       "                                                                  '#B0BEC5',\n",
       "                                                                  '#B0BEC5',\n",
       "                                                                  '#B0BEC5',\n",
       "                                                                  '#B0BEC5', 'red',\n",
       "                                                                  '#B0BEC5',\n",
       "                                                                  '#B0BEC5',\n",
       "                                                                  '#B0BEC5',\n",
       "                                                                  '#B0BEC5',\n",
       "                                                                  '#B0BEC5']]}],\n",
       "                                       'label': 'Topic 33',\n",
       "                                       'method': 'update'},\n",
       "                                      {'args': [{'marker.color': [['#B0BEC5',\n",
       "                                                                  '#B0BEC5',\n",
       "                                                                  '#B0BEC5',\n",
       "                                                                  '#B0BEC5',\n",
       "                                                                  '#B0BEC5',\n",
       "                                                                  '#B0BEC5',\n",
       "                                                                  '#B0BEC5',\n",
       "                                                                  '#B0BEC5',\n",
       "                                                                  '#B0BEC5',\n",
       "                                                                  '#B0BEC5',\n",
       "                                                                  '#B0BEC5',\n",
       "                                                                  '#B0BEC5',\n",
       "                                                                  '#B0BEC5',\n",
       "                                                                  '#B0BEC5',\n",
       "                                                                  '#B0BEC5',\n",
       "                                                                  '#B0BEC5',\n",
       "                                                                  '#B0BEC5',\n",
       "                                                                  '#B0BEC5',\n",
       "                                                                  '#B0BEC5',\n",
       "                                                                  '#B0BEC5',\n",
       "                                                                  '#B0BEC5',\n",
       "                                                                  '#B0BEC5',\n",
       "                                                                  '#B0BEC5',\n",
       "                                                                  '#B0BEC5',\n",
       "                                                                  '#B0BEC5',\n",
       "                                                                  '#B0BEC5',\n",
       "                                                                  '#B0BEC5',\n",
       "                                                                  '#B0BEC5',\n",
       "                                                                  '#B0BEC5',\n",
       "                                                                  '#B0BEC5',\n",
       "                                                                  '#B0BEC5',\n",
       "                                                                  '#B0BEC5',\n",
       "                                                                  '#B0BEC5',\n",
       "                                                                  '#B0BEC5', 'red',\n",
       "                                                                  '#B0BEC5',\n",
       "                                                                  '#B0BEC5',\n",
       "                                                                  '#B0BEC5',\n",
       "                                                                  '#B0BEC5']]}],\n",
       "                                       'label': 'Topic 34',\n",
       "                                       'method': 'update'},\n",
       "                                      {'args': [{'marker.color': [['#B0BEC5',\n",
       "                                                                  '#B0BEC5',\n",
       "                                                                  '#B0BEC5',\n",
       "                                                                  '#B0BEC5',\n",
       "                                                                  '#B0BEC5',\n",
       "                                                                  '#B0BEC5',\n",
       "                                                                  '#B0BEC5',\n",
       "                                                                  '#B0BEC5',\n",
       "                                                                  '#B0BEC5',\n",
       "                                                                  '#B0BEC5',\n",
       "                                                                  '#B0BEC5',\n",
       "                                                                  '#B0BEC5',\n",
       "                                                                  '#B0BEC5',\n",
       "                                                                  '#B0BEC5',\n",
       "                                                                  '#B0BEC5',\n",
       "                                                                  '#B0BEC5',\n",
       "                                                                  '#B0BEC5',\n",
       "                                                                  '#B0BEC5',\n",
       "                                                                  '#B0BEC5',\n",
       "                                                                  '#B0BEC5',\n",
       "                                                                  '#B0BEC5',\n",
       "                                                                  '#B0BEC5',\n",
       "                                                                  '#B0BEC5',\n",
       "                                                                  '#B0BEC5',\n",
       "                                                                  '#B0BEC5',\n",
       "                                                                  '#B0BEC5',\n",
       "                                                                  '#B0BEC5',\n",
       "                                                                  '#B0BEC5',\n",
       "                                                                  '#B0BEC5',\n",
       "                                                                  '#B0BEC5',\n",
       "                                                                  '#B0BEC5',\n",
       "                                                                  '#B0BEC5',\n",
       "                                                                  '#B0BEC5',\n",
       "                                                                  '#B0BEC5',\n",
       "                                                                  '#B0BEC5', 'red',\n",
       "                                                                  '#B0BEC5',\n",
       "                                                                  '#B0BEC5',\n",
       "                                                                  '#B0BEC5']]}],\n",
       "                                       'label': 'Topic 35',\n",
       "                                       'method': 'update'},\n",
       "                                      {'args': [{'marker.color': [['#B0BEC5',\n",
       "                                                                  '#B0BEC5',\n",
       "                                                                  '#B0BEC5',\n",
       "                                                                  '#B0BEC5',\n",
       "                                                                  '#B0BEC5',\n",
       "                                                                  '#B0BEC5',\n",
       "                                                                  '#B0BEC5',\n",
       "                                                                  '#B0BEC5',\n",
       "                                                                  '#B0BEC5',\n",
       "                                                                  '#B0BEC5',\n",
       "                                                                  '#B0BEC5',\n",
       "                                                                  '#B0BEC5',\n",
       "                                                                  '#B0BEC5',\n",
       "                                                                  '#B0BEC5',\n",
       "                                                                  '#B0BEC5',\n",
       "                                                                  '#B0BEC5',\n",
       "                                                                  '#B0BEC5',\n",
       "                                                                  '#B0BEC5',\n",
       "                                                                  '#B0BEC5',\n",
       "                                                                  '#B0BEC5',\n",
       "                                                                  '#B0BEC5',\n",
       "                                                                  '#B0BEC5',\n",
       "                                                                  '#B0BEC5',\n",
       "                                                                  '#B0BEC5',\n",
       "                                                                  '#B0BEC5',\n",
       "                                                                  '#B0BEC5',\n",
       "                                                                  '#B0BEC5',\n",
       "                                                                  '#B0BEC5',\n",
       "                                                                  '#B0BEC5',\n",
       "                                                                  '#B0BEC5',\n",
       "                                                                  '#B0BEC5',\n",
       "                                                                  '#B0BEC5',\n",
       "                                                                  '#B0BEC5',\n",
       "                                                                  '#B0BEC5',\n",
       "                                                                  '#B0BEC5',\n",
       "                                                                  '#B0BEC5', 'red',\n",
       "                                                                  '#B0BEC5',\n",
       "                                                                  '#B0BEC5']]}],\n",
       "                                       'label': 'Topic 36',\n",
       "                                       'method': 'update'},\n",
       "                                      {'args': [{'marker.color': [['#B0BEC5',\n",
       "                                                                  '#B0BEC5',\n",
       "                                                                  '#B0BEC5',\n",
       "                                                                  '#B0BEC5',\n",
       "                                                                  '#B0BEC5',\n",
       "                                                                  '#B0BEC5',\n",
       "                                                                  '#B0BEC5',\n",
       "                                                                  '#B0BEC5',\n",
       "                                                                  '#B0BEC5',\n",
       "                                                                  '#B0BEC5',\n",
       "                                                                  '#B0BEC5',\n",
       "                                                                  '#B0BEC5',\n",
       "                                                                  '#B0BEC5',\n",
       "                                                                  '#B0BEC5',\n",
       "                                                                  '#B0BEC5',\n",
       "                                                                  '#B0BEC5',\n",
       "                                                                  '#B0BEC5',\n",
       "                                                                  '#B0BEC5',\n",
       "                                                                  '#B0BEC5',\n",
       "                                                                  '#B0BEC5',\n",
       "                                                                  '#B0BEC5',\n",
       "                                                                  '#B0BEC5',\n",
       "                                                                  '#B0BEC5',\n",
       "                                                                  '#B0BEC5',\n",
       "                                                                  '#B0BEC5',\n",
       "                                                                  '#B0BEC5',\n",
       "                                                                  '#B0BEC5',\n",
       "                                                                  '#B0BEC5',\n",
       "                                                                  '#B0BEC5',\n",
       "                                                                  '#B0BEC5',\n",
       "                                                                  '#B0BEC5',\n",
       "                                                                  '#B0BEC5',\n",
       "                                                                  '#B0BEC5',\n",
       "                                                                  '#B0BEC5',\n",
       "                                                                  '#B0BEC5',\n",
       "                                                                  '#B0BEC5',\n",
       "                                                                  '#B0BEC5', 'red',\n",
       "                                                                  '#B0BEC5']]}],\n",
       "                                       'label': 'Topic 37',\n",
       "                                       'method': 'update'},\n",
       "                                      {'args': [{'marker.color': [['#B0BEC5',\n",
       "                                                                  '#B0BEC5',\n",
       "                                                                  '#B0BEC5',\n",
       "                                                                  '#B0BEC5',\n",
       "                                                                  '#B0BEC5',\n",
       "                                                                  '#B0BEC5',\n",
       "                                                                  '#B0BEC5',\n",
       "                                                                  '#B0BEC5',\n",
       "                                                                  '#B0BEC5',\n",
       "                                                                  '#B0BEC5',\n",
       "                                                                  '#B0BEC5',\n",
       "                                                                  '#B0BEC5',\n",
       "                                                                  '#B0BEC5',\n",
       "                                                                  '#B0BEC5',\n",
       "                                                                  '#B0BEC5',\n",
       "                                                                  '#B0BEC5',\n",
       "                                                                  '#B0BEC5',\n",
       "                                                                  '#B0BEC5',\n",
       "                                                                  '#B0BEC5',\n",
       "                                                                  '#B0BEC5',\n",
       "                                                                  '#B0BEC5',\n",
       "                                                                  '#B0BEC5',\n",
       "                                                                  '#B0BEC5',\n",
       "                                                                  '#B0BEC5',\n",
       "                                                                  '#B0BEC5',\n",
       "                                                                  '#B0BEC5',\n",
       "                                                                  '#B0BEC5',\n",
       "                                                                  '#B0BEC5',\n",
       "                                                                  '#B0BEC5',\n",
       "                                                                  '#B0BEC5',\n",
       "                                                                  '#B0BEC5',\n",
       "                                                                  '#B0BEC5',\n",
       "                                                                  '#B0BEC5',\n",
       "                                                                  '#B0BEC5',\n",
       "                                                                  '#B0BEC5',\n",
       "                                                                  '#B0BEC5',\n",
       "                                                                  '#B0BEC5',\n",
       "                                                                  '#B0BEC5',\n",
       "                                                                  'red']]}],\n",
       "                                       'label': 'Topic 38',\n",
       "                                       'method': 'update'}]}],\n",
       "               'template': '...',\n",
       "               'title': {'font': {'color': 'Black', 'size': 22},\n",
       "                         'text': '<b>Intertopic Distance Map</b>',\n",
       "                         'x': 0.5,\n",
       "                         'xanchor': 'center',\n",
       "                         'y': 0.95,\n",
       "                         'yanchor': 'top'},\n",
       "               'width': 650,\n",
       "               'xaxis': {'anchor': 'y',\n",
       "                         'domain': [0.0, 1.0],\n",
       "                         'range': [-20.0438232421875, 23.533660888671875],\n",
       "                         'title': {'text': ''},\n",
       "                         'visible': False},\n",
       "               'yaxis': {'anchor': 'x',\n",
       "                         'domain': [0.0, 1.0],\n",
       "                         'range': [-10.515127182006836, 19.806522369384766],\n",
       "                         'title': {'text': ''},\n",
       "                         'visible': False}}\n",
       "})"
      ]
     },
     "execution_count": 14,
     "metadata": {},
     "output_type": "execute_result"
    }
   ],
   "source": [
    "# 2D visuailization\n",
    "topic_model.visualize_topics()"
   ]
  },
  {
   "cell_type": "markdown",
   "id": "0c15c9d5",
   "metadata": {},
   "source": [
    "The interactive 2D visualization shows the semantic relationships between the topic clusters generated by BERTopic.\n",
    "\n",
    "- Each circle represents a topic, and the size indicates the number of borrower narratives in that cluster.\n",
    "- The distance between topics reflects **semantic similarity**: topics closer together are more similar in meaning, while distant ones are more distinct.\n",
    "- The spread of clusters suggests that the **topic reduction to 40** has preserved meaningful diversity, with some well-separated themes (e.g., business loans vs. medical expenses).\n",
    "\n",
    "This view supports qualitative validation of the topic model and helps identify any remaining clusters that could potentially be merged.\n"
   ]
  },
  {
   "cell_type": "code",
   "execution_count": 15,
   "id": "b99aeba0",
   "metadata": {},
   "outputs": [
    {
     "name": "stdout",
     "output_type": "stream",
     "text": [
      "Topic assignments saved to 'topic_assignments.csv'\n"
     ]
    }
   ],
   "source": [
    "# Only keep needed columns\n",
    "topic_assignments = df[['desc', 'reduced_topic_id']]\n",
    "\n",
    "# Save to dataframe to CSV\n",
    "topic_assignments.to_csv(\"topic_assignments.csv\", index=False)\n",
    "print(\"Topic assignments saved to 'topic_assignments.csv'\")\n"
   ]
  },
  {
   "cell_type": "code",
   "execution_count": 17,
   "id": "f43a6aa0",
   "metadata": {},
   "outputs": [
    {
     "data": {
      "image/png": "[encoded data removed]",
      "text/plain": [
       "<Figure size 1200x600 with 1 Axes>"
      ]
     },
     "metadata": {},
     "output_type": "display_data"
    }
   ],
   "source": [
    "# --- Get top 10 topics by default rate ---\n",
    "top10_topics = topic_risk_summary.head(10).copy()\n",
    "\n",
    "\n",
    "# Get top 3 keywords per topic for better labels\n",
    "top10_topics['label'] = top10_topics['reduced_topic_id'].apply(\n",
    "    lambda tid: ', '.join([word for word, _ in topic_model.get_topic(tid)[:3]])\n",
    ")\n",
    "\n",
    "# --- Plot ---\n",
    "plt.figure(figsize=(12, 6))\n",
    "bars = plt.barh(top10_topics['label'], top10_topics['default_rate'], color='crimson')\n",
    "plt.xlabel(\"Default Rate\")\n",
    "plt.ylabel(\"Topic Keywords\")\n",
    "plt.title(\"Top 10 Risky Topics by Default Rate\")\n",
    "plt.gca().invert_yaxis()  # Show highest default rate on top\n",
    "plt.tight_layout()\n",
    "plt.show()\n"
   ]
  }
 ],
 "metadata": {
  "kernelspec": {
   "display_name": "venv",
   "language": "python",
   "name": "python3"
  },
  "language_info": {
   "codemirror_mode": {
    "name": "ipython",
    "version": 3
   },
   "file_extension": ".py",
   "mimetype": "text/x-python",
   "name": "python",
   "nbconvert_exporter": "python",
   "pygments_lexer": "ipython3",
   "version": "3.12.3"
  }
 },
 "nbformat": 4,
 "nbformat_minor": 5
}

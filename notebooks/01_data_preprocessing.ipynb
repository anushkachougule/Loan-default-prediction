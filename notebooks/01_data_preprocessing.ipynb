{
 "cells": [
  {
   "cell_type": "code",
   "execution_count": 4,
   "id": "43093ca8",
   "metadata": {},
   "outputs": [],
   "source": [
    "import pandas as pd\n",
    "import os"
   ]
  },
  {
   "cell_type": "code",
   "execution_count": 8,
   "id": "95432352",
   "metadata": {},
   "outputs": [],
   "source": [
    "# CONFIGURATION\n",
    "INPUT_PATH = \"../data/loan.csv\"\n",
    "OUTPUT_PATH = \"../data/cleaned_sample.csv\"\n",
    "N_DEFAULTS = 5000\n",
    "N_NON_DEFAULTS = 10000"
   ]
  },
  {
   "cell_type": "code",
   "execution_count": 9,
   "id": "caee43a2",
   "metadata": {},
   "outputs": [
    {
     "name": "stdout",
     "output_type": "stream",
     "text": [
      "/Users/anushkachougule/Desktop/inst750-final-project/notebooks\n"
     ]
    }
   ],
   "source": [
    "import os\n",
    "print(os.getcwd())"
   ]
  },
  {
   "cell_type": "code",
   "execution_count": 10,
   "id": "1278ade9",
   "metadata": {},
   "outputs": [
    {
     "name": "stdout",
     "output_type": "stream",
     "text": [
      "Loading dataset...\n"
     ]
    }
   ],
   "source": [
    "# LOAD DATA \n",
    "print(\"Loading dataset...\")\n",
    "df = pd.read_csv(INPUT_PATH, low_memory=False)"
   ]
  },
  {
   "cell_type": "code",
   "execution_count": null,
   "id": "2867bf61",
   "metadata": {},
   "outputs": [
    {
     "name": "stdout",
     "output_type": "stream",
     "text": [
      "Filtering 'Fully Paid' and 'Charged Off' loans...\n"
     ]
    }
   ],
   "source": [
    "# FILTER FOR TARGET STATUS\n",
    "print(\"Filtering 'Fully Paid' and 'Charged Off' loans...\")\n",
    "df = df[df['loan_status'].isin(['Fully Paid', 'Charged Off'])]"
   ]
  },
  {
   "cell_type": "code",
   "execution_count": null,
   "id": "f3927cdc",
   "metadata": {},
   "outputs": [],
   "source": [
    "# DROP NULL NARRATIVES \n",
    "df = df[df['desc'].notna()].copy()"
   ]
  },
  {
   "cell_type": "code",
   "execution_count": null,
   "id": "621f1626",
   "metadata": {},
   "outputs": [],
   "source": [
    "# CREATE BINARY TARGET \n",
    "df['loan_status_binary'] = df['loan_status'].apply(lambda x: 1 if x == 'Charged Off' else 0)"
   ]
  },
  {
   "cell_type": "code",
   "execution_count": null,
   "id": "70b853d3",
   "metadata": {},
   "outputs": [],
   "source": [
    "# SAMPLE BALANCED DATA \n",
    "defaults = df[df['loan_status_binary'] == 1].sample(n=N_DEFAULTS, random_state=42)\n",
    "non_defaults = df[df['loan_status_binary'] == 0].sample(n=N_NON_DEFAULTS, random_state=42)\n",
    "sampled_df = pd.concat([defaults, non_defaults]).sample(frac=1, random_state=42).reset_index(drop=True)"
   ]
  },
  {
   "cell_type": "code",
   "execution_count": null,
   "id": "14c5cf74",
   "metadata": {},
   "outputs": [
    {
     "name": "stdout",
     "output_type": "stream",
     "text": [
      "Saved cleaned sample to: data/cleaned_sample.csv\n"
     ]
    }
   ],
   "source": [
    "# SAVE CLEANED DATA \n",
    "os.makedirs(os.path.dirname(OUTPUT_PATH), exist_ok=True)\n",
    "sampled_df.to_csv(OUTPUT_PATH, index=False)\n",
    "print(f\"Saved cleaned sample to: {OUTPUT_PATH}\")"
   ]
  }
 ],
 "metadata": {
  "kernelspec": {
   "display_name": "venv",
   "language": "python",
   "name": "python3"
  },
  "language_info": {
   "codemirror_mode": {
    "name": "ipython",
    "version": 3
   },
   "file_extension": ".py",
   "mimetype": "text/x-python",
   "name": "python",
   "nbconvert_exporter": "python",
   "pygments_lexer": "ipython3",
   "version": "3.12.3"
  }
 },
 "nbformat": 4,
 "nbformat_minor": 5
}
